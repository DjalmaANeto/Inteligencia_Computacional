{
  "nbformat": 4,
  "nbformat_minor": 0,
  "metadata": {
    "colab": {
      "name": "Aprendizagem de Maquina_IFSP.ipynb",
      "provenance": []
    },
    "kernelspec": {
      "name": "python3",
      "display_name": "Python 3"
    }
  },
  "cells": [
    {
      "cell_type": "markdown",
      "metadata": {
        "id": "mublRQ-6Jatu",
        "colab_type": "text"
      },
      "source": [
        "# TENSORFLOW\n",
        "O Tensorflow é uma biblioteca criada pela equipe **Google Brain Team** junto com o grupo de pesquisa **Google's Mach Learning Intelligence** com o objetivo de conduzir pesquisas relacionadas as áreas de Aprendizado de Máquina e Aprendizado Profundo.\n",
        "o TensorFlow combina a álgebra computacional com técnica de otimização, facilitando o cálculo de muitas expressões matemáticas em que o problema é o tempo necessário para executar a computação.\n"
      ]
    },
    {
      "cell_type": "markdown",
      "metadata": {
        "id": "YQQfr3gYOkUE",
        "colab_type": "text"
      },
      "source": [
        "# Conceitos Básicos\n",
        "* Definir, otimizar e calcular eficientemente expressões matemáticas envolvendo matrizes multidimensionais (tensores)\n",
        "* Suporte de programação de redes neurais profundas e técnicas de aprendizado de máquina\n",
        "* Uso transparente da computação em GPU, automatizando o gerenciamento e otimização da mesma memória e dos dados utilizados. O mesmo código pode ser executado em **CPUs** ou **GPUs**. O TensorFlow irá descobrir quais partes do cálculo devem ser movidas para a GPU.\n",
        "* Alta escalabilidade de computação entre máquinas e grandes conjuntos de dados.\n"
      ]
    },
    {
      "cell_type": "markdown",
      "metadata": {
        "id": "V2kqCxNPaOb0",
        "colab_type": "text"
      },
      "source": [
        "# Como funciona o TensorFlow\n",
        "Todas as computações no TensorFlow são representadas como um dataflow graph. Esse grafo é composto por dois elementos:\n",
        "* um conjunto de objetos tf.Operation, que representam as unidades com as operações;\n",
        "* um conjunto de tf.Tensor, que repreentam as unidades com os dados."
      ]
    },
    {
      "cell_type": "markdown",
      "metadata": {
        "id": "3fqrpNA_2vxC",
        "colab_type": "text"
      },
      "source": [
        "# Tensor\n",
        "Tensor é um tipo de estrutura de dados que permite armazenar números em matrizes (“arrays”)\n",
        "de múltiplas dimensões.\n",
        "\n",
        "- Tensores são amplamente utilizados na área de aprendizado de máquina \n",
        "\n",
        "- comum nas RNAs\n",
        "ter tensores de 5 ou mais dimensões.\n",
        "\n",
        "- Importância dos tensores nas RNA é tão grande que um dos principais softwares da área é\n",
        "chamado TensorFlow.\n",
        "\n",
        "- Biblioteca de funções Numpy foi desenvolvida para trabalhar com tensores.\n",
        "\n",
        "- Existem inúmeras funções e métodos na biblioteca Numpy para operar com tensores.\n",
        "\n",
        "## Representação\n",
        "* Um tensor sem dimenensão é representado pela forma [];\n",
        "* Um tensor 1D(vetor) é representado pela forma [k];\n",
        "* Um tensor 2D é representado pela forma [k,m], e assim por diante.\n",
        "\n",
        "## Exemplo\n",
        "Considere um lote de 100 imagens coloridas (RGB) e de tamanho 28x28 px. o Tensor que armazenaria esses dados seria do formato [n_lote, n_altura, n_largura, n_cores], ou, em números [100, 28,28,3]\n"
      ]
    },
    {
      "cell_type": "markdown",
      "metadata": {
        "id": "BKdsL8SyhDnV",
        "colab_type": "text"
      },
      "source": [
        "# https://playground.tensorflow.org"
      ]
    },
    {
      "cell_type": "markdown",
      "metadata": {
        "id": "1RX5W4Y25gWb",
        "colab_type": "text"
      },
      "source": [
        "# KERAS"
      ]
    },
    {
      "cell_type": "markdown",
      "metadata": {
        "id": "MuYLc-9p5kwN",
        "colab_type": "text"
      },
      "source": [
        "O keras é uma ferramenta para desenvolvimento de RNAs deep-learning, baseado na\n",
        "linguagem Python, que fornece uma forma simples e conveniente de construir, treinar e testar\n",
        "uma RNA."
      ]
    },
    {
      "cell_type": "markdown",
      "metadata": {
        "id": "lk5VYGgR5sOz",
        "colab_type": "text"
      },
      "source": [
        "A estrutura fundamental das RNAs são as camadas, que recebem como dado de entrada um\n",
        "tensor e geram como saída outro tensor."
      ]
    },
    {
      "cell_type": "markdown",
      "metadata": {
        "id": "7SsgUg676DCf",
        "colab_type": "text"
      },
      "source": [
        "A criação, treinamento e teste de uma RNA com o Keras é feito nas seguintes etapas:"
      ]
    },
    {
      "cell_type": "markdown",
      "metadata": {
        "id": "CaHW1v83_Rp3",
        "colab_type": "text"
      },
      "source": [
        "1. Definição dos dados de treinamento e de teste;\n",
        "\n",
        "2. Configuração da RNA, que consiste na definição das camadas da RNA para realizar o\n",
        "mapeamento das entradas nas saídas desejadas;\n",
        "\n",
        "3. Compilação da RNA, que também inclui a configuração do processo de treinamento pela\n",
        "escolha da função de custo, do otimizador e da métrica para avaliar o desempenho;\n",
        "\n",
        "4. Treinamento da RNA;\n",
        "\n",
        "5. Teste e avaliação do desempenho da RNA."
      ]
    },
    {
      "cell_type": "markdown",
      "metadata": {
        "id": "46feVEMh_ne4",
        "colab_type": "text"
      },
      "source": [
        "## Dados de treinamento"
      ]
    },
    {
      "cell_type": "markdown",
      "metadata": {
        "id": "sW4McJyA__Ko",
        "colab_type": "text"
      },
      "source": [
        "Nessa etapa os dados de treinamento e teste são organizados em tensores."
      ]
    },
    {
      "cell_type": "markdown",
      "metadata": {
        "id": "zJ4APx8sAOyz",
        "colab_type": "text"
      },
      "source": [
        "Por exemplo:\n",
        "\n",
        "Em um problema de classificação binária onde os dados de entrada de cada exemplo é um vetor coluna com dimensão (nx, 1), a saída é um escalar e existem m exemplos, então os tensores de entrada e de saída da RNA esperado pelo Keras são os seguintes:\n",
        "\n",
        "\n",
        "- Dimensão do tensor de entrada (m, nx), ou seja, nesse caso temos que transpor os vetores\n",
        "de entrada para transformá-los em vetores linha, de forma que quando colocados juntos em\n",
        "uma matriz, cada linha corresponde à entrada de um exemplo;\n",
        "\n",
        "\n",
        "- Dimensão do tensor de saída (m, 1), ou seja, o vetor com as saídas é um vetor coluna,\n",
        "onde cada elemento é a saída esperada de um exemplo"
      ]
    },
    {
      "cell_type": "markdown",
      "metadata": {
        "id": "JifiTuIuA3Dp",
        "colab_type": "text"
      },
      "source": [
        "# Configuração da RNA"
      ]
    },
    {
      "cell_type": "markdown",
      "metadata": {
        "id": "6PkJRXWbA7VQ",
        "colab_type": "text"
      },
      "source": [
        "A estrutura de dados de uma RNA no Keras é chamada de modelo -> um modelo é uma\n",
        "instância que organiza as camadas da RNA.\n",
        "\n",
        "- Um modelo seqüencial, ou RNA seqüencial, consiste de um empilhamento de camadas.\n",
        "\n",
        "- Para podermos usar as funções do Keras devemos antes importá-las para o nosso ambiente de\n",
        "programação, da seguinte forma:"
      ]
    },
    {
      "cell_type": "code",
      "metadata": {
        "id": "M3bArDd82gW8",
        "colab_type": "code",
        "colab": {}
      },
      "source": [
        "from keras.models import Sequential\n",
        "from keras.layers import Dense, Activation"
      ],
      "execution_count": 0,
      "outputs": []
    },
    {
      "cell_type": "markdown",
      "metadata": {
        "id": "GMGGPkcMBgCq",
        "colab_type": "text"
      },
      "source": [
        "Esses dois comandos importam a estrutura de modelo seqüencial e as camadas do tipo\n",
        "totalmente conectadas (densa) e as funções de ativação."
      ]
    },
    {
      "cell_type": "markdown",
      "metadata": {
        "id": "FIlv3FjiBo4a",
        "colab_type": "text"
      },
      "source": [
        "Uma RNA seqüencial pode ser criada simplesmente passando uma lista de instâncias de\n",
        "camadas para o construtor do Keras, da seguinte forma:"
      ]
    },
    {
      "cell_type": "code",
      "metadata": {
        "id": "qf9Vk6llBqNq",
        "colab_type": "code",
        "outputId": "43a39381-75e2-4dbe-acc7-07b6e6e118b7",
        "colab": {
          "base_uri": "https://localhost:8080/",
          "height": 139
        }
      },
      "source": [
        "model = Sequential([\n",
        "  Dense(32, input_shape=(1024,)),\n",
        "  Activation('relu'),\n",
        "  Dense(1),\n",
        "  Activation('sigmoid'),\n",
        "])"
      ],
      "execution_count": 0,
      "outputs": [
        {
          "output_type": "stream",
          "text": [
            "WARNING:tensorflow:From /usr/local/lib/python3.6/dist-packages/keras/backend/tensorflow_backend.py:66: The name tf.get_default_graph is deprecated. Please use tf.compat.v1.get_default_graph instead.\n",
            "\n",
            "WARNING:tensorflow:From /usr/local/lib/python3.6/dist-packages/keras/backend/tensorflow_backend.py:541: The name tf.placeholder is deprecated. Please use tf.compat.v1.placeholder instead.\n",
            "\n",
            "WARNING:tensorflow:From /usr/local/lib/python3.6/dist-packages/keras/backend/tensorflow_backend.py:4432: The name tf.random_uniform is deprecated. Please use tf.random.uniform instead.\n",
            "\n"
          ],
          "name": "stdout"
        }
      ]
    },
    {
      "cell_type": "markdown",
      "metadata": {
        "id": "zrOjPSNoCD9_",
        "colab_type": "text"
      },
      "source": [
        "Esse comando define uma RNA de uma camada intermediária e uma camada de saída com\n",
        "as seguintes características:\n",
        "\n",
        "-  Os dados de entrada de cada exemplo de treinamento são vetores linha de dimensão\n",
        "(1024);\n",
        "\n",
        "-  Observa-se que não é incluída a dimensão do segundo eixo do tensor de entrada no\n",
        "argumento input_shape, porque nesse momento não se conhece o número de\n",
        "exemplos que serão usados no treinamento;\n",
        "\n",
        "- A camada escondida é do tipo densa (totalmente conectada), possui 32 neurônios e a\n",
        "sua função de ativação é Relu;\n",
        "\n",
        "-  A camada de saída é do tipo densa (totalmente conectada), possui 1 único neurônio e a\n",
        "sua função de ativação é sigmóide"
      ]
    },
    {
      "cell_type": "markdown",
      "metadata": {
        "id": "LraOSRZiCUVs",
        "colab_type": "text"
      },
      "source": [
        "A mesma RNA poderia também ser criada em etapas usando comandos para adicionar uma\n",
        "camada por vez, usando o método .add(), como segue:"
      ]
    },
    {
      "cell_type": "code",
      "metadata": {
        "id": "0WRl__qLCoJ3",
        "colab_type": "code",
        "colab": {}
      },
      "source": [
        "from keras import models\n",
        "from keras import layers\n",
        "rna = models.Sequential()\n",
        "rna.add(layers.Dense(units=32, activation='relu', input_dim=1024))\n",
        "rna.add(layers.Dense(units=1, activation='sigmoid'))"
      ],
      "execution_count": 0,
      "outputs": []
    },
    {
      "cell_type": "markdown",
      "metadata": {
        "id": "9iq9u5V5C68V",
        "colab_type": "text"
      },
      "source": [
        "Nesse caso o nome dado ao modelo é rna.\n",
        "\n",
        "- Nesse caso no lugar de importar somente a estrutura de modelo seqüencial, o primeiro\n",
        "comando importa do Keras todos os tipos de modelos.\n",
        "\n",
        "- O segundo comando importa do Keras todos os tipos de camadas, no lugar de somente as\n",
        "camadas do tipo densa, como feito anteriormente.\n",
        "\n",
        "- O terceiro comando cria a instância da RNA usando um modelo sequencial.\n",
        "\n",
        "- O quarto comando adiciona a primeira camada da RNA do tipo densa, com 32 neurônios,\n",
        "com função de ativação Relu, cuja entrada é um vetor linha de dimensão (1024).\n",
        "\n",
        "- O quinto comando adiciona uma segunda camada tipo densa, com um único neurônio, com\n",
        "função de ativação sigmóide."
      ]
    },
    {
      "cell_type": "markdown",
      "metadata": {
        "id": "Bk-I120bDGbN",
        "colab_type": "text"
      },
      "source": [
        "# Dimensão dos dados de Entrada"
      ]
    },
    {
      "cell_type": "markdown",
      "metadata": {
        "id": "KCIUbN2WGG53",
        "colab_type": "text"
      },
      "source": [
        "A RNA precisa saber as dimensões dos dados de entrada, por essa razão a primeira camada\n",
        "em um modelo seqüencial precisa receber a informação sobre as dimensões dos eixos dos\n",
        "dados de entrada.\n",
        "\n",
        "\n",
        "- Observa-se que somente a primeira camada precisa dessa informação -> o Keras\n",
        "automaticamente infere as dimensões dos dados de entrada das outras camadas da RNA usando\n",
        "a informação dos números de neurônios de cada camada.\n",
        "\n",
        "- Existem diversas formas para definir a dimensão dos dados de entrada da RNA:\n",
        "\n",
        "- Passando o argumento input_shape para a primeira camada. Esse argumento é uma tuple\n",
        "de inteiros ou simplesmente None, onde None indica que qualquer número inteiro positivo\n",
        "pode ser esperado;\n",
        "\n",
        "- No argumento input_shape o número de exemplos não é incluído  o Keras infere\n",
        "esse número automaticamente a partir dos dados de entrada fornecidos;\n",
        "\n",
        "- Algumas camadas 2D, tais com as densas, suportam a especificação dos dados de entrada\n",
        "também via argumento input_dim."
      ]
    },
    {
      "cell_type": "code",
      "metadata": {
        "id": "9NCt8UE_G0jb",
        "colab_type": "code",
        "colab": {}
      },
      "source": [
        "rna = models.Sequential()\n",
        "rna.add(Dense(32, input_shape=(1024,)))"
      ],
      "execution_count": 0,
      "outputs": []
    },
    {
      "cell_type": "code",
      "metadata": {
        "id": "kI-UZnJHG3ot",
        "colab_type": "code",
        "colab": {}
      },
      "source": [
        "rna = models.Sequential()\n",
        "rna.add(layers.Dense(32, input_dim=1024))"
      ],
      "execution_count": 0,
      "outputs": []
    },
    {
      "cell_type": "markdown",
      "metadata": {
        "id": "p1lVZy3hHGSr",
        "colab_type": "text"
      },
      "source": [
        "O desenvolvimento de uma RNA exige muitas iterações até se obter um resultado desejável,\n",
        "assim, para evitar executar inúmeras vezes os mesmos comandos de configuração de uma RNA,\n",
        "que podem ser muitos dependendo do tamanho da RNA, pode-se criar uma função para\n",
        "configurar a RNA. Para isso temos, por exemplo, a seguinte função:"
      ]
    },
    {
      "cell_type": "code",
      "metadata": {
        "id": "t5aLICqaHKFE",
        "colab_type": "code",
        "colab": {}
      },
      "source": [
        "def build_model(data_shape):\n",
        "  rna = models.Sequential()\n",
        "  rna.add(layers.Dense(units=64, activation='relu',\n",
        "  input_shape=data_shape))\n",
        "  rna.add(layers.Dense(units=32, activation='relu'))\n",
        "  rna.add(layers.Dense(units=1, activation='sigmoid'))\n",
        "  return rna"
      ],
      "execution_count": 0,
      "outputs": []
    },
    {
      "cell_type": "markdown",
      "metadata": {
        "id": "OsOFr5DoHimK",
        "colab_type": "text"
      },
      "source": [
        "# Visualização da RNA configurada"
      ]
    },
    {
      "cell_type": "markdown",
      "metadata": {
        "id": "WErKMNEaHtN1",
        "colab_type": "text"
      },
      "source": [
        "Para visualizar a arquitetura de uma RNA que foi criada usa-se no Keras o método summary(),\n",
        "com segue:"
      ]
    },
    {
      "cell_type": "code",
      "metadata": {
        "id": "ytUvOopJIc0G",
        "colab_type": "code",
        "outputId": "22c4b78a-b556-40d0-c804-50775b121e9c",
        "colab": {
          "base_uri": "https://localhost:8080/",
          "height": 255
        }
      },
      "source": [
        "data_shape = (12288,)\n",
        "rna = build_model(data_shape)\n",
        "rna.summary()"
      ],
      "execution_count": 0,
      "outputs": [
        {
          "output_type": "stream",
          "text": [
            "Model: \"sequential_6\"\n",
            "_________________________________________________________________\n",
            "Layer (type)                 Output Shape              Param #   \n",
            "=================================================================\n",
            "dense_9 (Dense)              (None, 64)                786496    \n",
            "_________________________________________________________________\n",
            "dense_10 (Dense)             (None, 32)                2080      \n",
            "_________________________________________________________________\n",
            "dense_11 (Dense)             (None, 1)                 33        \n",
            "=================================================================\n",
            "Total params: 788,609\n",
            "Trainable params: 788,609\n",
            "Non-trainable params: 0\n",
            "_________________________________________________________________\n"
          ],
          "name": "stdout"
        }
      ]
    },
    {
      "cell_type": "code",
      "metadata": {
        "id": "smJIw27LIw6T",
        "colab_type": "code",
        "outputId": "4a8e3d8e-e9f4-44da-892a-cb03d73276f8",
        "colab": {
          "base_uri": "https://localhost:8080/",
          "height": 422
        }
      },
      "source": [
        "from keras.utils import plot_model\n",
        "import pydot\n",
        "plot_model(rna, to_file='rna.png', show_shapes=True)"
      ],
      "execution_count": 0,
      "outputs": [
        {
          "output_type": "execute_result",
          "data": {
            "image/png": "[encoded data removed]",
            "text/plain": [
              "<IPython.core.display.Image object>"
            ]
          },
          "metadata": {
            "tags": []
          },
          "execution_count": 12
        }
      ]
    },
    {
      "cell_type": "markdown",
      "metadata": {
        "id": "QqNQmeMrI8-2",
        "colab_type": "text"
      },
      "source": [
        "# Compilação\n"
      ]
    },
    {
      "cell_type": "markdown",
      "metadata": {
        "id": "_8Ot4XDuJAuP",
        "colab_type": "text"
      },
      "source": [
        "A geração da RNA é realizada na etapa de compilação, onde é escolhida a função de custo,\n",
        "uma métrica para avaliação da RNA e configurado o método de treinamento.\n",
        "\n",
        "-> Um exemplo simples de compilação de uma RNA é o seguinte:"
      ]
    },
    {
      "cell_type": "code",
      "metadata": {
        "id": "U2rZHmp5JO4S",
        "colab_type": "code",
        "colab": {}
      },
      "source": [
        ""
      ],
      "execution_count": 0,
      "outputs": []
    },
    {
      "cell_type": "code",
      "metadata": {
        "id": "ZYpgIOzlJPMB",
        "colab_type": "code",
        "outputId": "36fa2b0f-23fb-4672-ae0e-25dd09010143",
        "colab": {
          "base_uri": "https://localhost:8080/",
          "height": 141
        }
      },
      "source": [
        "from keras import optimizers\n",
        "rna.compile(optimizer='SGD', loss='binary_crossentropy',\n",
        "metrics=['accuracy'])"
      ],
      "execution_count": 0,
      "outputs": [
        {
          "output_type": "stream",
          "text": [
            "WARNING:tensorflow:From /usr/local/lib/python3.6/dist-packages/keras/optimizers.py:793: The name tf.train.Optimizer is deprecated. Please use tf.compat.v1.train.Optimizer instead.\n",
            "\n",
            "WARNING:tensorflow:From /usr/local/lib/python3.6/dist-packages/keras/backend/tensorflow_backend.py:3657: The name tf.log is deprecated. Please use tf.math.log instead.\n",
            "\n",
            "WARNING:tensorflow:From /usr/local/lib/python3.6/dist-packages/tensorflow_core/python/ops/nn_impl.py:183: where (from tensorflow.python.ops.array_ops) is deprecated and will be removed in a future version.\n",
            "Instructions for updating:\n",
            "Use tf.where in 2.0, which has the same broadcast rule as np.where\n"
          ],
          "name": "stdout"
        }
      ]
    },
    {
      "cell_type": "markdown",
      "metadata": {
        "id": "5URn8R9bJgig",
        "colab_type": "text"
      },
      "source": [
        "- O primeiro comando importa do Keras os otimizadores.\n",
        "- O segundo comando gera e compila a RNA definindo o seguinte:\n",
        "- Método de otimização -> gradiente descendente;\n",
        "- Função de custo -> função logística, também chamada de entropia cruzada binária;\n",
        "- Métrica -> exatidão (veremos isso com detalhes nas próximas aulas)."
      ]
    },
    {
      "cell_type": "markdown",
      "metadata": {
        "id": "OPvdE53wWuMT",
        "colab_type": "text"
      },
      "source": [
        "# Salvar uma RNA treinada"
      ]
    },
    {
      "cell_type": "markdown",
      "metadata": {
        "id": "cOX8qQSAXipC",
        "colab_type": "text"
      },
      "source": [
        "Após desenvolvermos uma RNA podemos salvá-la em um arquivo para podemos utilizá-la\n",
        "posteriormente.\n",
        "\n",
        "- Podemos salvar somente a arquitetura da rede, ou somente seus parâmetros, ou ainda a\n",
        "arquitetura e seus parâmetros."
      ]
    },
    {
      "cell_type": "markdown",
      "metadata": {
        "id": "L-CLiE3kX795",
        "colab_type": "text"
      },
      "source": [
        "# Salvando uma RNA completa"
      ]
    },
    {
      "cell_type": "markdown",
      "metadata": {
        "id": "G6o_Kt2qX-30",
        "colab_type": "text"
      },
      "source": [
        "Para salvar uma RNA desenvolvida com o Keras usamos o método\n",
        "save(file_path_and_name) -> nesse caso a RNA é salva em um arquivo no formato\n",
        "HDF5 que contém:\n",
        "\n",
        "- A arquitetura da RNA;\n",
        "- Os parâmetros da RNA;\n",
        "- Os parâmetros do otimizador usado para treinar a RNA;\n",
        "- O estado do otimizador para permitir continuar o treinamento exatamente de onde parou.\n",
        "\n",
        "Tendo uma RNA salva em um arquivo do formato HDF5 podemos usar o método\n",
        "load_model(file_path_and_name) para restabelecer a RNA da mesma forma que era\n",
        "quando foi salva.\n",
        "\n",
        "- Um exemplo de uso desses dois métodos é o seguinte:"
      ]
    },
    {
      "cell_type": "markdown",
      "metadata": {
        "id": "itMUT4uWX7fL",
        "colab_type": "text"
      },
      "source": [
        ""
      ]
    },
    {
      "cell_type": "code",
      "metadata": {
        "id": "WJs8EomSXyn3",
        "colab_type": "code",
        "outputId": "ebeb661d-e998-4bcd-eafe-140f66423a6f",
        "colab": {
          "base_uri": "https://localhost:8080/",
          "height": 294
        }
      },
      "source": [
        "# Importa função do Keras para salvar modelos e biblioteca para manipular arquivos no formato HDF5\n",
        "from keras.models import load_model\n",
        "import h5py\n",
        "# Salva RNA e cria um arquivo formato HDF5 de nome RNA.h5 no diretório corrente\n",
        "rna.save('RNA.h5') # RNA.h5 é o nome do arquivo onde a rna é salva\n",
        "# Apaga a rna existente\n",
        "del rna\n",
        "# Recupera a rna do arquivo RNA.h5\n",
        "rna = load_model('RNA.h5')"
      ],
      "execution_count": 0,
      "outputs": [
        {
          "output_type": "stream",
          "text": [
            "Using TensorFlow backend.\n"
          ],
          "name": "stderr"
        },
        {
          "output_type": "display_data",
          "data": {
            "text/html": [
              "<p style=\"color: red;\">\n",
              "The default version of TensorFlow in Colab will soon switch to TensorFlow 2.x.<br>\n",
              "We recommend you <a href=\"https://www.tensorflow.org/guide/migrate\" target=\"_blank\">upgrade</a> now \n",
              "or ensure your notebook will continue to use TensorFlow 1.x via the <code>%tensorflow_version 1.x</code> magic:\n",
              "<a href=\"https://colab.research.google.com/notebooks/tensorflow_version.ipynb\" target=\"_blank\">more info</a>.</p>\n"
            ],
            "text/plain": [
              "<IPython.core.display.HTML object>"
            ]
          },
          "metadata": {
            "tags": []
          }
        },
        {
          "output_type": "error",
          "ename": "NameError",
          "evalue": "ignored",
          "traceback": [
            "\u001b[0;31m---------------------------------------------------------------------------\u001b[0m",
            "\u001b[0;31mNameError\u001b[0m                                 Traceback (most recent call last)",
            "\u001b[0;32m<ipython-input-1-4e3a7006cdfb>\u001b[0m in \u001b[0;36m<module>\u001b[0;34m()\u001b[0m\n\u001b[1;32m      2\u001b[0m \u001b[0;32mimport\u001b[0m \u001b[0mh5py\u001b[0m\u001b[0;34m\u001b[0m\u001b[0;34m\u001b[0m\u001b[0m\n\u001b[1;32m      3\u001b[0m \u001b[0;31m# Salva RNA e cria um arquivo formato HDF5 de nome RNA.h5 no diretório corrente\u001b[0m\u001b[0;34m\u001b[0m\u001b[0;34m\u001b[0m\u001b[0;34m\u001b[0m\u001b[0m\n\u001b[0;32m----> 4\u001b[0;31m \u001b[0mrna\u001b[0m\u001b[0;34m.\u001b[0m\u001b[0msave\u001b[0m\u001b[0;34m(\u001b[0m\u001b[0;34m'RNA.h5'\u001b[0m\u001b[0;34m)\u001b[0m \u001b[0;31m# RNA.h5 é o nome do arquivo onde a rna é salva\u001b[0m\u001b[0;34m\u001b[0m\u001b[0;34m\u001b[0m\u001b[0m\n\u001b[0m\u001b[1;32m      5\u001b[0m \u001b[0;31m# Apaga a rna existente\u001b[0m\u001b[0;34m\u001b[0m\u001b[0;34m\u001b[0m\u001b[0;34m\u001b[0m\u001b[0m\n\u001b[1;32m      6\u001b[0m \u001b[0;32mdel\u001b[0m \u001b[0mrna\u001b[0m\u001b[0;34m\u001b[0m\u001b[0;34m\u001b[0m\u001b[0m\n",
            "\u001b[0;31mNameError\u001b[0m: name 'rna' is not defined"
          ]
        }
      ]
    }
  ]
}