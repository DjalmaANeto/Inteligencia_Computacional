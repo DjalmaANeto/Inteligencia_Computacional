{
  "nbformat": 4,
  "nbformat_minor": 0,
  "metadata": {
    "colab": {
      "name": "FAAP - Pratico 02",
      "provenance": [],
      "collapsed_sections": []
    },
    "kernelspec": {
      "name": "python3",
      "display_name": "Python 3"
    }
  },
  "cells": [
    {
      "cell_type": "markdown",
      "metadata": {
        "id": "C_c7e9Gpwk_z",
        "colab_type": "text"
      },
      "source": [
        "# Carregar bibliotecas"
      ]
    },
    {
      "cell_type": "code",
      "metadata": {
        "id": "J0z-00uRwkaj",
        "colab_type": "code",
        "outputId": "2ae4229a-3924-42b5-d051-fc06e21d0d67",
        "colab": {
          "base_uri": "https://localhost:8080/",
          "height": 99
        }
      },
      "source": [
        "  from __future__ import absolute_import, division, print_function, unicode_literals\n",
        "  import pathlib\n",
        "\n",
        "  import pandas as pd \n",
        "  # O pandas é uma biblioteca de código aberto que fornece estruturas de dados de \n",
        "  # alto desempenho e fáceis de usar e ferramentas de análise\n",
        "\n",
        "  import io           \n",
        "  # entrada e saída. \n",
        "  # O módulo io fornece as interfaces Python para o fluxo de manipulação.\n",
        "\n",
        "  import matplotlib.pyplot as plt \n",
        "  # O Matplotlib é uma biblioteca de plotagem 2D do Python\n",
        "  # mais detalhes em: https://matplotlib.org/3.1.1/api/_as_gen/matplotlib.pyplot.html\n",
        "\n",
        "  !pip install -q seaborn\n",
        "  import seaborn as sns\n",
        "  # Seaborn é uma biblioteca de visualização de dados Python baseada no matplotlib. \n",
        "  # Ela fornece uma interface de alto nível para desenhar gráficos estatísticos.\n",
        "\n",
        "  from sklearn import preprocessing \n",
        "  from sklearn.preprocessing import MinMaxScaler\n",
        "  # Ferramentas simples e eficientes para mineração e análise de dados\n",
        "\n",
        "  import tensorflow as tf\n",
        "  from tensorflow import keras\n",
        "  from tensorflow.keras import layers\n",
        "\n",
        "  from keras.models import Sequential\n",
        "  from keras.layers import Dense, Activation\n"
      ],
      "execution_count": 0,
      "outputs": [
        {
          "output_type": "display_data",
          "data": {
            "text/html": [
              "<p style=\"color: red;\">\n",
              "The default version of TensorFlow in Colab will soon switch to TensorFlow 2.x.<br>\n",
              "We recommend you <a href=\"https://www.tensorflow.org/guide/migrate\" target=\"_blank\">upgrade</a> now \n",
              "or ensure your notebook will continue to use TensorFlow 1.x via the <code>%tensorflow_version 1.x</code> magic:\n",
              "<a href=\"https://colab.research.google.com/notebooks/tensorflow_version.ipynb\" target=\"_blank\">more info</a>.</p>\n"
            ],
            "text/plain": [
              "<IPython.core.display.HTML object>"
            ]
          },
          "metadata": {
            "tags": []
          }
        },
        {
          "output_type": "stream",
          "text": [
            "Using TensorFlow backend.\n"
          ],
          "name": "stderr"
        }
      ]
    },
    {
      "cell_type": "markdown",
      "metadata": {
        "id": "hRFXogthvXaO",
        "colab_type": "text"
      },
      "source": [
        "# Inserir dados na Nuvem\n",
        "\n",
        "\n",
        "* Você tem algumas opções para ler os dados: \n",
        "\n",
        "* Pode ser de um link de repositório\n",
        "* Pode ser do google drive\n",
        "* Também pode fazer o upload do seu diretório\n",
        "\n",
        "\n",
        "\n"
      ]
    },
    {
      "cell_type": "markdown",
      "metadata": {
        "id": "EhlaPgLDmV9b",
        "colab_type": "text"
      },
      "source": [
        "** Exemplo de como baixar dados já disponíveis em links **"
      ]
    },
    {
      "cell_type": "code",
      "metadata": {
        "id": "7drUIoH0mk7W",
        "colab_type": "code",
        "outputId": "db21f99f-b359-4cbd-bd86-9172d05e317b",
        "colab": {
          "base_uri": "https://localhost:8080/",
          "height": 69
        }
      },
      "source": [
        "dataset_path = keras.utils.get_file(\"auto-mpg.data\", \"http://archive.ics.uci.edu/ml/machine-learning-databases/auto-mpg/auto-mpg.data\")\n",
        "dataset_path"
      ],
      "execution_count": 0,
      "outputs": [
        {
          "output_type": "stream",
          "text": [
            "Downloading data from http://archive.ics.uci.edu/ml/machine-learning-databases/auto-mpg/auto-mpg.data\n",
            "32768/30286 [================================] - 0s 4us/step\n"
          ],
          "name": "stdout"
        },
        {
          "output_type": "execute_result",
          "data": {
            "text/plain": [
              "'/root/.keras/datasets/auto-mpg.data'"
            ]
          },
          "metadata": {
            "tags": []
          },
          "execution_count": 2
        }
      ]
    },
    {
      "cell_type": "code",
      "metadata": {
        "id": "HSRtGuZYtWhj",
        "colab_type": "code",
        "outputId": "8fa953ce-ae87-4ee5-a0bd-8aad124e9d12",
        "colab": {
          "resources": {
            "http://localhost:8080/nbextensions/google.colab/files.js": {
              "data": "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",
              "ok": true,
              "headers": [
                [
                  "content-type",
                  "application/javascript"
                ]
              ],
              "status": 200,
              "status_text": ""
            }
          },
          "base_uri": "https://localhost:8080/",
          "height": 93
        }
      },
      "source": [
        "from google.colab import files\n",
        "uploaded = files.upload()"
      ],
      "execution_count": 0,
      "outputs": [
        {
          "output_type": "display_data",
          "data": {
            "text/html": [
              "\n",
              "     <input type=\"file\" id=\"files-9a61fbde-86f8-4df9-8753-1431263e3004\" name=\"files[]\" multiple disabled />\n",
              "     <output id=\"result-9a61fbde-86f8-4df9-8753-1431263e3004\">\n",
              "      Upload widget is only available when the cell has been executed in the\n",
              "      current browser session. Please rerun this cell to enable.\n",
              "      </output>\n",
              "      <script src=\"/nbextensions/google.colab/files.js\"></script> "
            ],
            "text/plain": [
              "<IPython.core.display.HTML object>"
            ]
          },
          "metadata": {
            "tags": []
          }
        },
        {
          "output_type": "stream",
          "text": [
            "Saving Equipes.xlsx to Equipes.xlsx\n"
          ],
          "name": "stdout"
        }
      ]
    },
    {
      "cell_type": "markdown",
      "metadata": {
        "id": "JaMPppmywGbh",
        "colab_type": "text"
      },
      "source": [
        "# Carregar dados\n",
        "\n",
        "* O passo seguinte, você pode carregar os seus dados a partir dos arquivos que fez upload:"
      ]
    },
    {
      "cell_type": "code",
      "metadata": {
        "id": "za3MkonKwT3Y",
        "colab_type": "code",
        "colab": {}
      },
      "source": [
        "dataset = pd.read_excel(io.BytesIO(uploaded['Equipes.xlsx']))"
      ],
      "execution_count": 0,
      "outputs": []
    },
    {
      "cell_type": "markdown",
      "metadata": {
        "id": "JtWWOoCUnjIw",
        "colab_type": "text"
      },
      "source": [
        "* Você também pode ler dados com extensão csv\n",
        "\n",
        "dataset = pd.read_csv('NomeDoArquivo.csv')\n",
        "\n",
        "Mais informações em [link text](https://pandas.pydata.org/pandas-docs/stable/user_guide/io.html)"
      ]
    },
    {
      "cell_type": "markdown",
      "metadata": {
        "id": "7VNwOcxQxsFe",
        "colab_type": "text"
      },
      "source": [
        "# Visualizar dados\n"
      ]
    },
    {
      "cell_type": "code",
      "metadata": {
        "id": "H7sWcORAx1eE",
        "colab_type": "code",
        "outputId": "09929eda-e5f1-43d5-eff4-f36dbff1182d",
        "colab": {
          "base_uri": "https://localhost:8080/",
          "height": 415
        }
      },
      "source": [
        "dataset"
      ],
      "execution_count": 0,
      "outputs": [
        {
          "output_type": "execute_result",
          "data": {
            "text/html": [
              "<div>\n",
              "<style scoped>\n",
              "    .dataframe tbody tr th:only-of-type {\n",
              "        vertical-align: middle;\n",
              "    }\n",
              "\n",
              "    .dataframe tbody tr th {\n",
              "        vertical-align: top;\n",
              "    }\n",
              "\n",
              "    .dataframe thead th {\n",
              "        text-align: right;\n",
              "    }\n",
              "</style>\n",
              "<table border=\"1\" class=\"dataframe\">\n",
              "  <thead>\n",
              "    <tr style=\"text-align: right;\">\n",
              "      <th></th>\n",
              "      <th>Data</th>\n",
              "      <th>ANO</th>\n",
              "      <th>MÊS</th>\n",
              "      <th>CSD</th>\n",
              "      <th>EQUIPES_</th>\n",
              "      <th>CSD_NOME</th>\n",
              "    </tr>\n",
              "  </thead>\n",
              "  <tbody>\n",
              "    <tr>\n",
              "      <th>0</th>\n",
              "      <td>2011-01-01</td>\n",
              "      <td>2011</td>\n",
              "      <td>1</td>\n",
              "      <td>GUL</td>\n",
              "      <td>13</td>\n",
              "      <td>GUARULHOS</td>\n",
              "    </tr>\n",
              "    <tr>\n",
              "      <th>1</th>\n",
              "      <td>2011-01-01</td>\n",
              "      <td>2011</td>\n",
              "      <td>1</td>\n",
              "      <td>GUR</td>\n",
              "      <td>23</td>\n",
              "      <td>GUARATINGUETA</td>\n",
              "    </tr>\n",
              "    <tr>\n",
              "      <th>2</th>\n",
              "      <td>2011-01-01</td>\n",
              "      <td>2011</td>\n",
              "      <td>1</td>\n",
              "      <td>LIT</td>\n",
              "      <td>12</td>\n",
              "      <td>LITORAL NORTE</td>\n",
              "    </tr>\n",
              "    <tr>\n",
              "      <th>3</th>\n",
              "      <td>2011-01-01</td>\n",
              "      <td>2011</td>\n",
              "      <td>1</td>\n",
              "      <td>MCR</td>\n",
              "      <td>11</td>\n",
              "      <td>MOGI DAS CRUZES</td>\n",
              "    </tr>\n",
              "    <tr>\n",
              "      <th>4</th>\n",
              "      <td>2011-01-01</td>\n",
              "      <td>2011</td>\n",
              "      <td>1</td>\n",
              "      <td>SJC</td>\n",
              "      <td>20</td>\n",
              "      <td>SÃO JOSE DOS CAMPOS</td>\n",
              "    </tr>\n",
              "    <tr>\n",
              "      <th>...</th>\n",
              "      <td>...</td>\n",
              "      <td>...</td>\n",
              "      <td>...</td>\n",
              "      <td>...</td>\n",
              "      <td>...</td>\n",
              "      <td>...</td>\n",
              "    </tr>\n",
              "    <tr>\n",
              "      <th>20616</th>\n",
              "      <td>2019-09-15</td>\n",
              "      <td>2019</td>\n",
              "      <td>9</td>\n",
              "      <td>GUR</td>\n",
              "      <td>17</td>\n",
              "      <td>GUARATINGUETA</td>\n",
              "    </tr>\n",
              "    <tr>\n",
              "      <th>20617</th>\n",
              "      <td>2019-09-15</td>\n",
              "      <td>2019</td>\n",
              "      <td>9</td>\n",
              "      <td>LIT</td>\n",
              "      <td>22</td>\n",
              "      <td>LITORAL NORTE</td>\n",
              "    </tr>\n",
              "    <tr>\n",
              "      <th>20618</th>\n",
              "      <td>2019-09-15</td>\n",
              "      <td>2019</td>\n",
              "      <td>9</td>\n",
              "      <td>MCR</td>\n",
              "      <td>12</td>\n",
              "      <td>MOGI DAS CRUZES</td>\n",
              "    </tr>\n",
              "    <tr>\n",
              "      <th>20619</th>\n",
              "      <td>2019-09-15</td>\n",
              "      <td>2019</td>\n",
              "      <td>9</td>\n",
              "      <td>SJC</td>\n",
              "      <td>22</td>\n",
              "      <td>SÃO JOSE DOS CAMPOS</td>\n",
              "    </tr>\n",
              "    <tr>\n",
              "      <th>20620</th>\n",
              "      <td>2019-09-15</td>\n",
              "      <td>2019</td>\n",
              "      <td>9</td>\n",
              "      <td>SUZ</td>\n",
              "      <td>15</td>\n",
              "      <td>POÁ</td>\n",
              "    </tr>\n",
              "  </tbody>\n",
              "</table>\n",
              "<p>20621 rows × 6 columns</p>\n",
              "</div>"
            ],
            "text/plain": [
              "            Data   ANO  MÊS  CSD  EQUIPES_             CSD_NOME\n",
              "0     2011-01-01  2011    1  GUL        13            GUARULHOS\n",
              "1     2011-01-01  2011    1  GUR        23        GUARATINGUETA\n",
              "2     2011-01-01  2011    1  LIT        12        LITORAL NORTE\n",
              "3     2011-01-01  2011    1  MCR        11      MOGI DAS CRUZES\n",
              "4     2011-01-01  2011    1  SJC        20  SÃO JOSE DOS CAMPOS\n",
              "...          ...   ...  ...  ...       ...                  ...\n",
              "20616 2019-09-15  2019    9  GUR        17        GUARATINGUETA\n",
              "20617 2019-09-15  2019    9  LIT        22        LITORAL NORTE\n",
              "20618 2019-09-15  2019    9  MCR        12      MOGI DAS CRUZES\n",
              "20619 2019-09-15  2019    9  SJC        22  SÃO JOSE DOS CAMPOS\n",
              "20620 2019-09-15  2019    9  SUZ        15                  POÁ\n",
              "\n",
              "[20621 rows x 6 columns]"
            ]
          },
          "metadata": {
            "tags": []
          },
          "execution_count": 4
        }
      ]
    },
    {
      "cell_type": "markdown",
      "metadata": {
        "id": "4m66qYqQpJQr",
        "colab_type": "text"
      },
      "source": [
        "# Tipo de dados"
      ]
    },
    {
      "cell_type": "markdown",
      "metadata": {
        "id": "9dJb9hDbpOMw",
        "colab_type": "text"
      },
      "source": [
        "Você pode ver os tipos das variáveis que acabou de carregar.\n",
        "\n",
        "Mais informações em: [link text](https://pandas.pydata.org/pandas-docs/stable/user_guide/io.html)"
      ]
    },
    {
      "cell_type": "code",
      "metadata": {
        "id": "-87R8mZDyArw",
        "colab_type": "code",
        "outputId": "d46f2a36-13f9-41df-9188-e62d4145b56b",
        "colab": {
          "base_uri": "https://localhost:8080/",
          "height": 139
        }
      },
      "source": [
        "dataset.dtypes\n"
      ],
      "execution_count": 0,
      "outputs": [
        {
          "output_type": "execute_result",
          "data": {
            "text/plain": [
              "Data        datetime64[ns]\n",
              "ANO                  int64\n",
              "MÊS                  int64\n",
              "CSD                 object\n",
              "EQUIPES_             int64\n",
              "CSD_NOME            object\n",
              "dtype: object"
            ]
          },
          "metadata": {
            "tags": []
          },
          "execution_count": 5
        }
      ]
    },
    {
      "cell_type": "markdown",
      "metadata": {
        "id": "A1Er_vSqqB18",
        "colab_type": "text"
      },
      "source": [
        "# Limpar dados"
      ]
    },
    {
      "cell_type": "markdown",
      "metadata": {
        "id": "cGkofEgXqFf3",
        "colab_type": "text"
      },
      "source": [
        "Muitas vezes é necessário limpar os dados. Vamos verificar se existem dados incompletos na nossa Tabela."
      ]
    },
    {
      "cell_type": "code",
      "metadata": {
        "id": "aO2Y_8iMqa1t",
        "colab_type": "code",
        "outputId": "cba4ca13-5dcc-45d9-a58c-e3dfc62dc219",
        "colab": {
          "base_uri": "https://localhost:8080/",
          "height": 139
        }
      },
      "source": [
        "dataset.isna().sum()"
      ],
      "execution_count": 0,
      "outputs": [
        {
          "output_type": "execute_result",
          "data": {
            "text/plain": [
              "Data        0\n",
              "ANO         0\n",
              "MÊS         0\n",
              "CSD         0\n",
              "EQUIPES_    0\n",
              "CSD_NOME    0\n",
              "dtype: int64"
            ]
          },
          "metadata": {
            "tags": []
          },
          "execution_count": 6
        }
      ]
    },
    {
      "cell_type": "markdown",
      "metadata": {
        "id": "8BAf3JuBqp2d",
        "colab_type": "text"
      },
      "source": [
        "Neste caso, não temos nenhum dado faltando. Se tivesse poderíamos eliminá-los com o código:\n",
        "\n",
        "dataset = dataset.dropna()"
      ]
    },
    {
      "cell_type": "markdown",
      "metadata": {
        "id": "SZoC9Sb0q12J",
        "colab_type": "text"
      },
      "source": [
        "Assim  como fizemos no Orange, podemos plotar estatísticas dos nossos dados."
      ]
    },
    {
      "cell_type": "code",
      "metadata": {
        "id": "DngJ1dxmq1PV",
        "colab_type": "code",
        "outputId": "ba807069-de9b-4207-fc05-0c324977e4fe",
        "colab": {
          "base_uri": "https://localhost:8080/",
          "height": 368
        }
      },
      "source": [
        "dataset.hist()\n"
      ],
      "execution_count": 0,
      "outputs": [
        {
          "output_type": "execute_result",
          "data": {
            "text/plain": [
              "array([[<matplotlib.axes._subplots.AxesSubplot object at 0x7f6451fc6710>,\n",
              "        <matplotlib.axes._subplots.AxesSubplot object at 0x7f6451fa6cf8>],\n",
              "       [<matplotlib.axes._subplots.AxesSubplot object at 0x7f6451f662e8>,\n",
              "        <matplotlib.axes._subplots.AxesSubplot object at 0x7f6451f15898>]],\n",
              "      dtype=object)"
            ]
          },
          "metadata": {
            "tags": []
          },
          "execution_count": 7
        },
        {
          "output_type": "display_data",
          "data": {
            "image/png": "[encoded data removed]",
            "text/plain": [
              "<Figure size 432x288 with 4 Axes>"
            ]
          },
          "metadata": {
            "tags": []
          }
        }
      ]
    },
    {
      "cell_type": "markdown",
      "metadata": {
        "id": "xvp4S2f9sURH",
        "colab_type": "text"
      },
      "source": [
        "# Plotar gráficos"
      ]
    },
    {
      "cell_type": "markdown",
      "metadata": {
        "id": "eeUxLiK9sYKL",
        "colab_type": "text"
      },
      "source": [
        "https://matplotlib.org/3.1.1/tutorials/introductory/pyplot.html\n",
        "\n",
        "Exemplo de código: \n",
        "\n",
        "plt.show()"
      ]
    },
    {
      "cell_type": "markdown",
      "metadata": {
        "id": "NU-RFJtwt9iz",
        "colab_type": "text"
      },
      "source": [
        "\n",
        "# Como separar Linhas\n",
        "\n"
      ]
    },
    {
      "cell_type": "markdown",
      "metadata": {
        "id": "EFBpnfBwuFo2",
        "colab_type": "text"
      },
      "source": [
        "No nosso exemplo, vamos deixar no dataset somente os dados de São José dos Campos"
      ]
    },
    {
      "cell_type": "code",
      "metadata": {
        "id": "bI8iOqzjuL6o",
        "colab_type": "code",
        "colab": {}
      },
      "source": [
        "datasetCid = dataset.loc[(dataset.CSD == 'SJC')]\n"
      ],
      "execution_count": 0,
      "outputs": []
    },
    {
      "cell_type": "markdown",
      "metadata": {
        "id": "b2TePIYWy0Ma",
        "colab_type": "text"
      },
      "source": [
        "Mais detalhes em [link text](https://datatofish.com/select-rows-pandas-dataframe/)"
      ]
    },
    {
      "cell_type": "code",
      "metadata": {
        "id": "fbwtGjSUylwW",
        "colab_type": "code",
        "outputId": "bd585229-75a8-4f9b-ab24-fdc56651c229",
        "colab": {
          "base_uri": "https://localhost:8080/",
          "height": 402
        }
      },
      "source": [
        "datasetCid"
      ],
      "execution_count": 0,
      "outputs": [
        {
          "output_type": "execute_result",
          "data": {
            "text/html": [
              "<div>\n",
              "<style scoped>\n",
              "    .dataframe tbody tr th:only-of-type {\n",
              "        vertical-align: middle;\n",
              "    }\n",
              "\n",
              "    .dataframe tbody tr th {\n",
              "        vertical-align: top;\n",
              "    }\n",
              "\n",
              "    .dataframe thead th {\n",
              "        text-align: right;\n",
              "    }\n",
              "</style>\n",
              "<table border=\"1\" class=\"dataframe\">\n",
              "  <thead>\n",
              "    <tr style=\"text-align: right;\">\n",
              "      <th></th>\n",
              "      <th>Data</th>\n",
              "      <th>ANO</th>\n",
              "      <th>MÊS</th>\n",
              "      <th>CSD</th>\n",
              "      <th>EQUIPES_</th>\n",
              "      <th>CSD_NOME</th>\n",
              "    </tr>\n",
              "  </thead>\n",
              "  <tbody>\n",
              "    <tr>\n",
              "      <th>4</th>\n",
              "      <td>2011-01-01</td>\n",
              "      <td>2011</td>\n",
              "      <td>1</td>\n",
              "      <td>SJC</td>\n",
              "      <td>20</td>\n",
              "      <td>SÃO JOSE DOS CAMPOS</td>\n",
              "    </tr>\n",
              "    <tr>\n",
              "      <th>10</th>\n",
              "      <td>2011-01-02</td>\n",
              "      <td>2011</td>\n",
              "      <td>1</td>\n",
              "      <td>SJC</td>\n",
              "      <td>16</td>\n",
              "      <td>SÃO JOSE DOS CAMPOS</td>\n",
              "    </tr>\n",
              "    <tr>\n",
              "      <th>16</th>\n",
              "      <td>2011-01-03</td>\n",
              "      <td>2011</td>\n",
              "      <td>1</td>\n",
              "      <td>SJC</td>\n",
              "      <td>14</td>\n",
              "      <td>SÃO JOSE DOS CAMPOS</td>\n",
              "    </tr>\n",
              "    <tr>\n",
              "      <th>22</th>\n",
              "      <td>2011-01-04</td>\n",
              "      <td>2011</td>\n",
              "      <td>1</td>\n",
              "      <td>SJC</td>\n",
              "      <td>17</td>\n",
              "      <td>SÃO JOSE DOS CAMPOS</td>\n",
              "    </tr>\n",
              "    <tr>\n",
              "      <th>28</th>\n",
              "      <td>2011-01-05</td>\n",
              "      <td>2011</td>\n",
              "      <td>1</td>\n",
              "      <td>SJC</td>\n",
              "      <td>17</td>\n",
              "      <td>SÃO JOSE DOS CAMPOS</td>\n",
              "    </tr>\n",
              "    <tr>\n",
              "      <th>...</th>\n",
              "      <td>...</td>\n",
              "      <td>...</td>\n",
              "      <td>...</td>\n",
              "      <td>...</td>\n",
              "      <td>...</td>\n",
              "      <td>...</td>\n",
              "    </tr>\n",
              "    <tr>\n",
              "      <th>20595</th>\n",
              "      <td>2019-09-11</td>\n",
              "      <td>2019</td>\n",
              "      <td>9</td>\n",
              "      <td>SJC</td>\n",
              "      <td>21</td>\n",
              "      <td>SÃO JOSE DOS CAMPOS</td>\n",
              "    </tr>\n",
              "    <tr>\n",
              "      <th>20601</th>\n",
              "      <td>2019-09-12</td>\n",
              "      <td>2019</td>\n",
              "      <td>9</td>\n",
              "      <td>SJC</td>\n",
              "      <td>20</td>\n",
              "      <td>SÃO JOSE DOS CAMPOS</td>\n",
              "    </tr>\n",
              "    <tr>\n",
              "      <th>20607</th>\n",
              "      <td>2019-09-13</td>\n",
              "      <td>2019</td>\n",
              "      <td>9</td>\n",
              "      <td>SJC</td>\n",
              "      <td>22</td>\n",
              "      <td>SÃO JOSE DOS CAMPOS</td>\n",
              "    </tr>\n",
              "    <tr>\n",
              "      <th>20613</th>\n",
              "      <td>2019-09-14</td>\n",
              "      <td>2019</td>\n",
              "      <td>9</td>\n",
              "      <td>SJC</td>\n",
              "      <td>21</td>\n",
              "      <td>SÃO JOSE DOS CAMPOS</td>\n",
              "    </tr>\n",
              "    <tr>\n",
              "      <th>20619</th>\n",
              "      <td>2019-09-15</td>\n",
              "      <td>2019</td>\n",
              "      <td>9</td>\n",
              "      <td>SJC</td>\n",
              "      <td>22</td>\n",
              "      <td>SÃO JOSE DOS CAMPOS</td>\n",
              "    </tr>\n",
              "  </tbody>\n",
              "</table>\n",
              "<p>3163 rows × 6 columns</p>\n",
              "</div>"
            ],
            "text/plain": [
              "            Data   ANO  MÊS  CSD  EQUIPES_             CSD_NOME\n",
              "4     2011-01-01  2011    1  SJC        20  SÃO JOSE DOS CAMPOS\n",
              "10    2011-01-02  2011    1  SJC        16  SÃO JOSE DOS CAMPOS\n",
              "16    2011-01-03  2011    1  SJC        14  SÃO JOSE DOS CAMPOS\n",
              "22    2011-01-04  2011    1  SJC        17  SÃO JOSE DOS CAMPOS\n",
              "28    2011-01-05  2011    1  SJC        17  SÃO JOSE DOS CAMPOS\n",
              "...          ...   ...  ...  ...       ...                  ...\n",
              "20595 2019-09-11  2019    9  SJC        21  SÃO JOSE DOS CAMPOS\n",
              "20601 2019-09-12  2019    9  SJC        20  SÃO JOSE DOS CAMPOS\n",
              "20607 2019-09-13  2019    9  SJC        22  SÃO JOSE DOS CAMPOS\n",
              "20613 2019-09-14  2019    9  SJC        21  SÃO JOSE DOS CAMPOS\n",
              "20619 2019-09-15  2019    9  SJC        22  SÃO JOSE DOS CAMPOS\n",
              "\n",
              "[3163 rows x 6 columns]"
            ]
          },
          "metadata": {
            "tags": []
          },
          "execution_count": 42
        }
      ]
    },
    {
      "cell_type": "markdown",
      "metadata": {
        "id": "ezpxp30TtYNs",
        "colab_type": "text"
      },
      "source": [
        "# Selecionar Colunas"
      ]
    },
    {
      "cell_type": "code",
      "metadata": {
        "id": "U-eaWVQOsijb",
        "colab_type": "code",
        "colab": {}
      },
      "source": [
        "datasetSel = dataset[['ANO','MÊS','EQUIPES_']]"
      ],
      "execution_count": 0,
      "outputs": []
    },
    {
      "cell_type": "code",
      "metadata": {
        "id": "A0oEv5RLxyPZ",
        "colab_type": "code",
        "outputId": "c29ade06-52f9-4a3d-bf02-313c9fe68d9f",
        "colab": {
          "base_uri": "https://localhost:8080/",
          "height": 415
        }
      },
      "source": [
        "datasetSel"
      ],
      "execution_count": 0,
      "outputs": [
        {
          "output_type": "execute_result",
          "data": {
            "text/html": [
              "<div>\n",
              "<style scoped>\n",
              "    .dataframe tbody tr th:only-of-type {\n",
              "        vertical-align: middle;\n",
              "    }\n",
              "\n",
              "    .dataframe tbody tr th {\n",
              "        vertical-align: top;\n",
              "    }\n",
              "\n",
              "    .dataframe thead th {\n",
              "        text-align: right;\n",
              "    }\n",
              "</style>\n",
              "<table border=\"1\" class=\"dataframe\">\n",
              "  <thead>\n",
              "    <tr style=\"text-align: right;\">\n",
              "      <th></th>\n",
              "      <th>ANO</th>\n",
              "      <th>MÊS</th>\n",
              "      <th>EQUIPES_</th>\n",
              "    </tr>\n",
              "  </thead>\n",
              "  <tbody>\n",
              "    <tr>\n",
              "      <th>0</th>\n",
              "      <td>2011</td>\n",
              "      <td>1</td>\n",
              "      <td>13</td>\n",
              "    </tr>\n",
              "    <tr>\n",
              "      <th>1</th>\n",
              "      <td>2011</td>\n",
              "      <td>1</td>\n",
              "      <td>23</td>\n",
              "    </tr>\n",
              "    <tr>\n",
              "      <th>2</th>\n",
              "      <td>2011</td>\n",
              "      <td>1</td>\n",
              "      <td>12</td>\n",
              "    </tr>\n",
              "    <tr>\n",
              "      <th>3</th>\n",
              "      <td>2011</td>\n",
              "      <td>1</td>\n",
              "      <td>11</td>\n",
              "    </tr>\n",
              "    <tr>\n",
              "      <th>4</th>\n",
              "      <td>2011</td>\n",
              "      <td>1</td>\n",
              "      <td>20</td>\n",
              "    </tr>\n",
              "    <tr>\n",
              "      <th>...</th>\n",
              "      <td>...</td>\n",
              "      <td>...</td>\n",
              "      <td>...</td>\n",
              "    </tr>\n",
              "    <tr>\n",
              "      <th>20616</th>\n",
              "      <td>2019</td>\n",
              "      <td>9</td>\n",
              "      <td>17</td>\n",
              "    </tr>\n",
              "    <tr>\n",
              "      <th>20617</th>\n",
              "      <td>2019</td>\n",
              "      <td>9</td>\n",
              "      <td>22</td>\n",
              "    </tr>\n",
              "    <tr>\n",
              "      <th>20618</th>\n",
              "      <td>2019</td>\n",
              "      <td>9</td>\n",
              "      <td>12</td>\n",
              "    </tr>\n",
              "    <tr>\n",
              "      <th>20619</th>\n",
              "      <td>2019</td>\n",
              "      <td>9</td>\n",
              "      <td>22</td>\n",
              "    </tr>\n",
              "    <tr>\n",
              "      <th>20620</th>\n",
              "      <td>2019</td>\n",
              "      <td>9</td>\n",
              "      <td>15</td>\n",
              "    </tr>\n",
              "  </tbody>\n",
              "</table>\n",
              "<p>20621 rows × 3 columns</p>\n",
              "</div>"
            ],
            "text/plain": [
              "        ANO  MÊS  EQUIPES_\n",
              "0      2011    1        13\n",
              "1      2011    1        23\n",
              "2      2011    1        12\n",
              "3      2011    1        11\n",
              "4      2011    1        20\n",
              "...     ...  ...       ...\n",
              "20616  2019    9        17\n",
              "20617  2019    9        22\n",
              "20618  2019    9        12\n",
              "20619  2019    9        22\n",
              "20620  2019    9        15\n",
              "\n",
              "[20621 rows x 3 columns]"
            ]
          },
          "metadata": {
            "tags": []
          },
          "execution_count": 11
        }
      ]
    },
    {
      "cell_type": "markdown",
      "metadata": {
        "id": "xdsM4afP0oPi",
        "colab_type": "text"
      },
      "source": [
        "# Separando dados de treinamento e teste"
      ]
    },
    {
      "cell_type": "markdown",
      "metadata": {
        "id": "2U96IQuq0rcE",
        "colab_type": "text"
      },
      "source": [
        "Agora separe os dados em um conjunto de treinamento e outro teste.\n",
        "\n",
        "Iremos utilizar o de conjunto de teste no final da análise do model."
      ]
    },
    {
      "cell_type": "code",
      "metadata": {
        "id": "ArOAnlxKy-n6",
        "colab_type": "code",
        "colab": {}
      },
      "source": [
        "train_dataset = datasetSel.sample(frac=0.8,random_state=0)\n",
        "test_dataset = datasetSel.drop(train_dataset.index)\n"
      ],
      "execution_count": 0,
      "outputs": []
    },
    {
      "cell_type": "markdown",
      "metadata": {
        "id": "cmO2F3Uc1Hny",
        "colab_type": "text"
      },
      "source": [
        "Você pode escolher a quantidade de dados que vai utilizar, escolhendo a porcentagem, número de elementos, etc. \n",
        "\n",
        "Mais detalhes do \"dataset.sample\" em [link text](https://pandas.pydata.org/pandas-docs/stable/reference/api/pandas.DataFrame.sample.html)\n",
        "\n",
        "Mais detalhes do \"dataset.drop\" em [link text](https://pandas.pydata.org/pandas-docs/stable/reference/api/pandas.DataFrame.drop.html)\n",
        "\n"
      ]
    },
    {
      "cell_type": "code",
      "metadata": {
        "id": "nFTdrL0V2usL",
        "colab_type": "code",
        "outputId": "9c308bb2-9fa2-4949-dc82-618b025fdbd2",
        "colab": {
          "base_uri": "https://localhost:8080/",
          "height": 415
        }
      },
      "source": [
        "train_dataset"
      ],
      "execution_count": 0,
      "outputs": [
        {
          "output_type": "execute_result",
          "data": {
            "text/html": [
              "<div>\n",
              "<style scoped>\n",
              "    .dataframe tbody tr th:only-of-type {\n",
              "        vertical-align: middle;\n",
              "    }\n",
              "\n",
              "    .dataframe tbody tr th {\n",
              "        vertical-align: top;\n",
              "    }\n",
              "\n",
              "    .dataframe thead th {\n",
              "        text-align: right;\n",
              "    }\n",
              "</style>\n",
              "<table border=\"1\" class=\"dataframe\">\n",
              "  <thead>\n",
              "    <tr style=\"text-align: right;\">\n",
              "      <th></th>\n",
              "      <th>ANO</th>\n",
              "      <th>MÊS</th>\n",
              "      <th>EQUIPES_</th>\n",
              "    </tr>\n",
              "  </thead>\n",
              "  <tbody>\n",
              "    <tr>\n",
              "      <th>74</th>\n",
              "      <td>2011</td>\n",
              "      <td>1</td>\n",
              "      <td>11</td>\n",
              "    </tr>\n",
              "    <tr>\n",
              "      <th>17719</th>\n",
              "      <td>2018</td>\n",
              "      <td>7</td>\n",
              "      <td>11</td>\n",
              "    </tr>\n",
              "    <tr>\n",
              "      <th>14195</th>\n",
              "      <td>2017</td>\n",
              "      <td>3</td>\n",
              "      <td>18</td>\n",
              "    </tr>\n",
              "    <tr>\n",
              "      <th>13906</th>\n",
              "      <td>2017</td>\n",
              "      <td>1</td>\n",
              "      <td>8</td>\n",
              "    </tr>\n",
              "    <tr>\n",
              "      <th>7281</th>\n",
              "      <td>2014</td>\n",
              "      <td>5</td>\n",
              "      <td>10</td>\n",
              "    </tr>\n",
              "    <tr>\n",
              "      <th>...</th>\n",
              "      <td>...</td>\n",
              "      <td>...</td>\n",
              "      <td>...</td>\n",
              "    </tr>\n",
              "    <tr>\n",
              "      <th>7616</th>\n",
              "      <td>2014</td>\n",
              "      <td>7</td>\n",
              "      <td>8</td>\n",
              "    </tr>\n",
              "    <tr>\n",
              "      <th>8767</th>\n",
              "      <td>2015</td>\n",
              "      <td>1</td>\n",
              "      <td>28</td>\n",
              "    </tr>\n",
              "    <tr>\n",
              "      <th>16388</th>\n",
              "      <td>2018</td>\n",
              "      <td>1</td>\n",
              "      <td>14</td>\n",
              "    </tr>\n",
              "    <tr>\n",
              "      <th>19933</th>\n",
              "      <td>2019</td>\n",
              "      <td>5</td>\n",
              "      <td>20</td>\n",
              "    </tr>\n",
              "    <tr>\n",
              "      <th>10078</th>\n",
              "      <td>2015</td>\n",
              "      <td>8</td>\n",
              "      <td>8</td>\n",
              "    </tr>\n",
              "  </tbody>\n",
              "</table>\n",
              "<p>16497 rows × 3 columns</p>\n",
              "</div>"
            ],
            "text/plain": [
              "        ANO  MÊS  EQUIPES_\n",
              "74     2011    1        11\n",
              "17719  2018    7        11\n",
              "14195  2017    3        18\n",
              "13906  2017    1         8\n",
              "7281   2014    5        10\n",
              "...     ...  ...       ...\n",
              "7616   2014    7         8\n",
              "8767   2015    1        28\n",
              "16388  2018    1        14\n",
              "19933  2019    5        20\n",
              "10078  2015    8         8\n",
              "\n",
              "[16497 rows x 3 columns]"
            ]
          },
          "metadata": {
            "tags": []
          },
          "execution_count": 13
        }
      ]
    },
    {
      "cell_type": "code",
      "metadata": {
        "id": "T0JpS9zn28KB",
        "colab_type": "code",
        "outputId": "0ddd9bf9-7424-4099-ae22-d28188ec51df",
        "colab": {
          "base_uri": "https://localhost:8080/",
          "height": 415
        }
      },
      "source": [
        "test_dataset"
      ],
      "execution_count": 0,
      "outputs": [
        {
          "output_type": "execute_result",
          "data": {
            "text/html": [
              "<div>\n",
              "<style scoped>\n",
              "    .dataframe tbody tr th:only-of-type {\n",
              "        vertical-align: middle;\n",
              "    }\n",
              "\n",
              "    .dataframe tbody tr th {\n",
              "        vertical-align: top;\n",
              "    }\n",
              "\n",
              "    .dataframe thead th {\n",
              "        text-align: right;\n",
              "    }\n",
              "</style>\n",
              "<table border=\"1\" class=\"dataframe\">\n",
              "  <thead>\n",
              "    <tr style=\"text-align: right;\">\n",
              "      <th></th>\n",
              "      <th>ANO</th>\n",
              "      <th>MÊS</th>\n",
              "      <th>EQUIPES_</th>\n",
              "    </tr>\n",
              "  </thead>\n",
              "  <tbody>\n",
              "    <tr>\n",
              "      <th>10</th>\n",
              "      <td>2011</td>\n",
              "      <td>1</td>\n",
              "      <td>16</td>\n",
              "    </tr>\n",
              "    <tr>\n",
              "      <th>13</th>\n",
              "      <td>2011</td>\n",
              "      <td>1</td>\n",
              "      <td>22</td>\n",
              "    </tr>\n",
              "    <tr>\n",
              "      <th>19</th>\n",
              "      <td>2011</td>\n",
              "      <td>1</td>\n",
              "      <td>22</td>\n",
              "    </tr>\n",
              "    <tr>\n",
              "      <th>28</th>\n",
              "      <td>2011</td>\n",
              "      <td>1</td>\n",
              "      <td>17</td>\n",
              "    </tr>\n",
              "    <tr>\n",
              "      <th>40</th>\n",
              "      <td>2011</td>\n",
              "      <td>1</td>\n",
              "      <td>20</td>\n",
              "    </tr>\n",
              "    <tr>\n",
              "      <th>...</th>\n",
              "      <td>...</td>\n",
              "      <td>...</td>\n",
              "      <td>...</td>\n",
              "    </tr>\n",
              "    <tr>\n",
              "      <th>20590</th>\n",
              "      <td>2019</td>\n",
              "      <td>9</td>\n",
              "      <td>16</td>\n",
              "    </tr>\n",
              "    <tr>\n",
              "      <th>20601</th>\n",
              "      <td>2019</td>\n",
              "      <td>9</td>\n",
              "      <td>20</td>\n",
              "    </tr>\n",
              "    <tr>\n",
              "      <th>20602</th>\n",
              "      <td>2019</td>\n",
              "      <td>9</td>\n",
              "      <td>18</td>\n",
              "    </tr>\n",
              "    <tr>\n",
              "      <th>20603</th>\n",
              "      <td>2019</td>\n",
              "      <td>9</td>\n",
              "      <td>18</td>\n",
              "    </tr>\n",
              "    <tr>\n",
              "      <th>20615</th>\n",
              "      <td>2019</td>\n",
              "      <td>9</td>\n",
              "      <td>14</td>\n",
              "    </tr>\n",
              "  </tbody>\n",
              "</table>\n",
              "<p>4124 rows × 3 columns</p>\n",
              "</div>"
            ],
            "text/plain": [
              "        ANO  MÊS  EQUIPES_\n",
              "10     2011    1        16\n",
              "13     2011    1        22\n",
              "19     2011    1        22\n",
              "28     2011    1        17\n",
              "40     2011    1        20\n",
              "...     ...  ...       ...\n",
              "20590  2019    9        16\n",
              "20601  2019    9        20\n",
              "20602  2019    9        18\n",
              "20603  2019    9        18\n",
              "20615  2019    9        14\n",
              "\n",
              "[4124 rows x 3 columns]"
            ]
          },
          "metadata": {
            "tags": []
          },
          "execution_count": 14
        }
      ]
    },
    {
      "cell_type": "markdown",
      "metadata": {
        "id": "6BkQKZJe1iA_",
        "colab_type": "text"
      },
      "source": [
        "Observem que existem 2530 amostras de treinamento e 633 amostras para teste."
      ]
    },
    {
      "cell_type": "markdown",
      "metadata": {
        "id": "3f2Ii-2p56BD",
        "colab_type": "text"
      },
      "source": [
        "Como discutido nas aulas anteriores, é necessário normalizar ou padronizar os dados. "
      ]
    },
    {
      "cell_type": "markdown",
      "metadata": {
        "id": "idzGQiAA3beC",
        "colab_type": "text"
      },
      "source": [
        "# Normalização ou Padronizar os dados"
      ]
    },
    {
      "cell_type": "code",
      "metadata": {
        "id": "WM5ZnZN3JVki",
        "colab_type": "code",
        "colab": {}
      },
      "source": [
        "train_stats = train_dataset.describe()\n",
        "#train_stats.pop(\"EQUIPES_\")\n",
        "train_stats = train_stats.transpose()\n",
        "train_stats\n",
        "\n",
        "def norm(x):\n",
        "  return (x - train_stats['mean']) / train_stats['std']\n",
        "normed_train_data = norm(train_dataset)\n",
        "normed_test_data = norm(test_dataset)"
      ],
      "execution_count": 0,
      "outputs": []
    },
    {
      "cell_type": "markdown",
      "metadata": {
        "id": "Gfpw_vAtKBU-",
        "colab_type": "text"
      },
      "source": [
        "é possível normalizar os dados utilizando o Sklearn\n",
        "\n",
        "* names = datasetSel.columns\n",
        "* scaler = MinMaxScaler()\n",
        "* scaler.fit(datasetSel)\n",
        "* print(scaler.data_max_)\n",
        "* print(scaler.transform(datasetSel))\n",
        "* print(scaler.transform([[2, 2]]))\n",
        "* NormdatasetSel=scaler.transform(datasetSel)\n"
      ]
    },
    {
      "cell_type": "markdown",
      "metadata": {
        "id": "QY0l2x0m50ek",
        "colab_type": "text"
      },
      "source": [
        "Após o processamento é necessário denormalizar os dados\n",
        "\n",
        "scaler.inverse_transform(NormdatasetSel)\n",
        "\n",
        "Mais detalhes em: [link text](https://scikit-learn.org/stable/modules/generated/sklearn.preprocessing.MinMaxScaler.html)\n",
        "\n"
      ]
    },
    {
      "cell_type": "markdown",
      "metadata": {
        "id": "EYxeVqFM3RMQ",
        "colab_type": "text"
      },
      "source": [
        ""
      ]
    },
    {
      "cell_type": "code",
      "metadata": {
        "id": "yU5inGPqLKZr",
        "colab_type": "code",
        "outputId": "ac95691a-f9a9-4417-9f19-53431a279240",
        "colab": {
          "base_uri": "https://localhost:8080/",
          "height": 415
        }
      },
      "source": [
        "normed_train_data"
      ],
      "execution_count": 0,
      "outputs": [
        {
          "output_type": "execute_result",
          "data": {
            "text/html": [
              "<div>\n",
              "<style scoped>\n",
              "    .dataframe tbody tr th:only-of-type {\n",
              "        vertical-align: middle;\n",
              "    }\n",
              "\n",
              "    .dataframe tbody tr th {\n",
              "        vertical-align: top;\n",
              "    }\n",
              "\n",
              "    .dataframe thead th {\n",
              "        text-align: right;\n",
              "    }\n",
              "</style>\n",
              "<table border=\"1\" class=\"dataframe\">\n",
              "  <thead>\n",
              "    <tr style=\"text-align: right;\">\n",
              "      <th></th>\n",
              "      <th>ANO</th>\n",
              "      <th>MÊS</th>\n",
              "      <th>EQUIPES_</th>\n",
              "    </tr>\n",
              "  </thead>\n",
              "  <tbody>\n",
              "    <tr>\n",
              "      <th>74</th>\n",
              "      <td>-1.624910</td>\n",
              "      <td>-1.573282</td>\n",
              "      <td>-0.181006</td>\n",
              "    </tr>\n",
              "    <tr>\n",
              "      <th>17719</th>\n",
              "      <td>1.186853</td>\n",
              "      <td>0.178778</td>\n",
              "      <td>-0.181006</td>\n",
              "    </tr>\n",
              "    <tr>\n",
              "      <th>14195</th>\n",
              "      <td>0.785172</td>\n",
              "      <td>-0.989262</td>\n",
              "      <td>1.165709</td>\n",
              "    </tr>\n",
              "    <tr>\n",
              "      <th>13906</th>\n",
              "      <td>0.785172</td>\n",
              "      <td>-1.573282</td>\n",
              "      <td>-0.758169</td>\n",
              "    </tr>\n",
              "    <tr>\n",
              "      <th>7281</th>\n",
              "      <td>-0.419869</td>\n",
              "      <td>-0.405242</td>\n",
              "      <td>-0.373394</td>\n",
              "    </tr>\n",
              "    <tr>\n",
              "      <th>...</th>\n",
              "      <td>...</td>\n",
              "      <td>...</td>\n",
              "      <td>...</td>\n",
              "    </tr>\n",
              "    <tr>\n",
              "      <th>7616</th>\n",
              "      <td>-0.419869</td>\n",
              "      <td>0.178778</td>\n",
              "      <td>-0.758169</td>\n",
              "    </tr>\n",
              "    <tr>\n",
              "      <th>8767</th>\n",
              "      <td>-0.018188</td>\n",
              "      <td>-1.573282</td>\n",
              "      <td>3.089588</td>\n",
              "    </tr>\n",
              "    <tr>\n",
              "      <th>16388</th>\n",
              "      <td>1.186853</td>\n",
              "      <td>-1.573282</td>\n",
              "      <td>0.396158</td>\n",
              "    </tr>\n",
              "    <tr>\n",
              "      <th>19933</th>\n",
              "      <td>1.588533</td>\n",
              "      <td>-0.405242</td>\n",
              "      <td>1.550485</td>\n",
              "    </tr>\n",
              "    <tr>\n",
              "      <th>10078</th>\n",
              "      <td>-0.018188</td>\n",
              "      <td>0.470788</td>\n",
              "      <td>-0.758169</td>\n",
              "    </tr>\n",
              "  </tbody>\n",
              "</table>\n",
              "<p>16497 rows × 3 columns</p>\n",
              "</div>"
            ],
            "text/plain": [
              "            ANO       MÊS  EQUIPES_\n",
              "74    -1.624910 -1.573282 -0.181006\n",
              "17719  1.186853  0.178778 -0.181006\n",
              "14195  0.785172 -0.989262  1.165709\n",
              "13906  0.785172 -1.573282 -0.758169\n",
              "7281  -0.419869 -0.405242 -0.373394\n",
              "...         ...       ...       ...\n",
              "7616  -0.419869  0.178778 -0.758169\n",
              "8767  -0.018188 -1.573282  3.089588\n",
              "16388  1.186853 -1.573282  0.396158\n",
              "19933  1.588533 -0.405242  1.550485\n",
              "10078 -0.018188  0.470788 -0.758169\n",
              "\n",
              "[16497 rows x 3 columns]"
            ]
          },
          "metadata": {
            "tags": []
          },
          "execution_count": 17
        }
      ]
    },
    {
      "cell_type": "code",
      "metadata": {
        "id": "XnWAHzKILpR5",
        "colab_type": "code",
        "outputId": "3b7f3c4d-30b2-4596-d7ba-e473e06f2f1b",
        "colab": {
          "base_uri": "https://localhost:8080/",
          "height": 415
        }
      },
      "source": [
        "normed_test_data"
      ],
      "execution_count": 0,
      "outputs": [
        {
          "output_type": "execute_result",
          "data": {
            "text/html": [
              "<div>\n",
              "<style scoped>\n",
              "    .dataframe tbody tr th:only-of-type {\n",
              "        vertical-align: middle;\n",
              "    }\n",
              "\n",
              "    .dataframe tbody tr th {\n",
              "        vertical-align: top;\n",
              "    }\n",
              "\n",
              "    .dataframe thead th {\n",
              "        text-align: right;\n",
              "    }\n",
              "</style>\n",
              "<table border=\"1\" class=\"dataframe\">\n",
              "  <thead>\n",
              "    <tr style=\"text-align: right;\">\n",
              "      <th></th>\n",
              "      <th>ANO</th>\n",
              "      <th>MÊS</th>\n",
              "      <th>EQUIPES_</th>\n",
              "    </tr>\n",
              "  </thead>\n",
              "  <tbody>\n",
              "    <tr>\n",
              "      <th>10</th>\n",
              "      <td>-1.624910</td>\n",
              "      <td>-1.573282</td>\n",
              "      <td>0.780933</td>\n",
              "    </tr>\n",
              "    <tr>\n",
              "      <th>13</th>\n",
              "      <td>-1.624910</td>\n",
              "      <td>-1.573282</td>\n",
              "      <td>1.935261</td>\n",
              "    </tr>\n",
              "    <tr>\n",
              "      <th>19</th>\n",
              "      <td>-1.624910</td>\n",
              "      <td>-1.573282</td>\n",
              "      <td>1.935261</td>\n",
              "    </tr>\n",
              "    <tr>\n",
              "      <th>28</th>\n",
              "      <td>-1.624910</td>\n",
              "      <td>-1.573282</td>\n",
              "      <td>0.973321</td>\n",
              "    </tr>\n",
              "    <tr>\n",
              "      <th>40</th>\n",
              "      <td>-1.624910</td>\n",
              "      <td>-1.573282</td>\n",
              "      <td>1.550485</td>\n",
              "    </tr>\n",
              "    <tr>\n",
              "      <th>...</th>\n",
              "      <td>...</td>\n",
              "      <td>...</td>\n",
              "      <td>...</td>\n",
              "    </tr>\n",
              "    <tr>\n",
              "      <th>20590</th>\n",
              "      <td>1.588533</td>\n",
              "      <td>0.762798</td>\n",
              "      <td>0.780933</td>\n",
              "    </tr>\n",
              "    <tr>\n",
              "      <th>20601</th>\n",
              "      <td>1.588533</td>\n",
              "      <td>0.762798</td>\n",
              "      <td>1.550485</td>\n",
              "    </tr>\n",
              "    <tr>\n",
              "      <th>20602</th>\n",
              "      <td>1.588533</td>\n",
              "      <td>0.762798</td>\n",
              "      <td>1.165709</td>\n",
              "    </tr>\n",
              "    <tr>\n",
              "      <th>20603</th>\n",
              "      <td>1.588533</td>\n",
              "      <td>0.762798</td>\n",
              "      <td>1.165709</td>\n",
              "    </tr>\n",
              "    <tr>\n",
              "      <th>20615</th>\n",
              "      <td>1.588533</td>\n",
              "      <td>0.762798</td>\n",
              "      <td>0.396158</td>\n",
              "    </tr>\n",
              "  </tbody>\n",
              "</table>\n",
              "<p>4124 rows × 3 columns</p>\n",
              "</div>"
            ],
            "text/plain": [
              "            ANO       MÊS  EQUIPES_\n",
              "10    -1.624910 -1.573282  0.780933\n",
              "13    -1.624910 -1.573282  1.935261\n",
              "19    -1.624910 -1.573282  1.935261\n",
              "28    -1.624910 -1.573282  0.973321\n",
              "40    -1.624910 -1.573282  1.550485\n",
              "...         ...       ...       ...\n",
              "20590  1.588533  0.762798  0.780933\n",
              "20601  1.588533  0.762798  1.550485\n",
              "20602  1.588533  0.762798  1.165709\n",
              "20603  1.588533  0.762798  1.165709\n",
              "20615  1.588533  0.762798  0.396158\n",
              "\n",
              "[4124 rows x 3 columns]"
            ]
          },
          "metadata": {
            "tags": []
          },
          "execution_count": 18
        }
      ]
    },
    {
      "cell_type": "markdown",
      "metadata": {
        "id": "WLMPb_sZWw5H",
        "colab_type": "text"
      },
      "source": [
        "# Separando entradas e Saídas"
      ]
    },
    {
      "cell_type": "markdown",
      "metadata": {
        "id": "Gq8Ip-sngEdx",
        "colab_type": "text"
      },
      "source": [
        "Separe o valor alvo (labels), das features. Essa label é o valor no qual o modelo é treinado para prever."
      ]
    },
    {
      "cell_type": "code",
      "metadata": {
        "id": "feMhwaAkW7kQ",
        "colab_type": "code",
        "colab": {}
      },
      "source": [
        "train_labels = normed_train_data.pop('EQUIPES_')\n",
        "test_labels = normed_test_data.pop('EQUIPES_')"
      ],
      "execution_count": 0,
      "outputs": []
    },
    {
      "cell_type": "markdown",
      "metadata": {
        "id": "Wi48QrHsMobl",
        "colab_type": "text"
      },
      "source": [
        "\n",
        "\n",
        "---\n",
        "\n",
        "\n",
        "# ATÉ AQUI PREPARAMOS OS DADOS\n"
      ]
    },
    {
      "cell_type": "markdown",
      "metadata": {
        "id": "OfghOzeOMwIJ",
        "colab_type": "text"
      },
      "source": [
        "# Agora vamos para a Rede Neural Artificial"
      ]
    },
    {
      "cell_type": "code",
      "metadata": {
        "id": "bGUtejc067Xr",
        "colab_type": "code",
        "colab": {}
      },
      "source": [
        "def build_model():\n",
        "  model = keras.Sequential([\n",
        "    layers.Dense(64, activation=tf.nn.sigmoid, input_shape=[len(train_dataset.keys())-1]),\n",
        "    #layers.Dense(64, activation=tf.nn.relu),\n",
        "    #layers.Dense(64, activation=tf.nn.relu),\n",
        "    layers.Dense(1)\n",
        "  ])\n",
        "\n",
        "  optimizer = tf.keras.optimizers.RMSprop(0.001)\n",
        "\n",
        "  model.compile(loss='mean_squared_error',\n",
        "                optimizer=optimizer,\n",
        "                metrics=['mean_absolute_error', 'mean_squared_error'])\n",
        "  return model"
      ],
      "execution_count": 0,
      "outputs": []
    },
    {
      "cell_type": "code",
      "metadata": {
        "id": "uPnWmfsHjUMu",
        "colab_type": "code",
        "outputId": "f31edc03-39e5-4609-e928-4196a38abb95",
        "colab": {
          "base_uri": "https://localhost:8080/",
          "height": 89
        }
      },
      "source": [
        "model = build_model()"
      ],
      "execution_count": 0,
      "outputs": [
        {
          "output_type": "stream",
          "text": [
            "WARNING:tensorflow:From /usr/local/lib/python3.6/dist-packages/tensorflow_core/python/ops/resource_variable_ops.py:1630: calling BaseResourceVariable.__init__ (from tensorflow.python.ops.resource_variable_ops) with constraint is deprecated and will be removed in a future version.\n",
            "Instructions for updating:\n",
            "If using Keras pass *_constraint arguments to layers.\n"
          ],
          "name": "stdout"
        }
      ]
    },
    {
      "cell_type": "code",
      "metadata": {
        "id": "xbDlZ8-7jU9Y",
        "colab_type": "code",
        "outputId": "f8a46be2-2ef8-4f76-b43b-0108f9ada484",
        "colab": {
          "base_uri": "https://localhost:8080/",
          "height": 208
        }
      },
      "source": [
        "# Mostra o progresso do treinamento imprimindo um único ponto para cada epoch completada\n",
        "class PrintDot(keras.callbacks.Callback):\n",
        "  def on_epoch_end(self, epoch, logs):\n",
        "    if epoch % 100 == 0: print('')\n",
        "    print('.', end='')\n",
        "\n",
        "EPOCHS = 1000\n",
        "\n",
        "history = model.fit(\n",
        "  normed_train_data, train_labels,\n",
        "  epochs=EPOCHS, validation_split = 0.2, verbose=0,\n",
        "  callbacks=[PrintDot()])"
      ],
      "execution_count": 0,
      "outputs": [
        {
          "output_type": "stream",
          "text": [
            "\n",
            "....................................................................................................\n",
            "....................................................................................................\n",
            "....................................................................................................\n",
            "....................................................................................................\n",
            "....................................................................................................\n",
            "....................................................................................................\n",
            "....................................................................................................\n",
            "....................................................................................................\n",
            "....................................................................................................\n",
            "...................................................................................................."
          ],
          "name": "stdout"
        }
      ]
    },
    {
      "cell_type": "code",
      "metadata": {
        "id": "AaMyEv8dlvUN",
        "colab_type": "code",
        "outputId": "4524aaa1-bee9-41bc-c571-e679a16b2521",
        "colab": {
          "base_uri": "https://localhost:8080/",
          "height": 222
        }
      },
      "source": [
        "hist = pd.DataFrame(history.history)\n",
        "hist['epoch'] = history.epoch\n",
        "hist.tail()"
      ],
      "execution_count": 0,
      "outputs": [
        {
          "output_type": "execute_result",
          "data": {
            "text/html": [
              "<div>\n",
              "<style scoped>\n",
              "    .dataframe tbody tr th:only-of-type {\n",
              "        vertical-align: middle;\n",
              "    }\n",
              "\n",
              "    .dataframe tbody tr th {\n",
              "        vertical-align: top;\n",
              "    }\n",
              "\n",
              "    .dataframe thead th {\n",
              "        text-align: right;\n",
              "    }\n",
              "</style>\n",
              "<table border=\"1\" class=\"dataframe\">\n",
              "  <thead>\n",
              "    <tr style=\"text-align: right;\">\n",
              "      <th></th>\n",
              "      <th>loss</th>\n",
              "      <th>mean_absolute_error</th>\n",
              "      <th>mean_squared_error</th>\n",
              "      <th>val_loss</th>\n",
              "      <th>val_mean_absolute_error</th>\n",
              "      <th>val_mean_squared_error</th>\n",
              "      <th>epoch</th>\n",
              "    </tr>\n",
              "  </thead>\n",
              "  <tbody>\n",
              "    <tr>\n",
              "      <th>995</th>\n",
              "      <td>0.716431</td>\n",
              "      <td>0.639914</td>\n",
              "      <td>0.716431</td>\n",
              "      <td>0.645989</td>\n",
              "      <td>0.627027</td>\n",
              "      <td>0.645989</td>\n",
              "      <td>995</td>\n",
              "    </tr>\n",
              "    <tr>\n",
              "      <th>996</th>\n",
              "      <td>0.716030</td>\n",
              "      <td>0.640318</td>\n",
              "      <td>0.716029</td>\n",
              "      <td>0.648842</td>\n",
              "      <td>0.628331</td>\n",
              "      <td>0.648842</td>\n",
              "      <td>996</td>\n",
              "    </tr>\n",
              "    <tr>\n",
              "      <th>997</th>\n",
              "      <td>0.717079</td>\n",
              "      <td>0.641050</td>\n",
              "      <td>0.717079</td>\n",
              "      <td>0.645039</td>\n",
              "      <td>0.619624</td>\n",
              "      <td>0.645038</td>\n",
              "      <td>997</td>\n",
              "    </tr>\n",
              "    <tr>\n",
              "      <th>998</th>\n",
              "      <td>0.716552</td>\n",
              "      <td>0.639561</td>\n",
              "      <td>0.716552</td>\n",
              "      <td>0.646989</td>\n",
              "      <td>0.625290</td>\n",
              "      <td>0.646989</td>\n",
              "      <td>998</td>\n",
              "    </tr>\n",
              "    <tr>\n",
              "      <th>999</th>\n",
              "      <td>0.717285</td>\n",
              "      <td>0.640551</td>\n",
              "      <td>0.717285</td>\n",
              "      <td>0.648452</td>\n",
              "      <td>0.620047</td>\n",
              "      <td>0.648452</td>\n",
              "      <td>999</td>\n",
              "    </tr>\n",
              "  </tbody>\n",
              "</table>\n",
              "</div>"
            ],
            "text/plain": [
              "         loss  mean_absolute_error  ...  val_mean_squared_error  epoch\n",
              "995  0.716431             0.639914  ...                0.645989    995\n",
              "996  0.716030             0.640318  ...                0.648842    996\n",
              "997  0.717079             0.641050  ...                0.645038    997\n",
              "998  0.716552             0.639561  ...                0.646989    998\n",
              "999  0.717285             0.640551  ...                0.648452    999\n",
              "\n",
              "[5 rows x 7 columns]"
            ]
          },
          "metadata": {
            "tags": []
          },
          "execution_count": 23
        }
      ]
    },
    {
      "cell_type": "code",
      "metadata": {
        "id": "-f2Kc3hkl0SN",
        "colab_type": "code",
        "outputId": "e4591d4b-fbb9-4fd2-8825-d7274c851b80",
        "colab": {
          "base_uri": "https://localhost:8080/",
          "height": 208
        }
      },
      "source": [
        "def plot_history(history):\n",
        "  hist = pd.DataFrame(history.history)\n",
        "  hist['epoch'] = history.epoch\n",
        "\n",
        "  plt.figure()\n",
        "  plt.xlabel('Epoch')\n",
        "  plt.ylabel('Mean Abs Error [MPG]')\n",
        "  plt.plot(hist['epoch'], hist['mean_absolute_error'],\n",
        "           label='Train Error')\n",
        "  plt.plot(hist['epoch'], hist['val_mean_absolute_error'],\n",
        "           label = 'Val Error')\n",
        "  #plt.ylim([0,5])\n",
        "  plt.legend()\n",
        "\n",
        "  plt.figure()\n",
        "  plt.xlabel('Epoch')\n",
        "  plt.ylabel('Mean Square Error')\n",
        "  plt.plot(hist['epoch'], hist['mean_squared_error'],\n",
        "           label='Train Error')\n",
        "  plt.plot(hist['epoch'], hist['val_mean_squared_error'],\n",
        "           label = 'Val Error')\n",
        "  #plt.ylim([0,20])\n",
        "  plt.legend()\n",
        "  plt.show()\n",
        "\n",
        "\n",
        "plot_history(history)"
      ],
      "execution_count": 0,
      "outputs": [
        {
          "output_type": "error",
          "ename": "NameError",
          "evalue": "ignored",
          "traceback": [
            "\u001b[0;31m---------------------------------------------------------------------------\u001b[0m",
            "\u001b[0;31mNameError\u001b[0m                                 Traceback (most recent call last)",
            "\u001b[0;32m<ipython-input-1-3587dc009bda>\u001b[0m in \u001b[0;36m<module>\u001b[0;34m()\u001b[0m\n\u001b[1;32m     25\u001b[0m \u001b[0;34m\u001b[0m\u001b[0m\n\u001b[1;32m     26\u001b[0m \u001b[0;34m\u001b[0m\u001b[0m\n\u001b[0;32m---> 27\u001b[0;31m \u001b[0mplot_history\u001b[0m\u001b[0;34m(\u001b[0m\u001b[0mhistory\u001b[0m\u001b[0;34m)\u001b[0m\u001b[0;34m\u001b[0m\u001b[0;34m\u001b[0m\u001b[0m\n\u001b[0m",
            "\u001b[0;31mNameError\u001b[0m: name 'history' is not defined"
          ]
        }
      ]
    },
    {
      "cell_type": "code",
      "metadata": {
        "id": "fz928mZhl1Fh",
        "colab_type": "code",
        "outputId": "603fee13-9d45-4944-fabf-2867174d4cc6",
        "colab": {
          "base_uri": "https://localhost:8080/",
          "height": 593
        }
      },
      "source": [
        "model = build_model()\n",
        "\n",
        "# The patience parameter is the amount of epochs to check for improvement\n",
        "early_stop = keras.callbacks.EarlyStopping(monitor='val_loss', patience=10)\n",
        "\n",
        "history = model.fit(normed_train_data, train_labels, epochs=EPOCHS,\n",
        "                    validation_split = 0.2, verbose=0, callbacks=[early_stop, PrintDot()])\n",
        "\n",
        "plot_history(history)"
      ],
      "execution_count": 0,
      "outputs": [
        {
          "output_type": "stream",
          "text": [
            "\n",
            "....................................................................................................\n",
            "......................................."
          ],
          "name": "stdout"
        },
        {
          "output_type": "display_data",
          "data": {
            "image/png": "[encoded data removed]",
            "text/plain": [
              "<Figure size 432x288 with 1 Axes>"
            ]
          },
          "metadata": {
            "tags": []
          }
        },
        {
          "output_type": "display_data",
          "data": {
            "image/png": "[encoded data removed]",
            "text/plain": [
              "<Figure size 432x288 with 1 Axes>"
            ]
          },
          "metadata": {
            "tags": []
          }
        }
      ]
    },
    {
      "cell_type": "code",
      "metadata": {
        "id": "g9g8GwHjmCiI",
        "colab_type": "code",
        "colab": {}
      },
      "source": [
        "loss, mae, mse = model.evaluate(normed_test_data, test_labels, verbose=0)"
      ],
      "execution_count": 0,
      "outputs": []
    },
    {
      "cell_type": "code",
      "metadata": {
        "id": "p_5an_RzmF78",
        "colab_type": "code",
        "colab": {}
      },
      "source": [
        "test_predictions = model.predict(normed_test_data).flatten()\n",
        "\n",
        "plt.scatter(test_labels, test_predictions)\n",
        "plt.xlabel('True Values [MPG]')\n",
        "plt.ylabel('Predictions [MPG]')\n",
        "plt.axis('equal')\n",
        "plt.axis('square')\n",
        "plt.xlim([0,plt.xlim()[1]])\n",
        "plt.ylim([0,plt.ylim()[1]])\n",
        "_ = plt.plot([-100, 100], [-100, 100])"
      ],
      "execution_count": 0,
      "outputs": []
    },
    {
      "cell_type": "code",
      "metadata": {
        "id": "scsQ1D8LmKL6",
        "colab_type": "code",
        "colab": {}
      },
      "source": [
        "error = test_predictions - test_labels\n",
        "plt.hist(error, bins = 25)\n",
        "plt.xlabel(\"Prediction Error [MPG]\")\n",
        "_ = plt.ylabel(\"Count\")"
      ],
      "execution_count": 0,
      "outputs": []
    }
  ]
}