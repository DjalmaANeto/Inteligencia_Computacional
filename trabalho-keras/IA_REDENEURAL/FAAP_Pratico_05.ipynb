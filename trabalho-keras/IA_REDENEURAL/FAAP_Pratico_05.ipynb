{
  "nbformat": 4,
  "nbformat_minor": 0,
  "metadata": {
    "colab": {
      "name": "FAAP Pratico 05",
      "provenance": [],
      "collapsed_sections": []
    },
    "kernelspec": {
      "name": "python3",
      "display_name": "Python 3"
    }
  },
  "cells": [
    {
      "cell_type": "markdown",
      "metadata": {
        "id": "C_c7e9Gpwk_z",
        "colab_type": "text"
      },
      "source": [
        "# Carregar bibliotecas"
      ]
    },
    {
      "cell_type": "code",
      "metadata": {
        "id": "J0z-00uRwkaj",
        "colab_type": "code",
        "colab": {}
      },
      "source": [
        "from __future__ import absolute_import, division, print_function, unicode_literals\n",
        "import pathlib\n",
        "\n",
        "import pandas as pd \n",
        "# O pandas é uma biblioteca de código aberto que fornece estruturas de dados de \n",
        "# alto desempenho e fáceis de usar e ferramentas de análise\n",
        "\n",
        "import io           \n",
        "# entrada e saída. \n",
        "# O módulo io fornece as interfaces Python para o fluxo de manipulação.\n",
        "\n",
        "import matplotlib.pyplot as plt \n",
        "# O Matplotlib é uma biblioteca de plotagem 2D do Python\n",
        "# mais detalhes em: https://matplotlib.org/3.1.1/api/_as_gen/matplotlib.pyplot.html\n",
        "\n",
        "!pip install -q seaborn\n",
        "import seaborn as sns\n",
        "# Seaborn é uma biblioteca de visualização de dados Python baseada no matplotlib. \n",
        "# Ela fornece uma interface de alto nível para desenhar gráficos estatísticos.\n",
        "\n",
        "from sklearn import preprocessing \n",
        "from sklearn.preprocessing import MinMaxScaler\n",
        "# Ferramentas simples e eficientes para mineração e análise de dados\n",
        "\n",
        "import tensorflow as tf\n",
        "from tensorflow import keras\n",
        "from tensorflow.keras import layers\n",
        "\n",
        "from keras.models import Sequential\n",
        "from keras.layers import Dense, Activation\n"
      ],
      "execution_count": 0,
      "outputs": []
    },
    {
      "cell_type": "markdown",
      "metadata": {
        "id": "hRFXogthvXaO",
        "colab_type": "text"
      },
      "source": [
        "# Inserir dados na Nuvem\n",
        "\n",
        "\n",
        "* Você tem algumas opções para ler os dados: \n",
        "\n",
        "* Pode ser de um link de repositório\n",
        "* Pode ser do google drive\n",
        "* Também pode fazer o upload do seu diretório\n",
        "\n",
        "\n",
        "\n"
      ]
    },
    {
      "cell_type": "markdown",
      "metadata": {
        "id": "EhlaPgLDmV9b",
        "colab_type": "text"
      },
      "source": [
        "** Exemplo de como baixar dados já disponíveis em links **"
      ]
    },
    {
      "cell_type": "code",
      "metadata": {
        "id": "7drUIoH0mk7W",
        "colab_type": "code",
        "outputId": "57e6f9f5-83db-4552-87be-51c700246d54",
        "colab": {
          "base_uri": "https://localhost:8080/",
          "height": 34
        }
      },
      "source": [
        "dataset_path = keras.utils.get_file(\"auto-mpg.data\", \"http://archive.ics.uci.edu/ml/machine-learning-databases/auto-mpg/auto-mpg.data\")\n",
        "dataset_path"
      ],
      "execution_count": 0,
      "outputs": [
        {
          "output_type": "execute_result",
          "data": {
            "text/plain": [
              "'/root/.keras/datasets/auto-mpg.data'"
            ]
          },
          "metadata": {
            "tags": []
          },
          "execution_count": 18
        }
      ]
    },
    {
      "cell_type": "markdown",
      "metadata": {
        "id": "TR-cCP51SxVS",
        "colab_type": "text"
      },
      "source": [
        "# Inserir arquivo do seu próprio computador"
      ]
    },
    {
      "cell_type": "code",
      "metadata": {
        "id": "HSRtGuZYtWhj",
        "colab_type": "code",
        "outputId": "5d9bece6-0a94-4016-baa1-1d6a686c9edc",
        "colab": {
          "resources": {
            "http://localhost:8080/nbextensions/google.colab/files.js": {
              "data": "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",
              "ok": true,
              "headers": [
                [
                  "content-type",
                  "application/javascript"
                ]
              ],
              "status": 200,
              "status_text": ""
            }
          },
          "base_uri": "https://localhost:8080/",
          "height": 75
        }
      },
      "source": [
        "from google.colab import files\n",
        "uploaded = files.upload()"
      ],
      "execution_count": 0,
      "outputs": [
        {
          "output_type": "display_data",
          "data": {
            "text/html": [
              "\n",
              "     <input type=\"file\" id=\"files-3c6d0016-9979-42da-9618-45a4e897f7a1\" name=\"files[]\" multiple disabled />\n",
              "     <output id=\"result-3c6d0016-9979-42da-9618-45a4e897f7a1\">\n",
              "      Upload widget is only available when the cell has been executed in the\n",
              "      current browser session. Please rerun this cell to enable.\n",
              "      </output>\n",
              "      <script src=\"/nbextensions/google.colab/files.js\"></script> "
            ],
            "text/plain": [
              "<IPython.core.display.HTML object>"
            ]
          },
          "metadata": {
            "tags": []
          }
        },
        {
          "output_type": "stream",
          "text": [
            "Saving TRAFO_treina2.csv to TRAFO_treina2.csv\n"
          ],
          "name": "stdout"
        }
      ]
    },
    {
      "cell_type": "markdown",
      "metadata": {
        "id": "JaMPppmywGbh",
        "colab_type": "text"
      },
      "source": [
        "# Carregar dados Excel\n",
        "\n",
        "* O passo seguinte, você pode carregar os seus dados a partir dos arquivos que fez upload:"
      ]
    },
    {
      "cell_type": "code",
      "metadata": {
        "id": "za3MkonKwT3Y",
        "colab_type": "code",
        "outputId": "dcb7df43-6452-4c0f-b88c-45cf918d9607",
        "colab": {
          "base_uri": "https://localhost:8080/",
          "height": 164
        }
      },
      "source": [
        "dataset = pd.read_excel(io.BytesIO(uploaded['Equipes.xlsx']))"
      ],
      "execution_count": 0,
      "outputs": [
        {
          "output_type": "error",
          "ename": "KeyError",
          "evalue": "ignored",
          "traceback": [
            "\u001b[0;31m---------------------------------------------------------------------------\u001b[0m",
            "\u001b[0;31mKeyError\u001b[0m                                  Traceback (most recent call last)",
            "\u001b[0;32m<ipython-input-20-b39fbdc6a6e2>\u001b[0m in \u001b[0;36m<module>\u001b[0;34m()\u001b[0m\n\u001b[0;32m----> 1\u001b[0;31m \u001b[0mdataset\u001b[0m \u001b[0;34m=\u001b[0m \u001b[0mpd\u001b[0m\u001b[0;34m.\u001b[0m\u001b[0mread_excel\u001b[0m\u001b[0;34m(\u001b[0m\u001b[0mio\u001b[0m\u001b[0;34m.\u001b[0m\u001b[0mBytesIO\u001b[0m\u001b[0;34m(\u001b[0m\u001b[0muploaded\u001b[0m\u001b[0;34m[\u001b[0m\u001b[0;34m'Equipes.xlsx'\u001b[0m\u001b[0;34m]\u001b[0m\u001b[0;34m)\u001b[0m\u001b[0;34m)\u001b[0m\u001b[0;34m\u001b[0m\u001b[0;34m\u001b[0m\u001b[0m\n\u001b[0m",
            "\u001b[0;31mKeyError\u001b[0m: 'Equipes.xlsx'"
          ]
        }
      ]
    },
    {
      "cell_type": "markdown",
      "metadata": {
        "id": "WVjqn57JmcoT",
        "colab_type": "text"
      },
      "source": [
        "# Carregar dados CSV"
      ]
    },
    {
      "cell_type": "markdown",
      "metadata": {
        "id": "JtWWOoCUnjIw",
        "colab_type": "text"
      },
      "source": [
        "* Você também pode ler dados com extensão csv\n",
        "\n",
        "dataset = pd.read_csv('NomeDoArquivo.csv')\n",
        "\n",
        "Mais informações em [link text](https://pandas.pydata.org/pandas-docs/stable/user_guide/io.html)"
      ]
    },
    {
      "cell_type": "code",
      "metadata": {
        "id": "SoBAXRrQmiQU",
        "colab_type": "code",
        "colab": {}
      },
      "source": [
        "dataset = pd.read_csv('TRAFO_treina2.csv')"
      ],
      "execution_count": 0,
      "outputs": []
    },
    {
      "cell_type": "markdown",
      "metadata": {
        "id": "7VNwOcxQxsFe",
        "colab_type": "text"
      },
      "source": [
        "# Visualizar dados\n"
      ]
    },
    {
      "cell_type": "code",
      "metadata": {
        "id": "H7sWcORAx1eE",
        "colab_type": "code",
        "outputId": "587c0ed3-963b-450d-9477-ccd6c65e7ec0",
        "colab": {
          "base_uri": "https://localhost:8080/",
          "height": 417
        }
      },
      "source": [
        "dataset"
      ],
      "execution_count": 0,
      "outputs": [
        {
          "output_type": "execute_result",
          "data": {
            "text/html": [
              "<div>\n",
              "<style scoped>\n",
              "    .dataframe tbody tr th:only-of-type {\n",
              "        vertical-align: middle;\n",
              "    }\n",
              "\n",
              "    .dataframe tbody tr th {\n",
              "        vertical-align: top;\n",
              "    }\n",
              "\n",
              "    .dataframe thead th {\n",
              "        text-align: right;\n",
              "    }\n",
              "</style>\n",
              "<table border=\"1\" class=\"dataframe\">\n",
              "  <thead>\n",
              "    <tr style=\"text-align: right;\">\n",
              "      <th></th>\n",
              "      <th>Data</th>\n",
              "      <th>ANO</th>\n",
              "      <th>MÊS</th>\n",
              "      <th>CSD</th>\n",
              "      <th>EQUIPES_</th>\n",
              "      <th>CSD_NOME</th>\n",
              "    </tr>\n",
              "  </thead>\n",
              "  <tbody>\n",
              "    <tr>\n",
              "      <th>0</th>\n",
              "      <td>2011-01-01</td>\n",
              "      <td>2011</td>\n",
              "      <td>1</td>\n",
              "      <td>GUL</td>\n",
              "      <td>13</td>\n",
              "      <td>GUARULHOS</td>\n",
              "    </tr>\n",
              "    <tr>\n",
              "      <th>1</th>\n",
              "      <td>2011-01-01</td>\n",
              "      <td>2011</td>\n",
              "      <td>1</td>\n",
              "      <td>GUR</td>\n",
              "      <td>23</td>\n",
              "      <td>GUARATINGUETA</td>\n",
              "    </tr>\n",
              "    <tr>\n",
              "      <th>2</th>\n",
              "      <td>2011-01-01</td>\n",
              "      <td>2011</td>\n",
              "      <td>1</td>\n",
              "      <td>LIT</td>\n",
              "      <td>12</td>\n",
              "      <td>LITORAL NORTE</td>\n",
              "    </tr>\n",
              "    <tr>\n",
              "      <th>3</th>\n",
              "      <td>2011-01-01</td>\n",
              "      <td>2011</td>\n",
              "      <td>1</td>\n",
              "      <td>MCR</td>\n",
              "      <td>11</td>\n",
              "      <td>MOGI DAS CRUZES</td>\n",
              "    </tr>\n",
              "    <tr>\n",
              "      <th>4</th>\n",
              "      <td>2011-01-01</td>\n",
              "      <td>2011</td>\n",
              "      <td>1</td>\n",
              "      <td>SJC</td>\n",
              "      <td>20</td>\n",
              "      <td>SÃO JOSE DOS CAMPOS</td>\n",
              "    </tr>\n",
              "    <tr>\n",
              "      <th>...</th>\n",
              "      <td>...</td>\n",
              "      <td>...</td>\n",
              "      <td>...</td>\n",
              "      <td>...</td>\n",
              "      <td>...</td>\n",
              "      <td>...</td>\n",
              "    </tr>\n",
              "    <tr>\n",
              "      <th>20616</th>\n",
              "      <td>2019-09-15</td>\n",
              "      <td>2019</td>\n",
              "      <td>9</td>\n",
              "      <td>GUR</td>\n",
              "      <td>17</td>\n",
              "      <td>GUARATINGUETA</td>\n",
              "    </tr>\n",
              "    <tr>\n",
              "      <th>20617</th>\n",
              "      <td>2019-09-15</td>\n",
              "      <td>2019</td>\n",
              "      <td>9</td>\n",
              "      <td>LIT</td>\n",
              "      <td>22</td>\n",
              "      <td>LITORAL NORTE</td>\n",
              "    </tr>\n",
              "    <tr>\n",
              "      <th>20618</th>\n",
              "      <td>2019-09-15</td>\n",
              "      <td>2019</td>\n",
              "      <td>9</td>\n",
              "      <td>MCR</td>\n",
              "      <td>12</td>\n",
              "      <td>MOGI DAS CRUZES</td>\n",
              "    </tr>\n",
              "    <tr>\n",
              "      <th>20619</th>\n",
              "      <td>2019-09-15</td>\n",
              "      <td>2019</td>\n",
              "      <td>9</td>\n",
              "      <td>SJC</td>\n",
              "      <td>22</td>\n",
              "      <td>SÃO JOSE DOS CAMPOS</td>\n",
              "    </tr>\n",
              "    <tr>\n",
              "      <th>20620</th>\n",
              "      <td>2019-09-15</td>\n",
              "      <td>2019</td>\n",
              "      <td>9</td>\n",
              "      <td>SUZ</td>\n",
              "      <td>15</td>\n",
              "      <td>POÁ</td>\n",
              "    </tr>\n",
              "  </tbody>\n",
              "</table>\n",
              "<p>20621 rows × 6 columns</p>\n",
              "</div>"
            ],
            "text/plain": [
              "            Data   ANO  MÊS  CSD  EQUIPES_             CSD_NOME\n",
              "0     2011-01-01  2011    1  GUL        13            GUARULHOS\n",
              "1     2011-01-01  2011    1  GUR        23        GUARATINGUETA\n",
              "2     2011-01-01  2011    1  LIT        12        LITORAL NORTE\n",
              "3     2011-01-01  2011    1  MCR        11      MOGI DAS CRUZES\n",
              "4     2011-01-01  2011    1  SJC        20  SÃO JOSE DOS CAMPOS\n",
              "...          ...   ...  ...  ...       ...                  ...\n",
              "20616 2019-09-15  2019    9  GUR        17        GUARATINGUETA\n",
              "20617 2019-09-15  2019    9  LIT        22        LITORAL NORTE\n",
              "20618 2019-09-15  2019    9  MCR        12      MOGI DAS CRUZES\n",
              "20619 2019-09-15  2019    9  SJC        22  SÃO JOSE DOS CAMPOS\n",
              "20620 2019-09-15  2019    9  SUZ        15                  POÁ\n",
              "\n",
              "[20621 rows x 6 columns]"
            ]
          },
          "metadata": {
            "tags": []
          },
          "execution_count": 13
        }
      ]
    },
    {
      "cell_type": "markdown",
      "metadata": {
        "id": "4m66qYqQpJQr",
        "colab_type": "text"
      },
      "source": [
        "# Tipo de dados"
      ]
    },
    {
      "cell_type": "markdown",
      "metadata": {
        "id": "9dJb9hDbpOMw",
        "colab_type": "text"
      },
      "source": [
        "Você pode ver os tipos das variáveis que acabou de carregar.\n",
        "\n",
        "Mais informações em: [link text](https://pandas.pydata.org/pandas-docs/stable/user_guide/io.html)"
      ]
    },
    {
      "cell_type": "code",
      "metadata": {
        "id": "-87R8mZDyArw",
        "colab_type": "code",
        "outputId": "784af6ff-971b-4257-8cc2-25ac9c22aadf",
        "colab": {
          "base_uri": "https://localhost:8080/",
          "height": 206
        }
      },
      "source": [
        "dataset.dtypes\n"
      ],
      "execution_count": 0,
      "outputs": [
        {
          "output_type": "execute_result",
          "data": {
            "text/plain": [
              "MAX_POT_AP_FASE_A_SEC_092019    float64\n",
              "MAX_POT_AP_FASE_B_SEC_092019    float64\n",
              "MAX_POT_AP_FASE_C_SEC_092019    float64\n",
              "CONFIGURACAO_BANCO              float64\n",
              "TOTAL_KVA_ET                    float64\n",
              "KM_REDE_SEC                     float64\n",
              "CLIENTES                        float64\n",
              "MAX_CARREGAMENTO_SECA           float64\n",
              "REGIONAL                        float64\n",
              "COND                            float64\n",
              "dtype: object"
            ]
          },
          "metadata": {
            "tags": []
          },
          "execution_count": 22
        }
      ]
    },
    {
      "cell_type": "markdown",
      "metadata": {
        "id": "idzGQiAA3beC",
        "colab_type": "text"
      },
      "source": [
        "# Normalização ou Padronizar os dados"
      ]
    },
    {
      "cell_type": "code",
      "metadata": {
        "id": "2Sihh8px35wc",
        "colab_type": "code",
        "outputId": "c0a4c0b6-ad4b-44fc-a15f-a12d35f63cc9",
        "colab": {
          "base_uri": "https://localhost:8080/",
          "height": 437
        }
      },
      "source": [
        "cols = dataset.columns\n",
        "df = pd.DataFrame(dataset)\n",
        "#df\n",
        "\n",
        "min_max_scaler = preprocessing.MinMaxScaler()\n",
        "np_scaled = min_max_scaler.fit_transform(dataset)\n",
        "df_normalized = pd.DataFrame(np_scaled, columns = cols)\n",
        "df_normalized"
      ],
      "execution_count": 0,
      "outputs": [
        {
          "output_type": "execute_result",
          "data": {
            "text/html": [
              "<div>\n",
              "<style scoped>\n",
              "    .dataframe tbody tr th:only-of-type {\n",
              "        vertical-align: middle;\n",
              "    }\n",
              "\n",
              "    .dataframe tbody tr th {\n",
              "        vertical-align: top;\n",
              "    }\n",
              "\n",
              "    .dataframe thead th {\n",
              "        text-align: right;\n",
              "    }\n",
              "</style>\n",
              "<table border=\"1\" class=\"dataframe\">\n",
              "  <thead>\n",
              "    <tr style=\"text-align: right;\">\n",
              "      <th></th>\n",
              "      <th>MAX_POT_AP_FASE_A_SEC_092019</th>\n",
              "      <th>MAX_POT_AP_FASE_B_SEC_092019</th>\n",
              "      <th>MAX_POT_AP_FASE_C_SEC_092019</th>\n",
              "      <th>CONFIGURACAO_BANCO</th>\n",
              "      <th>TOTAL_KVA_ET</th>\n",
              "      <th>KM_REDE_SEC</th>\n",
              "      <th>CLIENTES</th>\n",
              "      <th>MAX_CARREGAMENTO_SECA</th>\n",
              "      <th>REGIONAL</th>\n",
              "      <th>COND</th>\n",
              "    </tr>\n",
              "  </thead>\n",
              "  <tbody>\n",
              "    <tr>\n",
              "      <th>0</th>\n",
              "      <td>0.008729</td>\n",
              "      <td>0.004226</td>\n",
              "      <td>0.012221</td>\n",
              "      <td>0.666667</td>\n",
              "      <td>0.285714</td>\n",
              "      <td>0.154371</td>\n",
              "      <td>0.001927</td>\n",
              "      <td>0.001883</td>\n",
              "      <td>0.0</td>\n",
              "      <td>0.0</td>\n",
              "    </tr>\n",
              "    <tr>\n",
              "      <th>1</th>\n",
              "      <td>0.002248</td>\n",
              "      <td>0.002174</td>\n",
              "      <td>0.012397</td>\n",
              "      <td>0.333333</td>\n",
              "      <td>0.107143</td>\n",
              "      <td>0.114231</td>\n",
              "      <td>0.003854</td>\n",
              "      <td>0.002311</td>\n",
              "      <td>0.0</td>\n",
              "      <td>0.0</td>\n",
              "    </tr>\n",
              "    <tr>\n",
              "      <th>2</th>\n",
              "      <td>0.000084</td>\n",
              "      <td>0.000082</td>\n",
              "      <td>0.000000</td>\n",
              "      <td>0.333333</td>\n",
              "      <td>0.081633</td>\n",
              "      <td>0.000000</td>\n",
              "      <td>0.001927</td>\n",
              "      <td>0.000057</td>\n",
              "      <td>0.0</td>\n",
              "      <td>0.0</td>\n",
              "    </tr>\n",
              "    <tr>\n",
              "      <th>3</th>\n",
              "      <td>0.416491</td>\n",
              "      <td>0.404722</td>\n",
              "      <td>0.000000</td>\n",
              "      <td>0.000000</td>\n",
              "      <td>0.010204</td>\n",
              "      <td>0.523903</td>\n",
              "      <td>0.233141</td>\n",
              "      <td>0.897216</td>\n",
              "      <td>0.0</td>\n",
              "      <td>0.0</td>\n",
              "    </tr>\n",
              "    <tr>\n",
              "      <th>4</th>\n",
              "      <td>0.371042</td>\n",
              "      <td>0.360558</td>\n",
              "      <td>0.000000</td>\n",
              "      <td>0.000000</td>\n",
              "      <td>0.010204</td>\n",
              "      <td>0.278449</td>\n",
              "      <td>0.215800</td>\n",
              "      <td>0.799312</td>\n",
              "      <td>0.0</td>\n",
              "      <td>0.0</td>\n",
              "    </tr>\n",
              "    <tr>\n",
              "      <th>...</th>\n",
              "      <td>...</td>\n",
              "      <td>...</td>\n",
              "      <td>...</td>\n",
              "      <td>...</td>\n",
              "      <td>...</td>\n",
              "      <td>...</td>\n",
              "      <td>...</td>\n",
              "      <td>...</td>\n",
              "      <td>...</td>\n",
              "      <td>...</td>\n",
              "    </tr>\n",
              "    <tr>\n",
              "      <th>195</th>\n",
              "      <td>0.261209</td>\n",
              "      <td>0.260680</td>\n",
              "      <td>0.520339</td>\n",
              "      <td>1.000000</td>\n",
              "      <td>0.071429</td>\n",
              "      <td>0.141094</td>\n",
              "      <td>0.113680</td>\n",
              "      <td>0.257298</td>\n",
              "      <td>1.0</td>\n",
              "      <td>1.0</td>\n",
              "    </tr>\n",
              "    <tr>\n",
              "      <th>196</th>\n",
              "      <td>0.000137</td>\n",
              "      <td>0.000133</td>\n",
              "      <td>0.000381</td>\n",
              "      <td>1.000000</td>\n",
              "      <td>0.040816</td>\n",
              "      <td>0.000000</td>\n",
              "      <td>0.001927</td>\n",
              "      <td>0.000218</td>\n",
              "      <td>1.0</td>\n",
              "      <td>0.0</td>\n",
              "    </tr>\n",
              "    <tr>\n",
              "      <th>197</th>\n",
              "      <td>0.001699</td>\n",
              "      <td>0.001651</td>\n",
              "      <td>0.004718</td>\n",
              "      <td>1.000000</td>\n",
              "      <td>0.071429</td>\n",
              "      <td>0.000000</td>\n",
              "      <td>0.001927</td>\n",
              "      <td>0.001834</td>\n",
              "      <td>1.0</td>\n",
              "      <td>0.0</td>\n",
              "    </tr>\n",
              "    <tr>\n",
              "      <th>198</th>\n",
              "      <td>0.003810</td>\n",
              "      <td>0.003672</td>\n",
              "      <td>0.000000</td>\n",
              "      <td>1.000000</td>\n",
              "      <td>0.071429</td>\n",
              "      <td>0.088196</td>\n",
              "      <td>0.005780</td>\n",
              "      <td>0.002723</td>\n",
              "      <td>1.0</td>\n",
              "      <td>0.0</td>\n",
              "    </tr>\n",
              "    <tr>\n",
              "      <th>199</th>\n",
              "      <td>0.001330</td>\n",
              "      <td>0.001292</td>\n",
              "      <td>0.003693</td>\n",
              "      <td>1.000000</td>\n",
              "      <td>0.438776</td>\n",
              "      <td>0.000000</td>\n",
              "      <td>0.003854</td>\n",
              "      <td>0.000306</td>\n",
              "      <td>1.0</td>\n",
              "      <td>0.0</td>\n",
              "    </tr>\n",
              "  </tbody>\n",
              "</table>\n",
              "<p>200 rows × 10 columns</p>\n",
              "</div>"
            ],
            "text/plain": [
              "     MAX_POT_AP_FASE_A_SEC_092019  MAX_POT_AP_FASE_B_SEC_092019  ...  REGIONAL  COND\n",
              "0                        0.008729                      0.004226  ...       0.0   0.0\n",
              "1                        0.002248                      0.002174  ...       0.0   0.0\n",
              "2                        0.000084                      0.000082  ...       0.0   0.0\n",
              "3                        0.416491                      0.404722  ...       0.0   0.0\n",
              "4                        0.371042                      0.360558  ...       0.0   0.0\n",
              "..                            ...                           ...  ...       ...   ...\n",
              "195                      0.261209                      0.260680  ...       1.0   1.0\n",
              "196                      0.000137                      0.000133  ...       1.0   0.0\n",
              "197                      0.001699                      0.001651  ...       1.0   0.0\n",
              "198                      0.003810                      0.003672  ...       1.0   0.0\n",
              "199                      0.001330                      0.001292  ...       1.0   0.0\n",
              "\n",
              "[200 rows x 10 columns]"
            ]
          },
          "metadata": {
            "tags": []
          },
          "execution_count": 23
        }
      ]
    },
    {
      "cell_type": "markdown",
      "metadata": {
        "id": "TUGv6wRA_KvV",
        "colab_type": "text"
      },
      "source": [
        "# outra forma de normalizar\n"
      ]
    },
    {
      "cell_type": "code",
      "metadata": {
        "id": "UY8eKx_a_PJx",
        "colab_type": "code",
        "outputId": "0d7361f6-21c4-4a36-9175-1a2ad3cc7599",
        "colab": {
          "base_uri": "https://localhost:8080/",
          "height": 437
        }
      },
      "source": [
        "cols = dataset.columns\n",
        "scaler = MinMaxScaler()\n",
        "scaler.fit(dataset)\n",
        "np_scaled=scaler.transform(dataset)\n",
        "dataset_norm = pd.DataFrame(np_scaled, columns = cols)\n",
        "dataset_norm\n"
      ],
      "execution_count": 0,
      "outputs": [
        {
          "output_type": "execute_result",
          "data": {
            "text/html": [
              "<div>\n",
              "<style scoped>\n",
              "    .dataframe tbody tr th:only-of-type {\n",
              "        vertical-align: middle;\n",
              "    }\n",
              "\n",
              "    .dataframe tbody tr th {\n",
              "        vertical-align: top;\n",
              "    }\n",
              "\n",
              "    .dataframe thead th {\n",
              "        text-align: right;\n",
              "    }\n",
              "</style>\n",
              "<table border=\"1\" class=\"dataframe\">\n",
              "  <thead>\n",
              "    <tr style=\"text-align: right;\">\n",
              "      <th></th>\n",
              "      <th>MAX_POT_AP_FASE_A_SEC_092019</th>\n",
              "      <th>MAX_POT_AP_FASE_B_SEC_092019</th>\n",
              "      <th>MAX_POT_AP_FASE_C_SEC_092019</th>\n",
              "      <th>CONFIGURACAO_BANCO</th>\n",
              "      <th>TOTAL_KVA_ET</th>\n",
              "      <th>KM_REDE_SEC</th>\n",
              "      <th>CLIENTES</th>\n",
              "      <th>MAX_CARREGAMENTO_SECA</th>\n",
              "      <th>REGIONAL</th>\n",
              "      <th>COND</th>\n",
              "    </tr>\n",
              "  </thead>\n",
              "  <tbody>\n",
              "    <tr>\n",
              "      <th>0</th>\n",
              "      <td>0.008729</td>\n",
              "      <td>0.004226</td>\n",
              "      <td>0.012221</td>\n",
              "      <td>0.666667</td>\n",
              "      <td>0.285714</td>\n",
              "      <td>0.154371</td>\n",
              "      <td>0.001927</td>\n",
              "      <td>0.001883</td>\n",
              "      <td>0.0</td>\n",
              "      <td>0.0</td>\n",
              "    </tr>\n",
              "    <tr>\n",
              "      <th>1</th>\n",
              "      <td>0.002248</td>\n",
              "      <td>0.002174</td>\n",
              "      <td>0.012397</td>\n",
              "      <td>0.333333</td>\n",
              "      <td>0.107143</td>\n",
              "      <td>0.114231</td>\n",
              "      <td>0.003854</td>\n",
              "      <td>0.002311</td>\n",
              "      <td>0.0</td>\n",
              "      <td>0.0</td>\n",
              "    </tr>\n",
              "    <tr>\n",
              "      <th>2</th>\n",
              "      <td>0.000084</td>\n",
              "      <td>0.000082</td>\n",
              "      <td>0.000000</td>\n",
              "      <td>0.333333</td>\n",
              "      <td>0.081633</td>\n",
              "      <td>0.000000</td>\n",
              "      <td>0.001927</td>\n",
              "      <td>0.000057</td>\n",
              "      <td>0.0</td>\n",
              "      <td>0.0</td>\n",
              "    </tr>\n",
              "    <tr>\n",
              "      <th>3</th>\n",
              "      <td>0.416491</td>\n",
              "      <td>0.404722</td>\n",
              "      <td>0.000000</td>\n",
              "      <td>0.000000</td>\n",
              "      <td>0.010204</td>\n",
              "      <td>0.523903</td>\n",
              "      <td>0.233141</td>\n",
              "      <td>0.897216</td>\n",
              "      <td>0.0</td>\n",
              "      <td>0.0</td>\n",
              "    </tr>\n",
              "    <tr>\n",
              "      <th>4</th>\n",
              "      <td>0.371042</td>\n",
              "      <td>0.360558</td>\n",
              "      <td>0.000000</td>\n",
              "      <td>0.000000</td>\n",
              "      <td>0.010204</td>\n",
              "      <td>0.278449</td>\n",
              "      <td>0.215800</td>\n",
              "      <td>0.799312</td>\n",
              "      <td>0.0</td>\n",
              "      <td>0.0</td>\n",
              "    </tr>\n",
              "    <tr>\n",
              "      <th>...</th>\n",
              "      <td>...</td>\n",
              "      <td>...</td>\n",
              "      <td>...</td>\n",
              "      <td>...</td>\n",
              "      <td>...</td>\n",
              "      <td>...</td>\n",
              "      <td>...</td>\n",
              "      <td>...</td>\n",
              "      <td>...</td>\n",
              "      <td>...</td>\n",
              "    </tr>\n",
              "    <tr>\n",
              "      <th>195</th>\n",
              "      <td>0.261209</td>\n",
              "      <td>0.260680</td>\n",
              "      <td>0.520339</td>\n",
              "      <td>1.000000</td>\n",
              "      <td>0.071429</td>\n",
              "      <td>0.141094</td>\n",
              "      <td>0.113680</td>\n",
              "      <td>0.257298</td>\n",
              "      <td>1.0</td>\n",
              "      <td>1.0</td>\n",
              "    </tr>\n",
              "    <tr>\n",
              "      <th>196</th>\n",
              "      <td>0.000137</td>\n",
              "      <td>0.000133</td>\n",
              "      <td>0.000381</td>\n",
              "      <td>1.000000</td>\n",
              "      <td>0.040816</td>\n",
              "      <td>0.000000</td>\n",
              "      <td>0.001927</td>\n",
              "      <td>0.000218</td>\n",
              "      <td>1.0</td>\n",
              "      <td>0.0</td>\n",
              "    </tr>\n",
              "    <tr>\n",
              "      <th>197</th>\n",
              "      <td>0.001699</td>\n",
              "      <td>0.001651</td>\n",
              "      <td>0.004718</td>\n",
              "      <td>1.000000</td>\n",
              "      <td>0.071429</td>\n",
              "      <td>0.000000</td>\n",
              "      <td>0.001927</td>\n",
              "      <td>0.001834</td>\n",
              "      <td>1.0</td>\n",
              "      <td>0.0</td>\n",
              "    </tr>\n",
              "    <tr>\n",
              "      <th>198</th>\n",
              "      <td>0.003810</td>\n",
              "      <td>0.003672</td>\n",
              "      <td>0.000000</td>\n",
              "      <td>1.000000</td>\n",
              "      <td>0.071429</td>\n",
              "      <td>0.088196</td>\n",
              "      <td>0.005780</td>\n",
              "      <td>0.002723</td>\n",
              "      <td>1.0</td>\n",
              "      <td>0.0</td>\n",
              "    </tr>\n",
              "    <tr>\n",
              "      <th>199</th>\n",
              "      <td>0.001330</td>\n",
              "      <td>0.001292</td>\n",
              "      <td>0.003693</td>\n",
              "      <td>1.000000</td>\n",
              "      <td>0.438776</td>\n",
              "      <td>0.000000</td>\n",
              "      <td>0.003854</td>\n",
              "      <td>0.000306</td>\n",
              "      <td>1.0</td>\n",
              "      <td>0.0</td>\n",
              "    </tr>\n",
              "  </tbody>\n",
              "</table>\n",
              "<p>200 rows × 10 columns</p>\n",
              "</div>"
            ],
            "text/plain": [
              "     MAX_POT_AP_FASE_A_SEC_092019  MAX_POT_AP_FASE_B_SEC_092019  ...  REGIONAL  COND\n",
              "0                        0.008729                      0.004226  ...       0.0   0.0\n",
              "1                        0.002248                      0.002174  ...       0.0   0.0\n",
              "2                        0.000084                      0.000082  ...       0.0   0.0\n",
              "3                        0.416491                      0.404722  ...       0.0   0.0\n",
              "4                        0.371042                      0.360558  ...       0.0   0.0\n",
              "..                            ...                           ...  ...       ...   ...\n",
              "195                      0.261209                      0.260680  ...       1.0   1.0\n",
              "196                      0.000137                      0.000133  ...       1.0   0.0\n",
              "197                      0.001699                      0.001651  ...       1.0   0.0\n",
              "198                      0.003810                      0.003672  ...       1.0   0.0\n",
              "199                      0.001330                      0.001292  ...       1.0   0.0\n",
              "\n",
              "[200 rows x 10 columns]"
            ]
          },
          "metadata": {
            "tags": []
          },
          "execution_count": 24
        }
      ]
    },
    {
      "cell_type": "code",
      "metadata": {
        "id": "F4l8Vg7WAp2a",
        "colab_type": "code",
        "outputId": "0c0fa88f-b367-4483-9303-e7db4b6b4afe",
        "colab": {
          "base_uri": "https://localhost:8080/",
          "height": 437
        }
      },
      "source": [
        "cols = dataset.columns\n",
        "np_scaled=scaler.inverse_transform(dataset_norm)\n",
        "dataset_denorm = pd.DataFrame(np_scaled, columns = cols)\n",
        "dataset_denorm"
      ],
      "execution_count": 0,
      "outputs": [
        {
          "output_type": "execute_result",
          "data": {
            "text/html": [
              "<div>\n",
              "<style scoped>\n",
              "    .dataframe tbody tr th:only-of-type {\n",
              "        vertical-align: middle;\n",
              "    }\n",
              "\n",
              "    .dataframe tbody tr th {\n",
              "        vertical-align: top;\n",
              "    }\n",
              "\n",
              "    .dataframe thead th {\n",
              "        text-align: right;\n",
              "    }\n",
              "</style>\n",
              "<table border=\"1\" class=\"dataframe\">\n",
              "  <thead>\n",
              "    <tr style=\"text-align: right;\">\n",
              "      <th></th>\n",
              "      <th>MAX_POT_AP_FASE_A_SEC_092019</th>\n",
              "      <th>MAX_POT_AP_FASE_B_SEC_092019</th>\n",
              "      <th>MAX_POT_AP_FASE_C_SEC_092019</th>\n",
              "      <th>CONFIGURACAO_BANCO</th>\n",
              "      <th>TOTAL_KVA_ET</th>\n",
              "      <th>KM_REDE_SEC</th>\n",
              "      <th>CLIENTES</th>\n",
              "      <th>MAX_CARREGAMENTO_SECA</th>\n",
              "      <th>REGIONAL</th>\n",
              "      <th>COND</th>\n",
              "    </tr>\n",
              "  </thead>\n",
              "  <tbody>\n",
              "    <tr>\n",
              "      <th>0</th>\n",
              "      <td>0.827</td>\n",
              "      <td>0.412</td>\n",
              "      <td>0.417</td>\n",
              "      <td>2.0</td>\n",
              "      <td>150.0</td>\n",
              "      <td>0.176966</td>\n",
              "      <td>1.0</td>\n",
              "      <td>0.690</td>\n",
              "      <td>1.0</td>\n",
              "      <td>0.0</td>\n",
              "    </tr>\n",
              "    <tr>\n",
              "      <th>1</th>\n",
              "      <td>0.213</td>\n",
              "      <td>0.212</td>\n",
              "      <td>0.423</td>\n",
              "      <td>1.0</td>\n",
              "      <td>62.5</td>\n",
              "      <td>0.130951</td>\n",
              "      <td>2.0</td>\n",
              "      <td>0.847</td>\n",
              "      <td>1.0</td>\n",
              "      <td>0.0</td>\n",
              "    </tr>\n",
              "    <tr>\n",
              "      <th>2</th>\n",
              "      <td>0.008</td>\n",
              "      <td>0.008</td>\n",
              "      <td>0.000</td>\n",
              "      <td>1.0</td>\n",
              "      <td>50.0</td>\n",
              "      <td>0.000000</td>\n",
              "      <td>1.0</td>\n",
              "      <td>0.021</td>\n",
              "      <td>1.0</td>\n",
              "      <td>0.0</td>\n",
              "    </tr>\n",
              "    <tr>\n",
              "      <th>3</th>\n",
              "      <td>39.460</td>\n",
              "      <td>39.460</td>\n",
              "      <td>0.000</td>\n",
              "      <td>0.0</td>\n",
              "      <td>15.0</td>\n",
              "      <td>0.600586</td>\n",
              "      <td>121.0</td>\n",
              "      <td>328.834</td>\n",
              "      <td>1.0</td>\n",
              "      <td>0.0</td>\n",
              "    </tr>\n",
              "    <tr>\n",
              "      <th>4</th>\n",
              "      <td>35.154</td>\n",
              "      <td>35.154</td>\n",
              "      <td>0.000</td>\n",
              "      <td>0.0</td>\n",
              "      <td>15.0</td>\n",
              "      <td>0.319205</td>\n",
              "      <td>112.0</td>\n",
              "      <td>292.952</td>\n",
              "      <td>1.0</td>\n",
              "      <td>0.0</td>\n",
              "    </tr>\n",
              "    <tr>\n",
              "      <th>...</th>\n",
              "      <td>...</td>\n",
              "      <td>...</td>\n",
              "      <td>...</td>\n",
              "      <td>...</td>\n",
              "      <td>...</td>\n",
              "      <td>...</td>\n",
              "      <td>...</td>\n",
              "      <td>...</td>\n",
              "      <td>...</td>\n",
              "      <td>...</td>\n",
              "    </tr>\n",
              "    <tr>\n",
              "      <th>195</th>\n",
              "      <td>24.748</td>\n",
              "      <td>25.416</td>\n",
              "      <td>17.755</td>\n",
              "      <td>3.0</td>\n",
              "      <td>45.0</td>\n",
              "      <td>0.161745</td>\n",
              "      <td>59.0</td>\n",
              "      <td>94.301</td>\n",
              "      <td>5.0</td>\n",
              "      <td>10.0</td>\n",
              "    </tr>\n",
              "    <tr>\n",
              "      <th>196</th>\n",
              "      <td>0.013</td>\n",
              "      <td>0.013</td>\n",
              "      <td>0.013</td>\n",
              "      <td>3.0</td>\n",
              "      <td>30.0</td>\n",
              "      <td>0.000000</td>\n",
              "      <td>1.0</td>\n",
              "      <td>0.080</td>\n",
              "      <td>5.0</td>\n",
              "      <td>0.0</td>\n",
              "    </tr>\n",
              "    <tr>\n",
              "      <th>197</th>\n",
              "      <td>0.161</td>\n",
              "      <td>0.161</td>\n",
              "      <td>0.161</td>\n",
              "      <td>3.0</td>\n",
              "      <td>45.0</td>\n",
              "      <td>0.000000</td>\n",
              "      <td>1.0</td>\n",
              "      <td>0.672</td>\n",
              "      <td>5.0</td>\n",
              "      <td>0.0</td>\n",
              "    </tr>\n",
              "    <tr>\n",
              "      <th>198</th>\n",
              "      <td>0.361</td>\n",
              "      <td>0.358</td>\n",
              "      <td>0.000</td>\n",
              "      <td>3.0</td>\n",
              "      <td>45.0</td>\n",
              "      <td>0.101105</td>\n",
              "      <td>3.0</td>\n",
              "      <td>0.998</td>\n",
              "      <td>5.0</td>\n",
              "      <td>0.0</td>\n",
              "    </tr>\n",
              "    <tr>\n",
              "      <th>199</th>\n",
              "      <td>0.126</td>\n",
              "      <td>0.126</td>\n",
              "      <td>0.126</td>\n",
              "      <td>3.0</td>\n",
              "      <td>225.0</td>\n",
              "      <td>0.000000</td>\n",
              "      <td>2.0</td>\n",
              "      <td>0.112</td>\n",
              "      <td>5.0</td>\n",
              "      <td>0.0</td>\n",
              "    </tr>\n",
              "  </tbody>\n",
              "</table>\n",
              "<p>200 rows × 10 columns</p>\n",
              "</div>"
            ],
            "text/plain": [
              "     MAX_POT_AP_FASE_A_SEC_092019  MAX_POT_AP_FASE_B_SEC_092019  ...  REGIONAL  COND\n",
              "0                           0.827                         0.412  ...       1.0   0.0\n",
              "1                           0.213                         0.212  ...       1.0   0.0\n",
              "2                           0.008                         0.008  ...       1.0   0.0\n",
              "3                          39.460                        39.460  ...       1.0   0.0\n",
              "4                          35.154                        35.154  ...       1.0   0.0\n",
              "..                            ...                           ...  ...       ...   ...\n",
              "195                        24.748                        25.416  ...       5.0  10.0\n",
              "196                         0.013                         0.013  ...       5.0   0.0\n",
              "197                         0.161                         0.161  ...       5.0   0.0\n",
              "198                         0.361                         0.358  ...       5.0   0.0\n",
              "199                         0.126                         0.126  ...       5.0   0.0\n",
              "\n",
              "[200 rows x 10 columns]"
            ]
          },
          "metadata": {
            "tags": []
          },
          "execution_count": 25
        }
      ]
    }
  ]
}