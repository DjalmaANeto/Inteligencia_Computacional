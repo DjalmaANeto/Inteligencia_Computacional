{
  "nbformat": 4,
  "nbformat_minor": 0,
  "metadata": {
    "colab": {
      "name": "Risco_de_cancer_de_mama_em_pessoas_obesas_Pratico_02.ipynb",
      "provenance": [],
      "collapsed_sections": []
    },
    "kernelspec": {
      "name": "python3",
      "display_name": "Python 3"
    }
  },
  "cells": [
    {
      "cell_type": "markdown",
      "metadata": {
        "id": "C_c7e9Gpwk_z",
        "colab_type": "text"
      },
      "source": [
        "# Carregar bibliotecas"
      ]
    },
    {
      "cell_type": "code",
      "metadata": {
        "id": "J0z-00uRwkaj",
        "colab_type": "code",
        "outputId": "35f7e1b1-6e46-4e9b-f916-924d311647f8",
        "colab": {
          "base_uri": "https://localhost:8080/",
          "height": 81
        }
      },
      "source": [
        "  from __future__ import absolute_import, division, print_function, unicode_literals\n",
        "  import pathlib\n",
        "\n",
        "  import pandas as pd \n",
        "  # O pandas é uma biblioteca de código aberto que fornece estruturas de dados de \n",
        "  # alto desempenho e fáceis de usar e ferramentas de análise\n",
        "\n",
        "  import io           \n",
        "  # entrada e saída. \n",
        "  # O módulo io fornece as interfaces Python para o fluxo de manipulação.\n",
        "\n",
        "  import matplotlib.pyplot as plt \n",
        "  # O Matplotlib é uma biblioteca de plotagem 2D do Python\n",
        "  # mais detalhes em: https://matplotlib.org/3.1.1/api/_as_gen/matplotlib.pyplot.html\n",
        "\n",
        "  !pip install -q seaborn\n",
        "  import seaborn as sns\n",
        "  # Seaborn é uma biblioteca de visualização de dados Python baseada no matplotlib. \n",
        "  # Ela fornece uma interface de alto nível para desenhar gráficos estatísticos.\n",
        "\n",
        "  from sklearn import preprocessing \n",
        "  from sklearn.preprocessing import MinMaxScaler\n",
        "  # Ferramentas simples e eficientes para mineração e análise de dados\n",
        "\n",
        "  import tensorflow as tf\n",
        "  from tensorflow import keras\n",
        "  from tensorflow.keras import layers\n",
        "\n",
        "  from keras.models import Sequential\n",
        "  from keras.layers import Dense, Activation\n"
      ],
      "execution_count": 1,
      "outputs": [
        {
          "output_type": "display_data",
          "data": {
            "text/html": [
              "<p style=\"color: red;\">\n",
              "The default version of TensorFlow in Colab will soon switch to TensorFlow 2.x.<br>\n",
              "We recommend you <a href=\"https://www.tensorflow.org/guide/migrate\" target=\"_blank\">upgrade</a> now \n",
              "or ensure your notebook will continue to use TensorFlow 1.x via the <code>%tensorflow_version 1.x</code> magic:\n",
              "<a href=\"https://colab.research.google.com/notebooks/tensorflow_version.ipynb\" target=\"_blank\">more info</a>.</p>\n"
            ],
            "text/plain": [
              "<IPython.core.display.HTML object>"
            ]
          },
          "metadata": {
            "tags": []
          }
        },
        {
          "output_type": "stream",
          "text": [
            "Using TensorFlow backend.\n"
          ],
          "name": "stderr"
        }
      ]
    },
    {
      "cell_type": "code",
      "metadata": {
        "id": "HSRtGuZYtWhj",
        "colab_type": "code",
        "outputId": "80d2b288-dfe0-4207-a33a-52aaaafc8a3d",
        "colab": {
          "resources": {
            "http://localhost:8080/nbextensions/google.colab/files.js": {
              "data": "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",
              "ok": true,
              "headers": [
                [
                  "content-type",
                  "application/javascript"
                ]
              ],
              "status": 200,
              "status_text": ""
            }
          },
          "base_uri": "https://localhost:8080/",
          "height": 75
        }
      },
      "source": [
        "from google.colab import files\n",
        "uploaded = files.upload()"
      ],
      "execution_count": 2,
      "outputs": [
        {
          "output_type": "display_data",
          "data": {
            "text/html": [
              "\n",
              "     <input type=\"file\" id=\"files-7ac57f0a-8333-49b9-8319-95b7c2e541ee\" name=\"files[]\" multiple disabled />\n",
              "     <output id=\"result-7ac57f0a-8333-49b9-8319-95b7c2e541ee\">\n",
              "      Upload widget is only available when the cell has been executed in the\n",
              "      current browser session. Please rerun this cell to enable.\n",
              "      </output>\n",
              "      <script src=\"/nbextensions/google.colab/files.js\"></script> "
            ],
            "text/plain": [
              "<IPython.core.display.HTML object>"
            ]
          },
          "metadata": {
            "tags": []
          }
        },
        {
          "output_type": "stream",
          "text": [
            "Saving dataR2.xlsx to dataR2.xlsx\n"
          ],
          "name": "stdout"
        }
      ]
    },
    {
      "cell_type": "markdown",
      "metadata": {
        "id": "JaMPppmywGbh",
        "colab_type": "text"
      },
      "source": [
        "# Carregar dados\n",
        "\n",
        "* O passo seguinte, você pode carregar os seus dados a partir dos arquivos que fez upload:"
      ]
    },
    {
      "cell_type": "code",
      "metadata": {
        "id": "za3MkonKwT3Y",
        "colab_type": "code",
        "colab": {}
      },
      "source": [
        "dataset = pd.read_excel(io.BytesIO(uploaded['dataR2.xlsx']))"
      ],
      "execution_count": 0,
      "outputs": []
    },
    {
      "cell_type": "markdown",
      "metadata": {
        "id": "JtWWOoCUnjIw",
        "colab_type": "text"
      },
      "source": [
        "* Você também pode ler dados com extensão csv\n",
        "\n",
        "  dataset = pd.read_csv('NomeDoArquivo.csv')\n",
        "\n",
        "  Mais informações em [link text](https://pandas.pydata.org/pandas-docs/stable/user_guide/io.html)"
      ]
    },
    {
      "cell_type": "markdown",
      "metadata": {
        "id": "7VNwOcxQxsFe",
        "colab_type": "text"
      },
      "source": [
        "# Visualizar dados\n"
      ]
    },
    {
      "cell_type": "code",
      "metadata": {
        "id": "H7sWcORAx1eE",
        "colab_type": "code",
        "outputId": "1f587f65-8980-4ad7-f524-096c2b2eba54",
        "colab": {
          "base_uri": "https://localhost:8080/",
          "height": 415
        }
      },
      "source": [
        "dataset"
      ],
      "execution_count": 4,
      "outputs": [
        {
          "output_type": "execute_result",
          "data": {
            "text/html": [
              "<div>\n",
              "<style scoped>\n",
              "    .dataframe tbody tr th:only-of-type {\n",
              "        vertical-align: middle;\n",
              "    }\n",
              "\n",
              "    .dataframe tbody tr th {\n",
              "        vertical-align: top;\n",
              "    }\n",
              "\n",
              "    .dataframe thead th {\n",
              "        text-align: right;\n",
              "    }\n",
              "</style>\n",
              "<table border=\"1\" class=\"dataframe\">\n",
              "  <thead>\n",
              "    <tr style=\"text-align: right;\">\n",
              "      <th></th>\n",
              "      <th>Age</th>\n",
              "      <th>BMI</th>\n",
              "      <th>Glucose</th>\n",
              "      <th>Insulin</th>\n",
              "      <th>HOMA</th>\n",
              "      <th>Leptin</th>\n",
              "      <th>Adiponectin</th>\n",
              "      <th>Resistin</th>\n",
              "      <th>MCP.1</th>\n",
              "      <th>Classification</th>\n",
              "    </tr>\n",
              "  </thead>\n",
              "  <tbody>\n",
              "    <tr>\n",
              "      <th>0</th>\n",
              "      <td>48</td>\n",
              "      <td>23.500000</td>\n",
              "      <td>70</td>\n",
              "      <td>2.707</td>\n",
              "      <td>0.467409</td>\n",
              "      <td>8.8071</td>\n",
              "      <td>9.702400</td>\n",
              "      <td>7.99585</td>\n",
              "      <td>417.114</td>\n",
              "      <td>1</td>\n",
              "    </tr>\n",
              "    <tr>\n",
              "      <th>1</th>\n",
              "      <td>83</td>\n",
              "      <td>20.690495</td>\n",
              "      <td>92</td>\n",
              "      <td>3.115</td>\n",
              "      <td>0.706897</td>\n",
              "      <td>8.8438</td>\n",
              "      <td>5.429285</td>\n",
              "      <td>4.06405</td>\n",
              "      <td>468.786</td>\n",
              "      <td>1</td>\n",
              "    </tr>\n",
              "    <tr>\n",
              "      <th>2</th>\n",
              "      <td>82</td>\n",
              "      <td>23.124670</td>\n",
              "      <td>91</td>\n",
              "      <td>4.498</td>\n",
              "      <td>1.009651</td>\n",
              "      <td>17.9393</td>\n",
              "      <td>22.432040</td>\n",
              "      <td>9.27715</td>\n",
              "      <td>554.697</td>\n",
              "      <td>1</td>\n",
              "    </tr>\n",
              "    <tr>\n",
              "      <th>3</th>\n",
              "      <td>68</td>\n",
              "      <td>21.367521</td>\n",
              "      <td>77</td>\n",
              "      <td>3.226</td>\n",
              "      <td>0.612725</td>\n",
              "      <td>9.8827</td>\n",
              "      <td>7.169560</td>\n",
              "      <td>12.76600</td>\n",
              "      <td>928.220</td>\n",
              "      <td>1</td>\n",
              "    </tr>\n",
              "    <tr>\n",
              "      <th>4</th>\n",
              "      <td>86</td>\n",
              "      <td>21.111111</td>\n",
              "      <td>92</td>\n",
              "      <td>3.549</td>\n",
              "      <td>0.805386</td>\n",
              "      <td>6.6994</td>\n",
              "      <td>4.819240</td>\n",
              "      <td>10.57635</td>\n",
              "      <td>773.920</td>\n",
              "      <td>1</td>\n",
              "    </tr>\n",
              "    <tr>\n",
              "      <th>...</th>\n",
              "      <td>...</td>\n",
              "      <td>...</td>\n",
              "      <td>...</td>\n",
              "      <td>...</td>\n",
              "      <td>...</td>\n",
              "      <td>...</td>\n",
              "      <td>...</td>\n",
              "      <td>...</td>\n",
              "      <td>...</td>\n",
              "      <td>...</td>\n",
              "    </tr>\n",
              "    <tr>\n",
              "      <th>111</th>\n",
              "      <td>45</td>\n",
              "      <td>26.850000</td>\n",
              "      <td>92</td>\n",
              "      <td>3.330</td>\n",
              "      <td>0.755688</td>\n",
              "      <td>54.6800</td>\n",
              "      <td>12.100000</td>\n",
              "      <td>10.96000</td>\n",
              "      <td>268.230</td>\n",
              "      <td>2</td>\n",
              "    </tr>\n",
              "    <tr>\n",
              "      <th>112</th>\n",
              "      <td>62</td>\n",
              "      <td>26.840000</td>\n",
              "      <td>100</td>\n",
              "      <td>4.530</td>\n",
              "      <td>1.117400</td>\n",
              "      <td>12.4500</td>\n",
              "      <td>21.420000</td>\n",
              "      <td>7.32000</td>\n",
              "      <td>330.160</td>\n",
              "      <td>2</td>\n",
              "    </tr>\n",
              "    <tr>\n",
              "      <th>113</th>\n",
              "      <td>65</td>\n",
              "      <td>32.050000</td>\n",
              "      <td>97</td>\n",
              "      <td>5.730</td>\n",
              "      <td>1.370998</td>\n",
              "      <td>61.4800</td>\n",
              "      <td>22.540000</td>\n",
              "      <td>10.33000</td>\n",
              "      <td>314.050</td>\n",
              "      <td>2</td>\n",
              "    </tr>\n",
              "    <tr>\n",
              "      <th>114</th>\n",
              "      <td>72</td>\n",
              "      <td>25.590000</td>\n",
              "      <td>82</td>\n",
              "      <td>2.820</td>\n",
              "      <td>0.570392</td>\n",
              "      <td>24.9600</td>\n",
              "      <td>33.750000</td>\n",
              "      <td>3.27000</td>\n",
              "      <td>392.460</td>\n",
              "      <td>2</td>\n",
              "    </tr>\n",
              "    <tr>\n",
              "      <th>115</th>\n",
              "      <td>86</td>\n",
              "      <td>27.180000</td>\n",
              "      <td>138</td>\n",
              "      <td>19.910</td>\n",
              "      <td>6.777364</td>\n",
              "      <td>90.2800</td>\n",
              "      <td>14.110000</td>\n",
              "      <td>4.35000</td>\n",
              "      <td>90.090</td>\n",
              "      <td>2</td>\n",
              "    </tr>\n",
              "  </tbody>\n",
              "</table>\n",
              "<p>116 rows × 10 columns</p>\n",
              "</div>"
            ],
            "text/plain": [
              "     Age        BMI  Glucose  ...  Resistin    MCP.1  Classification\n",
              "0     48  23.500000       70  ...   7.99585  417.114               1\n",
              "1     83  20.690495       92  ...   4.06405  468.786               1\n",
              "2     82  23.124670       91  ...   9.27715  554.697               1\n",
              "3     68  21.367521       77  ...  12.76600  928.220               1\n",
              "4     86  21.111111       92  ...  10.57635  773.920               1\n",
              "..   ...        ...      ...  ...       ...      ...             ...\n",
              "111   45  26.850000       92  ...  10.96000  268.230               2\n",
              "112   62  26.840000      100  ...   7.32000  330.160               2\n",
              "113   65  32.050000       97  ...  10.33000  314.050               2\n",
              "114   72  25.590000       82  ...   3.27000  392.460               2\n",
              "115   86  27.180000      138  ...   4.35000   90.090               2\n",
              "\n",
              "[116 rows x 10 columns]"
            ]
          },
          "metadata": {
            "tags": []
          },
          "execution_count": 4
        }
      ]
    },
    {
      "cell_type": "markdown",
      "metadata": {
        "id": "4m66qYqQpJQr",
        "colab_type": "text"
      },
      "source": [
        "# Tipo de dados"
      ]
    },
    {
      "cell_type": "markdown",
      "metadata": {
        "id": "9dJb9hDbpOMw",
        "colab_type": "text"
      },
      "source": [
        "Você pode ver os tipos das variáveis que acabou de carregar.\n",
        "\n",
        "Mais informações em: [link text](https://pandas.pydata.org/pandas-docs/stable/user_guide/io.html)"
      ]
    },
    {
      "cell_type": "code",
      "metadata": {
        "id": "-87R8mZDyArw",
        "colab_type": "code",
        "outputId": "4f084919-6fea-45c8-ded9-c4de63057529",
        "colab": {
          "base_uri": "https://localhost:8080/",
          "height": 208
        }
      },
      "source": [
        "dataset.dtypes\n"
      ],
      "execution_count": 5,
      "outputs": [
        {
          "output_type": "execute_result",
          "data": {
            "text/plain": [
              "Age                 int64\n",
              "BMI               float64\n",
              "Glucose             int64\n",
              "Insulin           float64\n",
              "HOMA              float64\n",
              "Leptin            float64\n",
              "Adiponectin       float64\n",
              "Resistin          float64\n",
              "MCP.1             float64\n",
              "Classification      int64\n",
              "dtype: object"
            ]
          },
          "metadata": {
            "tags": []
          },
          "execution_count": 5
        }
      ]
    },
    {
      "cell_type": "markdown",
      "metadata": {
        "id": "A1Er_vSqqB18",
        "colab_type": "text"
      },
      "source": [
        "# Limpar dados"
      ]
    },
    {
      "cell_type": "markdown",
      "metadata": {
        "id": "cGkofEgXqFf3",
        "colab_type": "text"
      },
      "source": [
        "Muitas vezes é necessário limpar os dados. Vamos verificar se existem dados incompletos na nossa Tabela."
      ]
    },
    {
      "cell_type": "code",
      "metadata": {
        "id": "aO2Y_8iMqa1t",
        "colab_type": "code",
        "outputId": "3dc103bd-2efa-46d5-c6dc-ce2c3c519689",
        "colab": {
          "base_uri": "https://localhost:8080/",
          "height": 208
        }
      },
      "source": [
        "dataset.isna().sum()"
      ],
      "execution_count": 6,
      "outputs": [
        {
          "output_type": "execute_result",
          "data": {
            "text/plain": [
              "Age               0\n",
              "BMI               0\n",
              "Glucose           0\n",
              "Insulin           0\n",
              "HOMA              0\n",
              "Leptin            0\n",
              "Adiponectin       0\n",
              "Resistin          0\n",
              "MCP.1             0\n",
              "Classification    0\n",
              "dtype: int64"
            ]
          },
          "metadata": {
            "tags": []
          },
          "execution_count": 6
        }
      ]
    },
    {
      "cell_type": "markdown",
      "metadata": {
        "id": "8BAf3JuBqp2d",
        "colab_type": "text"
      },
      "source": [
        "Neste caso, não temos nenhum dado faltando. Se tivesse poderíamos eliminá-los com o código:\n",
        "\n",
        "dataset = dataset.dropna()"
      ]
    },
    {
      "cell_type": "markdown",
      "metadata": {
        "id": "SZoC9Sb0q12J",
        "colab_type": "text"
      },
      "source": [
        "Assim  como fizemos no Orange, podemos plotar estatísticas dos nossos dados."
      ]
    },
    {
      "cell_type": "code",
      "metadata": {
        "id": "DngJ1dxmq1PV",
        "colab_type": "code",
        "outputId": "1dce8b03-925f-409b-c3d3-d7cd58157439",
        "colab": {
          "base_uri": "https://localhost:8080/",
          "height": 507
        }
      },
      "source": [
        "dataset.hist()\n"
      ],
      "execution_count": 7,
      "outputs": [
        {
          "output_type": "execute_result",
          "data": {
            "text/plain": [
              "array([[<matplotlib.axes._subplots.AxesSubplot object at 0x7fa7bb7f6400>,\n",
              "        <matplotlib.axes._subplots.AxesSubplot object at 0x7fa75d64e908>,\n",
              "        <matplotlib.axes._subplots.AxesSubplot object at 0x7fa75d602eb8>],\n",
              "       [<matplotlib.axes._subplots.AxesSubplot object at 0x7fa75d5bf4a8>,\n",
              "        <matplotlib.axes._subplots.AxesSubplot object at 0x7fa75d56ea58>,\n",
              "        <matplotlib.axes._subplots.AxesSubplot object at 0x7fa75d52b048>],\n",
              "       [<matplotlib.axes._subplots.AxesSubplot object at 0x7fa75d4db5f8>,\n",
              "        <matplotlib.axes._subplots.AxesSubplot object at 0x7fa75d50cbe0>,\n",
              "        <matplotlib.axes._subplots.AxesSubplot object at 0x7fa75d50cc18>],\n",
              "       [<matplotlib.axes._subplots.AxesSubplot object at 0x7fa75d478748>,\n",
              "        <matplotlib.axes._subplots.AxesSubplot object at 0x7fa75d42ccf8>,\n",
              "        <matplotlib.axes._subplots.AxesSubplot object at 0x7fa75d3e92e8>]],\n",
              "      dtype=object)"
            ]
          },
          "metadata": {
            "tags": []
          },
          "execution_count": 7
        },
        {
          "output_type": "display_data",
          "data": {
            "image/png": "[encoded data removed]",
            "text/plain": [
              "<Figure size 432x288 with 12 Axes>"
            ]
          },
          "metadata": {
            "tags": []
          }
        }
      ]
    },
    {
      "cell_type": "markdown",
      "metadata": {
        "id": "xvp4S2f9sURH",
        "colab_type": "text"
      },
      "source": [
        "# Plotar gráficos"
      ]
    },
    {
      "cell_type": "markdown",
      "metadata": {
        "id": "eeUxLiK9sYKL",
        "colab_type": "text"
      },
      "source": [
        "https://matplotlib.org/3.1.1/tutorials/introductory/pyplot.html\n",
        "\n",
        "Exemplo de código: \n",
        "\n",
        "plt.show()"
      ]
    },
    {
      "cell_type": "markdown",
      "metadata": {
        "id": "NU-RFJtwt9iz",
        "colab_type": "text"
      },
      "source": [
        "\n",
        "# Como separar Linhas\n",
        "\n"
      ]
    },
    {
      "cell_type": "markdown",
      "metadata": {
        "id": "EFBpnfBwuFo2",
        "colab_type": "text"
      },
      "source": [
        "No nosso exemplo, vamos deixar no dataset somente os dados de São José dos Campos"
      ]
    },
    {
      "cell_type": "code",
      "metadata": {
        "id": "bI8iOqzjuL6o",
        "colab_type": "code",
        "colab": {}
      },
      "source": [
        "datasetCLass = dataset.loc[(dataset.Classification == 2)]\n"
      ],
      "execution_count": 0,
      "outputs": []
    },
    {
      "cell_type": "markdown",
      "metadata": {
        "id": "b2TePIYWy0Ma",
        "colab_type": "text"
      },
      "source": [
        "Mais detalhes em [link text](https://datatofish.com/select-rows-pandas-dataframe/)"
      ]
    },
    {
      "cell_type": "code",
      "metadata": {
        "id": "fbwtGjSUylwW",
        "colab_type": "code",
        "outputId": "4fd8c1f1-efe2-4e7b-ac03-a7ff536ae6cb",
        "colab": {
          "base_uri": "https://localhost:8080/",
          "height": 419
        }
      },
      "source": [
        "datasetCLass"
      ],
      "execution_count": 0,
      "outputs": [
        {
          "output_type": "execute_result",
          "data": {
            "text/html": [
              "<div>\n",
              "<style scoped>\n",
              "    .dataframe tbody tr th:only-of-type {\n",
              "        vertical-align: middle;\n",
              "    }\n",
              "\n",
              "    .dataframe tbody tr th {\n",
              "        vertical-align: top;\n",
              "    }\n",
              "\n",
              "    .dataframe thead th {\n",
              "        text-align: right;\n",
              "    }\n",
              "</style>\n",
              "<table border=\"1\" class=\"dataframe\">\n",
              "  <thead>\n",
              "    <tr style=\"text-align: right;\">\n",
              "      <th></th>\n",
              "      <th>Age</th>\n",
              "      <th>BMI</th>\n",
              "      <th>Glucose</th>\n",
              "      <th>Insulin</th>\n",
              "      <th>HOMA</th>\n",
              "      <th>Leptin</th>\n",
              "      <th>Adiponectin</th>\n",
              "      <th>Resistin</th>\n",
              "      <th>MCP.1</th>\n",
              "      <th>Classification</th>\n",
              "    </tr>\n",
              "  </thead>\n",
              "  <tbody>\n",
              "    <tr>\n",
              "      <th>52</th>\n",
              "      <td>45</td>\n",
              "      <td>21.303949</td>\n",
              "      <td>102</td>\n",
              "      <td>13.852</td>\n",
              "      <td>3.485163</td>\n",
              "      <td>7.6476</td>\n",
              "      <td>21.056625</td>\n",
              "      <td>23.03408</td>\n",
              "      <td>552.444</td>\n",
              "      <td>2</td>\n",
              "    </tr>\n",
              "    <tr>\n",
              "      <th>53</th>\n",
              "      <td>45</td>\n",
              "      <td>20.829995</td>\n",
              "      <td>74</td>\n",
              "      <td>4.560</td>\n",
              "      <td>0.832352</td>\n",
              "      <td>7.7529</td>\n",
              "      <td>8.237405</td>\n",
              "      <td>28.03230</td>\n",
              "      <td>382.955</td>\n",
              "      <td>2</td>\n",
              "    </tr>\n",
              "    <tr>\n",
              "      <th>54</th>\n",
              "      <td>49</td>\n",
              "      <td>20.956607</td>\n",
              "      <td>94</td>\n",
              "      <td>12.305</td>\n",
              "      <td>2.853119</td>\n",
              "      <td>11.2406</td>\n",
              "      <td>8.412175</td>\n",
              "      <td>23.11770</td>\n",
              "      <td>573.630</td>\n",
              "      <td>2</td>\n",
              "    </tr>\n",
              "    <tr>\n",
              "      <th>55</th>\n",
              "      <td>34</td>\n",
              "      <td>24.242424</td>\n",
              "      <td>92</td>\n",
              "      <td>21.699</td>\n",
              "      <td>4.924226</td>\n",
              "      <td>16.7353</td>\n",
              "      <td>21.823745</td>\n",
              "      <td>12.06534</td>\n",
              "      <td>481.949</td>\n",
              "      <td>2</td>\n",
              "    </tr>\n",
              "    <tr>\n",
              "      <th>56</th>\n",
              "      <td>42</td>\n",
              "      <td>21.359915</td>\n",
              "      <td>93</td>\n",
              "      <td>2.999</td>\n",
              "      <td>0.687971</td>\n",
              "      <td>19.0826</td>\n",
              "      <td>8.462915</td>\n",
              "      <td>17.37615</td>\n",
              "      <td>321.919</td>\n",
              "      <td>2</td>\n",
              "    </tr>\n",
              "    <tr>\n",
              "      <th>...</th>\n",
              "      <td>...</td>\n",
              "      <td>...</td>\n",
              "      <td>...</td>\n",
              "      <td>...</td>\n",
              "      <td>...</td>\n",
              "      <td>...</td>\n",
              "      <td>...</td>\n",
              "      <td>...</td>\n",
              "      <td>...</td>\n",
              "      <td>...</td>\n",
              "    </tr>\n",
              "    <tr>\n",
              "      <th>111</th>\n",
              "      <td>45</td>\n",
              "      <td>26.850000</td>\n",
              "      <td>92</td>\n",
              "      <td>3.330</td>\n",
              "      <td>0.755688</td>\n",
              "      <td>54.6800</td>\n",
              "      <td>12.100000</td>\n",
              "      <td>10.96000</td>\n",
              "      <td>268.230</td>\n",
              "      <td>2</td>\n",
              "    </tr>\n",
              "    <tr>\n",
              "      <th>112</th>\n",
              "      <td>62</td>\n",
              "      <td>26.840000</td>\n",
              "      <td>100</td>\n",
              "      <td>4.530</td>\n",
              "      <td>1.117400</td>\n",
              "      <td>12.4500</td>\n",
              "      <td>21.420000</td>\n",
              "      <td>7.32000</td>\n",
              "      <td>330.160</td>\n",
              "      <td>2</td>\n",
              "    </tr>\n",
              "    <tr>\n",
              "      <th>113</th>\n",
              "      <td>65</td>\n",
              "      <td>32.050000</td>\n",
              "      <td>97</td>\n",
              "      <td>5.730</td>\n",
              "      <td>1.370998</td>\n",
              "      <td>61.4800</td>\n",
              "      <td>22.540000</td>\n",
              "      <td>10.33000</td>\n",
              "      <td>314.050</td>\n",
              "      <td>2</td>\n",
              "    </tr>\n",
              "    <tr>\n",
              "      <th>114</th>\n",
              "      <td>72</td>\n",
              "      <td>25.590000</td>\n",
              "      <td>82</td>\n",
              "      <td>2.820</td>\n",
              "      <td>0.570392</td>\n",
              "      <td>24.9600</td>\n",
              "      <td>33.750000</td>\n",
              "      <td>3.27000</td>\n",
              "      <td>392.460</td>\n",
              "      <td>2</td>\n",
              "    </tr>\n",
              "    <tr>\n",
              "      <th>115</th>\n",
              "      <td>86</td>\n",
              "      <td>27.180000</td>\n",
              "      <td>138</td>\n",
              "      <td>19.910</td>\n",
              "      <td>6.777364</td>\n",
              "      <td>90.2800</td>\n",
              "      <td>14.110000</td>\n",
              "      <td>4.35000</td>\n",
              "      <td>90.090</td>\n",
              "      <td>2</td>\n",
              "    </tr>\n",
              "  </tbody>\n",
              "</table>\n",
              "<p>64 rows × 10 columns</p>\n",
              "</div>"
            ],
            "text/plain": [
              "     Age        BMI  Glucose  ...  Resistin    MCP.1  Classification\n",
              "52    45  21.303949      102  ...  23.03408  552.444               2\n",
              "53    45  20.829995       74  ...  28.03230  382.955               2\n",
              "54    49  20.956607       94  ...  23.11770  573.630               2\n",
              "55    34  24.242424       92  ...  12.06534  481.949               2\n",
              "56    42  21.359915       93  ...  17.37615  321.919               2\n",
              "..   ...        ...      ...  ...       ...      ...             ...\n",
              "111   45  26.850000       92  ...  10.96000  268.230               2\n",
              "112   62  26.840000      100  ...   7.32000  330.160               2\n",
              "113   65  32.050000       97  ...  10.33000  314.050               2\n",
              "114   72  25.590000       82  ...   3.27000  392.460               2\n",
              "115   86  27.180000      138  ...   4.35000   90.090               2\n",
              "\n",
              "[64 rows x 10 columns]"
            ]
          },
          "metadata": {
            "tags": []
          },
          "execution_count": 11
        }
      ]
    },
    {
      "cell_type": "markdown",
      "metadata": {
        "id": "ezpxp30TtYNs",
        "colab_type": "text"
      },
      "source": [
        "# Selecionar Colunas"
      ]
    },
    {
      "cell_type": "code",
      "metadata": {
        "id": "U-eaWVQOsijb",
        "colab_type": "code",
        "colab": {}
      },
      "source": [
        "datasetSel = dataset[['Classification','Age']]"
      ],
      "execution_count": 0,
      "outputs": []
    },
    {
      "cell_type": "code",
      "metadata": {
        "id": "A0oEv5RLxyPZ",
        "colab_type": "code",
        "outputId": "fd7a98a7-c582-463c-c239-8e6d768dfdf9",
        "colab": {
          "base_uri": "https://localhost:8080/",
          "height": 419
        }
      },
      "source": [
        "datasetSel"
      ],
      "execution_count": 0,
      "outputs": [
        {
          "output_type": "execute_result",
          "data": {
            "text/html": [
              "<div>\n",
              "<style scoped>\n",
              "    .dataframe tbody tr th:only-of-type {\n",
              "        vertical-align: middle;\n",
              "    }\n",
              "\n",
              "    .dataframe tbody tr th {\n",
              "        vertical-align: top;\n",
              "    }\n",
              "\n",
              "    .dataframe thead th {\n",
              "        text-align: right;\n",
              "    }\n",
              "</style>\n",
              "<table border=\"1\" class=\"dataframe\">\n",
              "  <thead>\n",
              "    <tr style=\"text-align: right;\">\n",
              "      <th></th>\n",
              "      <th>Classification</th>\n",
              "      <th>Age</th>\n",
              "    </tr>\n",
              "  </thead>\n",
              "  <tbody>\n",
              "    <tr>\n",
              "      <th>0</th>\n",
              "      <td>1</td>\n",
              "      <td>48</td>\n",
              "    </tr>\n",
              "    <tr>\n",
              "      <th>1</th>\n",
              "      <td>1</td>\n",
              "      <td>83</td>\n",
              "    </tr>\n",
              "    <tr>\n",
              "      <th>2</th>\n",
              "      <td>1</td>\n",
              "      <td>82</td>\n",
              "    </tr>\n",
              "    <tr>\n",
              "      <th>3</th>\n",
              "      <td>1</td>\n",
              "      <td>68</td>\n",
              "    </tr>\n",
              "    <tr>\n",
              "      <th>4</th>\n",
              "      <td>1</td>\n",
              "      <td>86</td>\n",
              "    </tr>\n",
              "    <tr>\n",
              "      <th>...</th>\n",
              "      <td>...</td>\n",
              "      <td>...</td>\n",
              "    </tr>\n",
              "    <tr>\n",
              "      <th>111</th>\n",
              "      <td>2</td>\n",
              "      <td>45</td>\n",
              "    </tr>\n",
              "    <tr>\n",
              "      <th>112</th>\n",
              "      <td>2</td>\n",
              "      <td>62</td>\n",
              "    </tr>\n",
              "    <tr>\n",
              "      <th>113</th>\n",
              "      <td>2</td>\n",
              "      <td>65</td>\n",
              "    </tr>\n",
              "    <tr>\n",
              "      <th>114</th>\n",
              "      <td>2</td>\n",
              "      <td>72</td>\n",
              "    </tr>\n",
              "    <tr>\n",
              "      <th>115</th>\n",
              "      <td>2</td>\n",
              "      <td>86</td>\n",
              "    </tr>\n",
              "  </tbody>\n",
              "</table>\n",
              "<p>116 rows × 2 columns</p>\n",
              "</div>"
            ],
            "text/plain": [
              "     Classification  Age\n",
              "0                 1   48\n",
              "1                 1   83\n",
              "2                 1   82\n",
              "3                 1   68\n",
              "4                 1   86\n",
              "..              ...  ...\n",
              "111               2   45\n",
              "112               2   62\n",
              "113               2   65\n",
              "114               2   72\n",
              "115               2   86\n",
              "\n",
              "[116 rows x 2 columns]"
            ]
          },
          "metadata": {
            "tags": []
          },
          "execution_count": 13
        }
      ]
    },
    {
      "cell_type": "markdown",
      "metadata": {
        "id": "xdsM4afP0oPi",
        "colab_type": "text"
      },
      "source": [
        "# Separando dados de treinamento e teste"
      ]
    },
    {
      "cell_type": "markdown",
      "metadata": {
        "id": "2U96IQuq0rcE",
        "colab_type": "text"
      },
      "source": [
        "Agora separe os dados em um conjunto de treinamento e outro teste.\n",
        "\n",
        "Iremos utilizar o de conjunto de teste no final da análise do model."
      ]
    },
    {
      "cell_type": "code",
      "metadata": {
        "id": "ArOAnlxKy-n6",
        "colab_type": "code",
        "colab": {}
      },
      "source": [
        "train_dataset = dataset.sample(frac=0.8,random_state=0)\n",
        "test_dataset = dataset.drop(train_dataset.index)\n"
      ],
      "execution_count": 0,
      "outputs": []
    },
    {
      "cell_type": "markdown",
      "metadata": {
        "id": "cmO2F3Uc1Hny",
        "colab_type": "text"
      },
      "source": [
        "Você pode escolher a quantidade de dados que vai utilizar, escolhendo a porcentagem, número de elementos, etc. \n",
        "\n",
        "Mais detalhes do \"dataset.sample\" em [link text](https://pandas.pydata.org/pandas-docs/stable/reference/api/pandas.DataFrame.sample.html)\n",
        "\n",
        "Mais detalhes do \"dataset.drop\" em [link text](https://pandas.pydata.org/pandas-docs/stable/reference/api/pandas.DataFrame.drop.html)\n",
        "\n"
      ]
    },
    {
      "cell_type": "code",
      "metadata": {
        "id": "nFTdrL0V2usL",
        "colab_type": "code",
        "outputId": "e7396dcb-fed4-45b4-b135-d311a034e373",
        "colab": {
          "base_uri": "https://localhost:8080/",
          "height": 415
        }
      },
      "source": [
        "train_dataset"
      ],
      "execution_count": 11,
      "outputs": [
        {
          "output_type": "execute_result",
          "data": {
            "text/html": [
              "<div>\n",
              "<style scoped>\n",
              "    .dataframe tbody tr th:only-of-type {\n",
              "        vertical-align: middle;\n",
              "    }\n",
              "\n",
              "    .dataframe tbody tr th {\n",
              "        vertical-align: top;\n",
              "    }\n",
              "\n",
              "    .dataframe thead th {\n",
              "        text-align: right;\n",
              "    }\n",
              "</style>\n",
              "<table border=\"1\" class=\"dataframe\">\n",
              "  <thead>\n",
              "    <tr style=\"text-align: right;\">\n",
              "      <th></th>\n",
              "      <th>Age</th>\n",
              "      <th>BMI</th>\n",
              "      <th>Glucose</th>\n",
              "      <th>Insulin</th>\n",
              "      <th>HOMA</th>\n",
              "      <th>Leptin</th>\n",
              "      <th>Adiponectin</th>\n",
              "      <th>Resistin</th>\n",
              "      <th>MCP.1</th>\n",
              "      <th>Classification</th>\n",
              "    </tr>\n",
              "  </thead>\n",
              "  <tbody>\n",
              "    <tr>\n",
              "      <th>10</th>\n",
              "      <td>34</td>\n",
              "      <td>21.470000</td>\n",
              "      <td>78</td>\n",
              "      <td>3.469</td>\n",
              "      <td>0.667436</td>\n",
              "      <td>14.5700</td>\n",
              "      <td>13.110000</td>\n",
              "      <td>6.92000</td>\n",
              "      <td>354.600</td>\n",
              "      <td>1</td>\n",
              "    </tr>\n",
              "    <tr>\n",
              "      <th>74</th>\n",
              "      <td>46</td>\n",
              "      <td>22.210000</td>\n",
              "      <td>86</td>\n",
              "      <td>36.940</td>\n",
              "      <td>7.836205</td>\n",
              "      <td>10.1600</td>\n",
              "      <td>9.760000</td>\n",
              "      <td>5.68000</td>\n",
              "      <td>312.000</td>\n",
              "      <td>2</td>\n",
              "    </tr>\n",
              "    <tr>\n",
              "      <th>66</th>\n",
              "      <td>54</td>\n",
              "      <td>24.218750</td>\n",
              "      <td>86</td>\n",
              "      <td>3.730</td>\n",
              "      <td>0.791257</td>\n",
              "      <td>8.6874</td>\n",
              "      <td>3.705230</td>\n",
              "      <td>10.34455</td>\n",
              "      <td>635.049</td>\n",
              "      <td>2</td>\n",
              "    </tr>\n",
              "    <tr>\n",
              "      <th>51</th>\n",
              "      <td>77</td>\n",
              "      <td>25.900000</td>\n",
              "      <td>85</td>\n",
              "      <td>4.580</td>\n",
              "      <td>0.960273</td>\n",
              "      <td>13.7400</td>\n",
              "      <td>9.753260</td>\n",
              "      <td>11.77400</td>\n",
              "      <td>488.829</td>\n",
              "      <td>1</td>\n",
              "    </tr>\n",
              "    <tr>\n",
              "      <th>7</th>\n",
              "      <td>76</td>\n",
              "      <td>23.800000</td>\n",
              "      <td>118</td>\n",
              "      <td>6.470</td>\n",
              "      <td>1.883201</td>\n",
              "      <td>4.3110</td>\n",
              "      <td>13.251320</td>\n",
              "      <td>5.10420</td>\n",
              "      <td>280.694</td>\n",
              "      <td>1</td>\n",
              "    </tr>\n",
              "    <tr>\n",
              "      <th>...</th>\n",
              "      <td>...</td>\n",
              "      <td>...</td>\n",
              "      <td>...</td>\n",
              "      <td>...</td>\n",
              "      <td>...</td>\n",
              "      <td>...</td>\n",
              "      <td>...</td>\n",
              "      <td>...</td>\n",
              "      <td>...</td>\n",
              "      <td>...</td>\n",
              "    </tr>\n",
              "    <tr>\n",
              "      <th>20</th>\n",
              "      <td>36</td>\n",
              "      <td>28.576676</td>\n",
              "      <td>86</td>\n",
              "      <td>4.345</td>\n",
              "      <td>0.921719</td>\n",
              "      <td>15.1248</td>\n",
              "      <td>8.600000</td>\n",
              "      <td>9.15390</td>\n",
              "      <td>534.224</td>\n",
              "      <td>1</td>\n",
              "    </tr>\n",
              "    <tr>\n",
              "      <th>109</th>\n",
              "      <td>75</td>\n",
              "      <td>30.480000</td>\n",
              "      <td>152</td>\n",
              "      <td>7.010</td>\n",
              "      <td>2.628283</td>\n",
              "      <td>50.5300</td>\n",
              "      <td>10.060000</td>\n",
              "      <td>11.73000</td>\n",
              "      <td>99.450</td>\n",
              "      <td>2</td>\n",
              "    </tr>\n",
              "    <tr>\n",
              "      <th>72</th>\n",
              "      <td>51</td>\n",
              "      <td>18.370000</td>\n",
              "      <td>105</td>\n",
              "      <td>6.030</td>\n",
              "      <td>1.561770</td>\n",
              "      <td>9.6200</td>\n",
              "      <td>12.760000</td>\n",
              "      <td>3.21000</td>\n",
              "      <td>513.660</td>\n",
              "      <td>2</td>\n",
              "    </tr>\n",
              "    <tr>\n",
              "      <th>77</th>\n",
              "      <td>43</td>\n",
              "      <td>31.250000</td>\n",
              "      <td>103</td>\n",
              "      <td>4.328</td>\n",
              "      <td>1.099601</td>\n",
              "      <td>25.7816</td>\n",
              "      <td>12.718960</td>\n",
              "      <td>38.65310</td>\n",
              "      <td>775.322</td>\n",
              "      <td>2</td>\n",
              "    </tr>\n",
              "    <tr>\n",
              "      <th>25</th>\n",
              "      <td>45</td>\n",
              "      <td>37.035608</td>\n",
              "      <td>83</td>\n",
              "      <td>6.760</td>\n",
              "      <td>1.383997</td>\n",
              "      <td>39.9802</td>\n",
              "      <td>4.617125</td>\n",
              "      <td>8.70448</td>\n",
              "      <td>586.173</td>\n",
              "      <td>1</td>\n",
              "    </tr>\n",
              "  </tbody>\n",
              "</table>\n",
              "<p>93 rows × 10 columns</p>\n",
              "</div>"
            ],
            "text/plain": [
              "     Age        BMI  Glucose  ...  Resistin    MCP.1  Classification\n",
              "10    34  21.470000       78  ...   6.92000  354.600               1\n",
              "74    46  22.210000       86  ...   5.68000  312.000               2\n",
              "66    54  24.218750       86  ...  10.34455  635.049               2\n",
              "51    77  25.900000       85  ...  11.77400  488.829               1\n",
              "7     76  23.800000      118  ...   5.10420  280.694               1\n",
              "..   ...        ...      ...  ...       ...      ...             ...\n",
              "20    36  28.576676       86  ...   9.15390  534.224               1\n",
              "109   75  30.480000      152  ...  11.73000   99.450               2\n",
              "72    51  18.370000      105  ...   3.21000  513.660               2\n",
              "77    43  31.250000      103  ...  38.65310  775.322               2\n",
              "25    45  37.035608       83  ...   8.70448  586.173               1\n",
              "\n",
              "[93 rows x 10 columns]"
            ]
          },
          "metadata": {
            "tags": []
          },
          "execution_count": 11
        }
      ]
    },
    {
      "cell_type": "code",
      "metadata": {
        "id": "T0JpS9zn28KB",
        "colab_type": "code",
        "outputId": "775cf84d-ed9f-46e0-cfd6-bcaa0812d367",
        "colab": {
          "base_uri": "https://localhost:8080/",
          "height": 754
        }
      },
      "source": [
        "test_dataset"
      ],
      "execution_count": 12,
      "outputs": [
        {
          "output_type": "execute_result",
          "data": {
            "text/html": [
              "<div>\n",
              "<style scoped>\n",
              "    .dataframe tbody tr th:only-of-type {\n",
              "        vertical-align: middle;\n",
              "    }\n",
              "\n",
              "    .dataframe tbody tr th {\n",
              "        vertical-align: top;\n",
              "    }\n",
              "\n",
              "    .dataframe thead th {\n",
              "        text-align: right;\n",
              "    }\n",
              "</style>\n",
              "<table border=\"1\" class=\"dataframe\">\n",
              "  <thead>\n",
              "    <tr style=\"text-align: right;\">\n",
              "      <th></th>\n",
              "      <th>Age</th>\n",
              "      <th>BMI</th>\n",
              "      <th>Glucose</th>\n",
              "      <th>Insulin</th>\n",
              "      <th>HOMA</th>\n",
              "      <th>Leptin</th>\n",
              "      <th>Adiponectin</th>\n",
              "      <th>Resistin</th>\n",
              "      <th>MCP.1</th>\n",
              "      <th>Classification</th>\n",
              "    </tr>\n",
              "  </thead>\n",
              "  <tbody>\n",
              "    <tr>\n",
              "      <th>9</th>\n",
              "      <td>75</td>\n",
              "      <td>23.000000</td>\n",
              "      <td>83</td>\n",
              "      <td>4.952</td>\n",
              "      <td>1.013839</td>\n",
              "      <td>17.1270</td>\n",
              "      <td>11.578990</td>\n",
              "      <td>7.09130</td>\n",
              "      <td>318.302</td>\n",
              "      <td>1</td>\n",
              "    </tr>\n",
              "    <tr>\n",
              "      <th>12</th>\n",
              "      <td>25</td>\n",
              "      <td>22.860000</td>\n",
              "      <td>82</td>\n",
              "      <td>4.090</td>\n",
              "      <td>0.827271</td>\n",
              "      <td>20.4500</td>\n",
              "      <td>23.670000</td>\n",
              "      <td>5.14000</td>\n",
              "      <td>313.730</td>\n",
              "      <td>1</td>\n",
              "    </tr>\n",
              "    <tr>\n",
              "      <th>21</th>\n",
              "      <td>34</td>\n",
              "      <td>31.975015</td>\n",
              "      <td>87</td>\n",
              "      <td>4.530</td>\n",
              "      <td>0.972138</td>\n",
              "      <td>28.7502</td>\n",
              "      <td>7.642760</td>\n",
              "      <td>5.62592</td>\n",
              "      <td>572.783</td>\n",
              "      <td>1</td>\n",
              "    </tr>\n",
              "    <tr>\n",
              "      <th>36</th>\n",
              "      <td>66</td>\n",
              "      <td>31.238590</td>\n",
              "      <td>82</td>\n",
              "      <td>4.181</td>\n",
              "      <td>0.845677</td>\n",
              "      <td>16.2247</td>\n",
              "      <td>4.267105</td>\n",
              "      <td>3.29175</td>\n",
              "      <td>634.602</td>\n",
              "      <td>1</td>\n",
              "    </tr>\n",
              "    <tr>\n",
              "      <th>37</th>\n",
              "      <td>69</td>\n",
              "      <td>35.092702</td>\n",
              "      <td>101</td>\n",
              "      <td>5.646</td>\n",
              "      <td>1.406607</td>\n",
              "      <td>83.4821</td>\n",
              "      <td>6.796985</td>\n",
              "      <td>82.10000</td>\n",
              "      <td>263.499</td>\n",
              "      <td>1</td>\n",
              "    </tr>\n",
              "    <tr>\n",
              "      <th>39</th>\n",
              "      <td>77</td>\n",
              "      <td>35.587929</td>\n",
              "      <td>76</td>\n",
              "      <td>3.881</td>\n",
              "      <td>0.727558</td>\n",
              "      <td>21.7863</td>\n",
              "      <td>8.125550</td>\n",
              "      <td>17.26150</td>\n",
              "      <td>618.272</td>\n",
              "      <td>1</td>\n",
              "    </tr>\n",
              "    <tr>\n",
              "      <th>44</th>\n",
              "      <td>71</td>\n",
              "      <td>30.300000</td>\n",
              "      <td>102</td>\n",
              "      <td>8.340</td>\n",
              "      <td>2.098344</td>\n",
              "      <td>56.5020</td>\n",
              "      <td>8.130000</td>\n",
              "      <td>4.29890</td>\n",
              "      <td>200.976</td>\n",
              "      <td>1</td>\n",
              "    </tr>\n",
              "    <tr>\n",
              "      <th>46</th>\n",
              "      <td>75</td>\n",
              "      <td>25.700000</td>\n",
              "      <td>94</td>\n",
              "      <td>8.079</td>\n",
              "      <td>1.873251</td>\n",
              "      <td>65.9260</td>\n",
              "      <td>3.741220</td>\n",
              "      <td>4.49685</td>\n",
              "      <td>206.802</td>\n",
              "      <td>1</td>\n",
              "    </tr>\n",
              "    <tr>\n",
              "      <th>47</th>\n",
              "      <td>78</td>\n",
              "      <td>25.300000</td>\n",
              "      <td>60</td>\n",
              "      <td>3.508</td>\n",
              "      <td>0.519184</td>\n",
              "      <td>6.6330</td>\n",
              "      <td>10.567295</td>\n",
              "      <td>4.66380</td>\n",
              "      <td>209.749</td>\n",
              "      <td>1</td>\n",
              "    </tr>\n",
              "    <tr>\n",
              "      <th>58</th>\n",
              "      <td>51</td>\n",
              "      <td>19.132653</td>\n",
              "      <td>93</td>\n",
              "      <td>4.364</td>\n",
              "      <td>1.001102</td>\n",
              "      <td>11.0816</td>\n",
              "      <td>5.807620</td>\n",
              "      <td>5.57055</td>\n",
              "      <td>90.600</td>\n",
              "      <td>2</td>\n",
              "    </tr>\n",
              "    <tr>\n",
              "      <th>64</th>\n",
              "      <td>59</td>\n",
              "      <td>22.832879</td>\n",
              "      <td>98</td>\n",
              "      <td>6.862</td>\n",
              "      <td>1.658774</td>\n",
              "      <td>14.9037</td>\n",
              "      <td>4.230105</td>\n",
              "      <td>8.20490</td>\n",
              "      <td>355.310</td>\n",
              "      <td>2</td>\n",
              "    </tr>\n",
              "    <tr>\n",
              "      <th>65</th>\n",
              "      <td>45</td>\n",
              "      <td>23.140496</td>\n",
              "      <td>116</td>\n",
              "      <td>4.902</td>\n",
              "      <td>1.402626</td>\n",
              "      <td>17.9973</td>\n",
              "      <td>4.294705</td>\n",
              "      <td>5.26330</td>\n",
              "      <td>518.586</td>\n",
              "      <td>2</td>\n",
              "    </tr>\n",
              "    <tr>\n",
              "      <th>67</th>\n",
              "      <td>64</td>\n",
              "      <td>22.222222</td>\n",
              "      <td>98</td>\n",
              "      <td>5.700</td>\n",
              "      <td>1.377880</td>\n",
              "      <td>12.1905</td>\n",
              "      <td>4.783985</td>\n",
              "      <td>13.91245</td>\n",
              "      <td>395.976</td>\n",
              "      <td>2</td>\n",
              "    </tr>\n",
              "    <tr>\n",
              "      <th>70</th>\n",
              "      <td>45</td>\n",
              "      <td>20.260000</td>\n",
              "      <td>92</td>\n",
              "      <td>3.440</td>\n",
              "      <td>0.780651</td>\n",
              "      <td>7.6500</td>\n",
              "      <td>16.670000</td>\n",
              "      <td>7.84000</td>\n",
              "      <td>193.870</td>\n",
              "      <td>2</td>\n",
              "    </tr>\n",
              "    <tr>\n",
              "      <th>81</th>\n",
              "      <td>81</td>\n",
              "      <td>31.640368</td>\n",
              "      <td>100</td>\n",
              "      <td>9.669</td>\n",
              "      <td>2.385020</td>\n",
              "      <td>38.8066</td>\n",
              "      <td>10.636525</td>\n",
              "      <td>29.55830</td>\n",
              "      <td>426.175</td>\n",
              "      <td>2</td>\n",
              "    </tr>\n",
              "    <tr>\n",
              "      <th>83</th>\n",
              "      <td>71</td>\n",
              "      <td>25.510204</td>\n",
              "      <td>112</td>\n",
              "      <td>10.395</td>\n",
              "      <td>2.871792</td>\n",
              "      <td>19.0653</td>\n",
              "      <td>5.486100</td>\n",
              "      <td>42.74470</td>\n",
              "      <td>799.898</td>\n",
              "      <td>2</td>\n",
              "    </tr>\n",
              "    <tr>\n",
              "      <th>87</th>\n",
              "      <td>85</td>\n",
              "      <td>27.688778</td>\n",
              "      <td>196</td>\n",
              "      <td>51.814</td>\n",
              "      <td>25.050342</td>\n",
              "      <td>70.8824</td>\n",
              "      <td>7.901685</td>\n",
              "      <td>55.21530</td>\n",
              "      <td>1078.359</td>\n",
              "      <td>2</td>\n",
              "    </tr>\n",
              "    <tr>\n",
              "      <th>88</th>\n",
              "      <td>48</td>\n",
              "      <td>31.250000</td>\n",
              "      <td>199</td>\n",
              "      <td>12.162</td>\n",
              "      <td>5.969920</td>\n",
              "      <td>18.1314</td>\n",
              "      <td>4.104105</td>\n",
              "      <td>53.63080</td>\n",
              "      <td>1698.440</td>\n",
              "      <td>2</td>\n",
              "    </tr>\n",
              "    <tr>\n",
              "      <th>102</th>\n",
              "      <td>65</td>\n",
              "      <td>30.915577</td>\n",
              "      <td>97</td>\n",
              "      <td>10.491</td>\n",
              "      <td>2.510147</td>\n",
              "      <td>44.0217</td>\n",
              "      <td>3.710090</td>\n",
              "      <td>20.46850</td>\n",
              "      <td>396.648</td>\n",
              "      <td>2</td>\n",
              "    </tr>\n",
              "    <tr>\n",
              "      <th>103</th>\n",
              "      <td>72</td>\n",
              "      <td>29.136316</td>\n",
              "      <td>83</td>\n",
              "      <td>10.949</td>\n",
              "      <td>2.241625</td>\n",
              "      <td>26.8081</td>\n",
              "      <td>2.784910</td>\n",
              "      <td>14.76966</td>\n",
              "      <td>232.018</td>\n",
              "      <td>2</td>\n",
              "    </tr>\n",
              "    <tr>\n",
              "      <th>105</th>\n",
              "      <td>73</td>\n",
              "      <td>37.109375</td>\n",
              "      <td>134</td>\n",
              "      <td>5.636</td>\n",
              "      <td>1.862886</td>\n",
              "      <td>41.4064</td>\n",
              "      <td>3.335665</td>\n",
              "      <td>6.89235</td>\n",
              "      <td>788.902</td>\n",
              "      <td>2</td>\n",
              "    </tr>\n",
              "    <tr>\n",
              "      <th>110</th>\n",
              "      <td>54</td>\n",
              "      <td>36.050000</td>\n",
              "      <td>119</td>\n",
              "      <td>11.910</td>\n",
              "      <td>3.495982</td>\n",
              "      <td>89.2700</td>\n",
              "      <td>8.010000</td>\n",
              "      <td>5.06000</td>\n",
              "      <td>218.280</td>\n",
              "      <td>2</td>\n",
              "    </tr>\n",
              "    <tr>\n",
              "      <th>112</th>\n",
              "      <td>62</td>\n",
              "      <td>26.840000</td>\n",
              "      <td>100</td>\n",
              "      <td>4.530</td>\n",
              "      <td>1.117400</td>\n",
              "      <td>12.4500</td>\n",
              "      <td>21.420000</td>\n",
              "      <td>7.32000</td>\n",
              "      <td>330.160</td>\n",
              "      <td>2</td>\n",
              "    </tr>\n",
              "  </tbody>\n",
              "</table>\n",
              "</div>"
            ],
            "text/plain": [
              "     Age        BMI  Glucose  ...  Resistin     MCP.1  Classification\n",
              "9     75  23.000000       83  ...   7.09130   318.302               1\n",
              "12    25  22.860000       82  ...   5.14000   313.730               1\n",
              "21    34  31.975015       87  ...   5.62592   572.783               1\n",
              "36    66  31.238590       82  ...   3.29175   634.602               1\n",
              "37    69  35.092702      101  ...  82.10000   263.499               1\n",
              "39    77  35.587929       76  ...  17.26150   618.272               1\n",
              "44    71  30.300000      102  ...   4.29890   200.976               1\n",
              "46    75  25.700000       94  ...   4.49685   206.802               1\n",
              "47    78  25.300000       60  ...   4.66380   209.749               1\n",
              "58    51  19.132653       93  ...   5.57055    90.600               2\n",
              "64    59  22.832879       98  ...   8.20490   355.310               2\n",
              "65    45  23.140496      116  ...   5.26330   518.586               2\n",
              "67    64  22.222222       98  ...  13.91245   395.976               2\n",
              "70    45  20.260000       92  ...   7.84000   193.870               2\n",
              "81    81  31.640368      100  ...  29.55830   426.175               2\n",
              "83    71  25.510204      112  ...  42.74470   799.898               2\n",
              "87    85  27.688778      196  ...  55.21530  1078.359               2\n",
              "88    48  31.250000      199  ...  53.63080  1698.440               2\n",
              "102   65  30.915577       97  ...  20.46850   396.648               2\n",
              "103   72  29.136316       83  ...  14.76966   232.018               2\n",
              "105   73  37.109375      134  ...   6.89235   788.902               2\n",
              "110   54  36.050000      119  ...   5.06000   218.280               2\n",
              "112   62  26.840000      100  ...   7.32000   330.160               2\n",
              "\n",
              "[23 rows x 10 columns]"
            ]
          },
          "metadata": {
            "tags": []
          },
          "execution_count": 12
        }
      ]
    },
    {
      "cell_type": "markdown",
      "metadata": {
        "id": "6BkQKZJe1iA_",
        "colab_type": "text"
      },
      "source": [
        "Observem que existem 2530 amostras de treinamento e 633 amostras para teste."
      ]
    },
    {
      "cell_type": "markdown",
      "metadata": {
        "id": "3f2Ii-2p56BD",
        "colab_type": "text"
      },
      "source": [
        "Como discutido nas aulas anteriores, é necessário normalizar ou padronizar os dados. "
      ]
    },
    {
      "cell_type": "markdown",
      "metadata": {
        "id": "idzGQiAA3beC",
        "colab_type": "text"
      },
      "source": [
        "# Normalização ou Padronizar os dados"
      ]
    },
    {
      "cell_type": "code",
      "metadata": {
        "id": "WM5ZnZN3JVki",
        "colab_type": "code",
        "colab": {}
      },
      "source": [
        "train_stats = train_dataset.describe()\n",
        "#train_stats.pop(\"EQUIPES_\")\n",
        "train_stats = train_stats.transpose()\n",
        "train_stats\n",
        "\n",
        "def norm(x):\n",
        " # return (x - train_stats['mean']) / train_stats['std']\n",
        " return (x) / train_stats['max']\n",
        "normed_train_data = norm(train_dataset)\n",
        "normed_test_data = norm(test_dataset)"
      ],
      "execution_count": 0,
      "outputs": []
    },
    {
      "cell_type": "markdown",
      "metadata": {
        "id": "Gfpw_vAtKBU-",
        "colab_type": "text"
      },
      "source": [
        "é possível normalizar os dados utilizando o Sklearn\n",
        "\n",
        "* names = datasetSel.columns\n",
        "* scaler = MinMaxScaler()\n",
        "* scaler.fit(datasetSel)\n",
        "* print(scaler.data_max_)\n",
        "* print(scaler.transform(datasetSel))\n",
        "* print(scaler.transform([[2, 2]]))\n",
        "* NormdatasetSel=scaler.transform(datasetSel)\n"
      ]
    },
    {
      "cell_type": "markdown",
      "metadata": {
        "id": "QY0l2x0m50ek",
        "colab_type": "text"
      },
      "source": [
        "Após o processamento é necessário denormalizar os dados\n",
        "\n",
        "scaler.inverse_transform(NormdatasetSel)\n",
        "\n",
        "Mais detalhes em: [link text](https://scikit-learn.org/stable/modules/generated/sklearn.preprocessing.MinMaxScaler.html)\n",
        "\n"
      ]
    },
    {
      "cell_type": "markdown",
      "metadata": {
        "id": "EYxeVqFM3RMQ",
        "colab_type": "text"
      },
      "source": [
        ""
      ]
    },
    {
      "cell_type": "code",
      "metadata": {
        "id": "yU5inGPqLKZr",
        "colab_type": "code",
        "outputId": "9acf142b-7b8b-4b22-86d2-f9589a11b723",
        "colab": {
          "base_uri": "https://localhost:8080/",
          "height": 415
        }
      },
      "source": [
        "normed_train_data"
      ],
      "execution_count": 14,
      "outputs": [
        {
          "output_type": "execute_result",
          "data": {
            "text/html": [
              "<div>\n",
              "<style scoped>\n",
              "    .dataframe tbody tr th:only-of-type {\n",
              "        vertical-align: middle;\n",
              "    }\n",
              "\n",
              "    .dataframe tbody tr th {\n",
              "        vertical-align: top;\n",
              "    }\n",
              "\n",
              "    .dataframe thead th {\n",
              "        text-align: right;\n",
              "    }\n",
              "</style>\n",
              "<table border=\"1\" class=\"dataframe\">\n",
              "  <thead>\n",
              "    <tr style=\"text-align: right;\">\n",
              "      <th></th>\n",
              "      <th>Age</th>\n",
              "      <th>BMI</th>\n",
              "      <th>Glucose</th>\n",
              "      <th>Insulin</th>\n",
              "      <th>HOMA</th>\n",
              "      <th>Leptin</th>\n",
              "      <th>Adiponectin</th>\n",
              "      <th>Resistin</th>\n",
              "      <th>MCP.1</th>\n",
              "      <th>Classification</th>\n",
              "    </tr>\n",
              "  </thead>\n",
              "  <tbody>\n",
              "    <tr>\n",
              "      <th>10</th>\n",
              "      <td>0.382022</td>\n",
              "      <td>0.556524</td>\n",
              "      <td>0.388060</td>\n",
              "      <td>0.059340</td>\n",
              "      <td>0.032352</td>\n",
              "      <td>0.161387</td>\n",
              "      <td>0.344637</td>\n",
              "      <td>0.128932</td>\n",
              "      <td>0.208780</td>\n",
              "      <td>0.5</td>\n",
              "    </tr>\n",
              "    <tr>\n",
              "      <th>74</th>\n",
              "      <td>0.516854</td>\n",
              "      <td>0.575705</td>\n",
              "      <td>0.427861</td>\n",
              "      <td>0.631885</td>\n",
              "      <td>0.379832</td>\n",
              "      <td>0.112539</td>\n",
              "      <td>0.256572</td>\n",
              "      <td>0.105829</td>\n",
              "      <td>0.183698</td>\n",
              "      <td>1.0</td>\n",
              "    </tr>\n",
              "    <tr>\n",
              "      <th>66</th>\n",
              "      <td>0.606742</td>\n",
              "      <td>0.627774</td>\n",
              "      <td>0.427861</td>\n",
              "      <td>0.063804</td>\n",
              "      <td>0.038353</td>\n",
              "      <td>0.096227</td>\n",
              "      <td>0.097404</td>\n",
              "      <td>0.192738</td>\n",
              "      <td>0.373901</td>\n",
              "      <td>1.0</td>\n",
              "    </tr>\n",
              "    <tr>\n",
              "      <th>51</th>\n",
              "      <td>0.865169</td>\n",
              "      <td>0.671354</td>\n",
              "      <td>0.422886</td>\n",
              "      <td>0.078344</td>\n",
              "      <td>0.046546</td>\n",
              "      <td>0.152193</td>\n",
              "      <td>0.256395</td>\n",
              "      <td>0.219371</td>\n",
              "      <td>0.287811</td>\n",
              "      <td>0.5</td>\n",
              "    </tr>\n",
              "    <tr>\n",
              "      <th>7</th>\n",
              "      <td>0.853933</td>\n",
              "      <td>0.616920</td>\n",
              "      <td>0.587065</td>\n",
              "      <td>0.110674</td>\n",
              "      <td>0.091281</td>\n",
              "      <td>0.047751</td>\n",
              "      <td>0.348352</td>\n",
              "      <td>0.095100</td>\n",
              "      <td>0.165266</td>\n",
              "      <td>0.5</td>\n",
              "    </tr>\n",
              "    <tr>\n",
              "      <th>...</th>\n",
              "      <td>...</td>\n",
              "      <td>...</td>\n",
              "      <td>...</td>\n",
              "      <td>...</td>\n",
              "      <td>...</td>\n",
              "      <td>...</td>\n",
              "      <td>...</td>\n",
              "      <td>...</td>\n",
              "      <td>...</td>\n",
              "      <td>...</td>\n",
              "    </tr>\n",
              "    <tr>\n",
              "      <th>20</th>\n",
              "      <td>0.404494</td>\n",
              "      <td>0.740736</td>\n",
              "      <td>0.427861</td>\n",
              "      <td>0.074324</td>\n",
              "      <td>0.044677</td>\n",
              "      <td>0.167532</td>\n",
              "      <td>0.226078</td>\n",
              "      <td>0.170554</td>\n",
              "      <td>0.314538</td>\n",
              "      <td>0.5</td>\n",
              "    </tr>\n",
              "    <tr>\n",
              "      <th>109</th>\n",
              "      <td>0.842697</td>\n",
              "      <td>0.790072</td>\n",
              "      <td>0.756219</td>\n",
              "      <td>0.119911</td>\n",
              "      <td>0.127396</td>\n",
              "      <td>0.559703</td>\n",
              "      <td>0.264458</td>\n",
              "      <td>0.218551</td>\n",
              "      <td>0.058554</td>\n",
              "      <td>1.0</td>\n",
              "    </tr>\n",
              "    <tr>\n",
              "      <th>72</th>\n",
              "      <td>0.573034</td>\n",
              "      <td>0.476169</td>\n",
              "      <td>0.522388</td>\n",
              "      <td>0.103147</td>\n",
              "      <td>0.075701</td>\n",
              "      <td>0.106557</td>\n",
              "      <td>0.335436</td>\n",
              "      <td>0.059808</td>\n",
              "      <td>0.302430</td>\n",
              "      <td>1.0</td>\n",
              "    </tr>\n",
              "    <tr>\n",
              "      <th>77</th>\n",
              "      <td>0.483146</td>\n",
              "      <td>0.810031</td>\n",
              "      <td>0.512438</td>\n",
              "      <td>0.074034</td>\n",
              "      <td>0.053299</td>\n",
              "      <td>0.285574</td>\n",
              "      <td>0.334358</td>\n",
              "      <td>0.720177</td>\n",
              "      <td>0.456491</td>\n",
              "      <td>1.0</td>\n",
              "    </tr>\n",
              "    <tr>\n",
              "      <th>25</th>\n",
              "      <td>0.505618</td>\n",
              "      <td>0.960000</td>\n",
              "      <td>0.412935</td>\n",
              "      <td>0.115635</td>\n",
              "      <td>0.067084</td>\n",
              "      <td>0.442847</td>\n",
              "      <td>0.121376</td>\n",
              "      <td>0.162180</td>\n",
              "      <td>0.345124</td>\n",
              "      <td>0.5</td>\n",
              "    </tr>\n",
              "  </tbody>\n",
              "</table>\n",
              "<p>93 rows × 10 columns</p>\n",
              "</div>"
            ],
            "text/plain": [
              "          Age       BMI   Glucose  ...  Resistin     MCP.1  Classification\n",
              "10   0.382022  0.556524  0.388060  ...  0.128932  0.208780             0.5\n",
              "74   0.516854  0.575705  0.427861  ...  0.105829  0.183698             1.0\n",
              "66   0.606742  0.627774  0.427861  ...  0.192738  0.373901             1.0\n",
              "51   0.865169  0.671354  0.422886  ...  0.219371  0.287811             0.5\n",
              "7    0.853933  0.616920  0.587065  ...  0.095100  0.165266             0.5\n",
              "..        ...       ...       ...  ...       ...       ...             ...\n",
              "20   0.404494  0.740736  0.427861  ...  0.170554  0.314538             0.5\n",
              "109  0.842697  0.790072  0.756219  ...  0.218551  0.058554             1.0\n",
              "72   0.573034  0.476169  0.522388  ...  0.059808  0.302430             1.0\n",
              "77   0.483146  0.810031  0.512438  ...  0.720177  0.456491             1.0\n",
              "25   0.505618  0.960000  0.412935  ...  0.162180  0.345124             0.5\n",
              "\n",
              "[93 rows x 10 columns]"
            ]
          },
          "metadata": {
            "tags": []
          },
          "execution_count": 14
        }
      ]
    },
    {
      "cell_type": "code",
      "metadata": {
        "id": "XnWAHzKILpR5",
        "colab_type": "code",
        "outputId": "3202db2f-f2c3-4c08-88c8-38e653f6ab2b",
        "colab": {
          "base_uri": "https://localhost:8080/",
          "height": 754
        }
      },
      "source": [
        "normed_test_data"
      ],
      "execution_count": 15,
      "outputs": [
        {
          "output_type": "execute_result",
          "data": {
            "text/html": [
              "<div>\n",
              "<style scoped>\n",
              "    .dataframe tbody tr th:only-of-type {\n",
              "        vertical-align: middle;\n",
              "    }\n",
              "\n",
              "    .dataframe tbody tr th {\n",
              "        vertical-align: top;\n",
              "    }\n",
              "\n",
              "    .dataframe thead th {\n",
              "        text-align: right;\n",
              "    }\n",
              "</style>\n",
              "<table border=\"1\" class=\"dataframe\">\n",
              "  <thead>\n",
              "    <tr style=\"text-align: right;\">\n",
              "      <th></th>\n",
              "      <th>Age</th>\n",
              "      <th>BMI</th>\n",
              "      <th>Glucose</th>\n",
              "      <th>Insulin</th>\n",
              "      <th>HOMA</th>\n",
              "      <th>Leptin</th>\n",
              "      <th>Adiponectin</th>\n",
              "      <th>Resistin</th>\n",
              "      <th>MCP.1</th>\n",
              "      <th>Classification</th>\n",
              "    </tr>\n",
              "  </thead>\n",
              "  <tbody>\n",
              "    <tr>\n",
              "      <th>9</th>\n",
              "      <td>0.842697</td>\n",
              "      <td>0.596183</td>\n",
              "      <td>0.412935</td>\n",
              "      <td>0.084707</td>\n",
              "      <td>0.049142</td>\n",
              "      <td>0.189710</td>\n",
              "      <td>0.304390</td>\n",
              "      <td>0.132124</td>\n",
              "      <td>0.187408</td>\n",
              "      <td>0.5</td>\n",
              "    </tr>\n",
              "    <tr>\n",
              "      <th>12</th>\n",
              "      <td>0.280899</td>\n",
              "      <td>0.592554</td>\n",
              "      <td>0.407960</td>\n",
              "      <td>0.069962</td>\n",
              "      <td>0.040099</td>\n",
              "      <td>0.226518</td>\n",
              "      <td>0.622240</td>\n",
              "      <td>0.095767</td>\n",
              "      <td>0.184717</td>\n",
              "      <td>0.5</td>\n",
              "    </tr>\n",
              "    <tr>\n",
              "      <th>21</th>\n",
              "      <td>0.382022</td>\n",
              "      <td>0.828824</td>\n",
              "      <td>0.432836</td>\n",
              "      <td>0.077489</td>\n",
              "      <td>0.047121</td>\n",
              "      <td>0.318456</td>\n",
              "      <td>0.200914</td>\n",
              "      <td>0.104821</td>\n",
              "      <td>0.337241</td>\n",
              "      <td>0.5</td>\n",
              "    </tr>\n",
              "    <tr>\n",
              "      <th>36</th>\n",
              "      <td>0.741573</td>\n",
              "      <td>0.809735</td>\n",
              "      <td>0.407960</td>\n",
              "      <td>0.071519</td>\n",
              "      <td>0.040991</td>\n",
              "      <td>0.179715</td>\n",
              "      <td>0.112174</td>\n",
              "      <td>0.061331</td>\n",
              "      <td>0.373638</td>\n",
              "      <td>0.5</td>\n",
              "    </tr>\n",
              "    <tr>\n",
              "      <th>37</th>\n",
              "      <td>0.775281</td>\n",
              "      <td>0.909638</td>\n",
              "      <td>0.502488</td>\n",
              "      <td>0.096579</td>\n",
              "      <td>0.068180</td>\n",
              "      <td>0.924702</td>\n",
              "      <td>0.178680</td>\n",
              "      <td>1.529670</td>\n",
              "      <td>0.155142</td>\n",
              "      <td>0.5</td>\n",
              "    </tr>\n",
              "    <tr>\n",
              "      <th>39</th>\n",
              "      <td>0.865169</td>\n",
              "      <td>0.922475</td>\n",
              "      <td>0.378109</td>\n",
              "      <td>0.066387</td>\n",
              "      <td>0.035266</td>\n",
              "      <td>0.241319</td>\n",
              "      <td>0.213605</td>\n",
              "      <td>0.321613</td>\n",
              "      <td>0.364023</td>\n",
              "      <td>0.5</td>\n",
              "    </tr>\n",
              "    <tr>\n",
              "      <th>44</th>\n",
              "      <td>0.797753</td>\n",
              "      <td>0.785406</td>\n",
              "      <td>0.507463</td>\n",
              "      <td>0.142662</td>\n",
              "      <td>0.101710</td>\n",
              "      <td>0.625853</td>\n",
              "      <td>0.213722</td>\n",
              "      <td>0.080096</td>\n",
              "      <td>0.118330</td>\n",
              "      <td>0.5</td>\n",
              "    </tr>\n",
              "    <tr>\n",
              "      <th>46</th>\n",
              "      <td>0.842697</td>\n",
              "      <td>0.666170</td>\n",
              "      <td>0.467662</td>\n",
              "      <td>0.138197</td>\n",
              "      <td>0.090799</td>\n",
              "      <td>0.730239</td>\n",
              "      <td>0.098350</td>\n",
              "      <td>0.083784</td>\n",
              "      <td>0.121760</td>\n",
              "      <td>0.5</td>\n",
              "    </tr>\n",
              "    <tr>\n",
              "      <th>47</th>\n",
              "      <td>0.876404</td>\n",
              "      <td>0.655801</td>\n",
              "      <td>0.298507</td>\n",
              "      <td>0.060007</td>\n",
              "      <td>0.025166</td>\n",
              "      <td>0.073471</td>\n",
              "      <td>0.277794</td>\n",
              "      <td>0.086895</td>\n",
              "      <td>0.123495</td>\n",
              "      <td>0.5</td>\n",
              "    </tr>\n",
              "    <tr>\n",
              "      <th>58</th>\n",
              "      <td>0.573034</td>\n",
              "      <td>0.495938</td>\n",
              "      <td>0.462687</td>\n",
              "      <td>0.074649</td>\n",
              "      <td>0.048525</td>\n",
              "      <td>0.122747</td>\n",
              "      <td>0.152671</td>\n",
              "      <td>0.103789</td>\n",
              "      <td>0.053343</td>\n",
              "      <td>1.0</td>\n",
              "    </tr>\n",
              "    <tr>\n",
              "      <th>64</th>\n",
              "      <td>0.662921</td>\n",
              "      <td>0.591851</td>\n",
              "      <td>0.487562</td>\n",
              "      <td>0.117379</td>\n",
              "      <td>0.080403</td>\n",
              "      <td>0.165083</td>\n",
              "      <td>0.111201</td>\n",
              "      <td>0.152872</td>\n",
              "      <td>0.209198</td>\n",
              "      <td>1.0</td>\n",
              "    </tr>\n",
              "    <tr>\n",
              "      <th>65</th>\n",
              "      <td>0.505618</td>\n",
              "      <td>0.599825</td>\n",
              "      <td>0.577114</td>\n",
              "      <td>0.083852</td>\n",
              "      <td>0.067987</td>\n",
              "      <td>0.199350</td>\n",
              "      <td>0.112900</td>\n",
              "      <td>0.098065</td>\n",
              "      <td>0.305331</td>\n",
              "      <td>1.0</td>\n",
              "    </tr>\n",
              "    <tr>\n",
              "      <th>67</th>\n",
              "      <td>0.719101</td>\n",
              "      <td>0.576022</td>\n",
              "      <td>0.487562</td>\n",
              "      <td>0.097503</td>\n",
              "      <td>0.066788</td>\n",
              "      <td>0.135030</td>\n",
              "      <td>0.125762</td>\n",
              "      <td>0.259214</td>\n",
              "      <td>0.233141</td>\n",
              "      <td>1.0</td>\n",
              "    </tr>\n",
              "    <tr>\n",
              "      <th>70</th>\n",
              "      <td>0.505618</td>\n",
              "      <td>0.525159</td>\n",
              "      <td>0.457711</td>\n",
              "      <td>0.058844</td>\n",
              "      <td>0.037839</td>\n",
              "      <td>0.084736</td>\n",
              "      <td>0.438223</td>\n",
              "      <td>0.146073</td>\n",
              "      <td>0.114146</td>\n",
              "      <td>1.0</td>\n",
              "    </tr>\n",
              "    <tr>\n",
              "      <th>81</th>\n",
              "      <td>0.910112</td>\n",
              "      <td>0.820150</td>\n",
              "      <td>0.497512</td>\n",
              "      <td>0.165395</td>\n",
              "      <td>0.115605</td>\n",
              "      <td>0.429847</td>\n",
              "      <td>0.279614</td>\n",
              "      <td>0.550724</td>\n",
              "      <td>0.250921</td>\n",
              "      <td>1.0</td>\n",
              "    </tr>\n",
              "    <tr>\n",
              "      <th>83</th>\n",
              "      <td>0.797753</td>\n",
              "      <td>0.661250</td>\n",
              "      <td>0.557214</td>\n",
              "      <td>0.177814</td>\n",
              "      <td>0.139200</td>\n",
              "      <td>0.211180</td>\n",
              "      <td>0.144219</td>\n",
              "      <td>0.796410</td>\n",
              "      <td>0.470960</td>\n",
              "      <td>1.0</td>\n",
              "    </tr>\n",
              "    <tr>\n",
              "      <th>87</th>\n",
              "      <td>0.955056</td>\n",
              "      <td>0.717721</td>\n",
              "      <td>0.975124</td>\n",
              "      <td>0.886315</td>\n",
              "      <td>1.214224</td>\n",
              "      <td>0.785140</td>\n",
              "      <td>0.207720</td>\n",
              "      <td>1.028760</td>\n",
              "      <td>0.634911</td>\n",
              "      <td>1.0</td>\n",
              "    </tr>\n",
              "    <tr>\n",
              "      <th>88</th>\n",
              "      <td>0.539326</td>\n",
              "      <td>0.810031</td>\n",
              "      <td>0.990050</td>\n",
              "      <td>0.208040</td>\n",
              "      <td>0.289370</td>\n",
              "      <td>0.200835</td>\n",
              "      <td>0.107889</td>\n",
              "      <td>0.999238</td>\n",
              "      <td>1.000000</td>\n",
              "      <td>1.0</td>\n",
              "    </tr>\n",
              "    <tr>\n",
              "      <th>102</th>\n",
              "      <td>0.730337</td>\n",
              "      <td>0.801363</td>\n",
              "      <td>0.482587</td>\n",
              "      <td>0.179456</td>\n",
              "      <td>0.121670</td>\n",
              "      <td>0.487613</td>\n",
              "      <td>0.097531</td>\n",
              "      <td>0.381365</td>\n",
              "      <td>0.233537</td>\n",
              "      <td>1.0</td>\n",
              "    </tr>\n",
              "    <tr>\n",
              "      <th>103</th>\n",
              "      <td>0.808989</td>\n",
              "      <td>0.755242</td>\n",
              "      <td>0.412935</td>\n",
              "      <td>0.187290</td>\n",
              "      <td>0.108655</td>\n",
              "      <td>0.296944</td>\n",
              "      <td>0.073210</td>\n",
              "      <td>0.275185</td>\n",
              "      <td>0.136607</td>\n",
              "      <td>1.0</td>\n",
              "    </tr>\n",
              "    <tr>\n",
              "      <th>105</th>\n",
              "      <td>0.820225</td>\n",
              "      <td>0.961912</td>\n",
              "      <td>0.666667</td>\n",
              "      <td>0.096408</td>\n",
              "      <td>0.090297</td>\n",
              "      <td>0.458644</td>\n",
              "      <td>0.087688</td>\n",
              "      <td>0.128417</td>\n",
              "      <td>0.464486</td>\n",
              "      <td>1.0</td>\n",
              "    </tr>\n",
              "    <tr>\n",
              "      <th>110</th>\n",
              "      <td>0.606742</td>\n",
              "      <td>0.934452</td>\n",
              "      <td>0.592040</td>\n",
              "      <td>0.203729</td>\n",
              "      <td>0.169455</td>\n",
              "      <td>0.988813</td>\n",
              "      <td>0.210568</td>\n",
              "      <td>0.094277</td>\n",
              "      <td>0.128518</td>\n",
              "      <td>1.0</td>\n",
              "    </tr>\n",
              "    <tr>\n",
              "      <th>112</th>\n",
              "      <td>0.696629</td>\n",
              "      <td>0.695720</td>\n",
              "      <td>0.497512</td>\n",
              "      <td>0.077489</td>\n",
              "      <td>0.054162</td>\n",
              "      <td>0.137904</td>\n",
              "      <td>0.563091</td>\n",
              "      <td>0.136385</td>\n",
              "      <td>0.194390</td>\n",
              "      <td>1.0</td>\n",
              "    </tr>\n",
              "  </tbody>\n",
              "</table>\n",
              "</div>"
            ],
            "text/plain": [
              "          Age       BMI   Glucose  ...  Resistin     MCP.1  Classification\n",
              "9    0.842697  0.596183  0.412935  ...  0.132124  0.187408             0.5\n",
              "12   0.280899  0.592554  0.407960  ...  0.095767  0.184717             0.5\n",
              "21   0.382022  0.828824  0.432836  ...  0.104821  0.337241             0.5\n",
              "36   0.741573  0.809735  0.407960  ...  0.061331  0.373638             0.5\n",
              "37   0.775281  0.909638  0.502488  ...  1.529670  0.155142             0.5\n",
              "39   0.865169  0.922475  0.378109  ...  0.321613  0.364023             0.5\n",
              "44   0.797753  0.785406  0.507463  ...  0.080096  0.118330             0.5\n",
              "46   0.842697  0.666170  0.467662  ...  0.083784  0.121760             0.5\n",
              "47   0.876404  0.655801  0.298507  ...  0.086895  0.123495             0.5\n",
              "58   0.573034  0.495938  0.462687  ...  0.103789  0.053343             1.0\n",
              "64   0.662921  0.591851  0.487562  ...  0.152872  0.209198             1.0\n",
              "65   0.505618  0.599825  0.577114  ...  0.098065  0.305331             1.0\n",
              "67   0.719101  0.576022  0.487562  ...  0.259214  0.233141             1.0\n",
              "70   0.505618  0.525159  0.457711  ...  0.146073  0.114146             1.0\n",
              "81   0.910112  0.820150  0.497512  ...  0.550724  0.250921             1.0\n",
              "83   0.797753  0.661250  0.557214  ...  0.796410  0.470960             1.0\n",
              "87   0.955056  0.717721  0.975124  ...  1.028760  0.634911             1.0\n",
              "88   0.539326  0.810031  0.990050  ...  0.999238  1.000000             1.0\n",
              "102  0.730337  0.801363  0.482587  ...  0.381365  0.233537             1.0\n",
              "103  0.808989  0.755242  0.412935  ...  0.275185  0.136607             1.0\n",
              "105  0.820225  0.961912  0.666667  ...  0.128417  0.464486             1.0\n",
              "110  0.606742  0.934452  0.592040  ...  0.094277  0.128518             1.0\n",
              "112  0.696629  0.695720  0.497512  ...  0.136385  0.194390             1.0\n",
              "\n",
              "[23 rows x 10 columns]"
            ]
          },
          "metadata": {
            "tags": []
          },
          "execution_count": 15
        }
      ]
    },
    {
      "cell_type": "markdown",
      "metadata": {
        "id": "WLMPb_sZWw5H",
        "colab_type": "text"
      },
      "source": [
        "# Separando entradas e Saídas"
      ]
    },
    {
      "cell_type": "markdown",
      "metadata": {
        "id": "Gq8Ip-sngEdx",
        "colab_type": "text"
      },
      "source": [
        "Separe o valor alvo (labels), das features. Essa label é o valor no qual o modelo é treinado para prever."
      ]
    },
    {
      "cell_type": "code",
      "metadata": {
        "id": "feMhwaAkW7kQ",
        "colab_type": "code",
        "colab": {}
      },
      "source": [
        "train_labels = normed_train_data.pop('Classification')\n",
        "test_labels = normed_test_data.pop('Classification')"
      ],
      "execution_count": 0,
      "outputs": []
    },
    {
      "cell_type": "markdown",
      "metadata": {
        "id": "Wi48QrHsMobl",
        "colab_type": "text"
      },
      "source": [
        "\n",
        "\n",
        "---\n",
        "\n",
        "\n",
        "# ATÉ AQUI PREPARAMOS OS DADOS\n"
      ]
    },
    {
      "cell_type": "markdown",
      "metadata": {
        "id": "OfghOzeOMwIJ",
        "colab_type": "text"
      },
      "source": [
        "# Agora vamos para a Rede Neural Artificial"
      ]
    },
    {
      "cell_type": "code",
      "metadata": {
        "id": "bGUtejc067Xr",
        "colab_type": "code",
        "colab": {}
      },
      "source": [
        "def build_model():\n",
        "  model = keras.Sequential([\n",
        "    layers.Dense(64, activation=tf.nn.sigmoid, input_shape=[len(train_dataset.keys())-1]),\n",
        "    layers.Dense(32, activation=tf.nn.relu),\n",
        "    #layers.Dense(16, activation=tf.nn.relu),\n",
        "    layers.Dense(1)\n",
        "  ])\n",
        "\n",
        "  optimizer = tf.keras.optimizers.RMSprop(0.02)\n",
        "\n",
        "  model.compile(loss='mean_squared_error',\n",
        "                optimizer=optimizer,\n",
        "                metrics=['mean_absolute_error', 'mean_squared_error'])\n",
        "  return model"
      ],
      "execution_count": 0,
      "outputs": []
    },
    {
      "cell_type": "code",
      "metadata": {
        "id": "uPnWmfsHjUMu",
        "colab_type": "code",
        "colab": {
          "base_uri": "https://localhost:8080/",
          "height": 89
        },
        "outputId": "238d033f-2dca-4dce-99ea-8d31b4186418"
      },
      "source": [
        "model = build_model()"
      ],
      "execution_count": 18,
      "outputs": [
        {
          "output_type": "stream",
          "text": [
            "WARNING:tensorflow:From /usr/local/lib/python3.6/dist-packages/tensorflow_core/python/ops/resource_variable_ops.py:1630: calling BaseResourceVariable.__init__ (from tensorflow.python.ops.resource_variable_ops) with constraint is deprecated and will be removed in a future version.\n",
            "Instructions for updating:\n",
            "If using Keras pass *_constraint arguments to layers.\n"
          ],
          "name": "stdout"
        }
      ]
    },
    {
      "cell_type": "code",
      "metadata": {
        "id": "xbDlZ8-7jU9Y",
        "colab_type": "code",
        "outputId": "915a6af0-f661-4025-fc2a-b116e6191148",
        "colab": {
          "base_uri": "https://localhost:8080/",
          "height": 121
        }
      },
      "source": [
        "# Mostra o progresso do treinamento imprimindo um único ponto para cada epoch completada\n",
        "class PrintDot(keras.callbacks.Callback):\n",
        "  def on_epoch_end(self, epoch, logs):\n",
        "    if epoch % 100 == 0: print('')\n",
        "    print('.', end='')\n",
        "\n",
        "EPOCHS = 500\n",
        "\n",
        "history = model.fit(\n",
        "  normed_train_data, train_labels,\n",
        "  epochs=EPOCHS, validation_split = 0.2, verbose=0,\n",
        "  callbacks=[PrintDot()])"
      ],
      "execution_count": 19,
      "outputs": [
        {
          "output_type": "stream",
          "text": [
            "\n",
            "....................................................................................................\n",
            "....................................................................................................\n",
            "....................................................................................................\n",
            "....................................................................................................\n",
            "...................................................................................................."
          ],
          "name": "stdout"
        }
      ]
    },
    {
      "cell_type": "code",
      "metadata": {
        "id": "AaMyEv8dlvUN",
        "colab_type": "code",
        "outputId": "dfe575a8-0077-4af2-f57b-9bca4dec50a3",
        "colab": {
          "base_uri": "https://localhost:8080/",
          "height": 202
        }
      },
      "source": [
        "hist = pd.DataFrame(history.history)\n",
        "hist['epoch'] = history.epoch\n",
        "hist.tail()"
      ],
      "execution_count": 20,
      "outputs": [
        {
          "output_type": "execute_result",
          "data": {
            "text/html": [
              "<div>\n",
              "<style scoped>\n",
              "    .dataframe tbody tr th:only-of-type {\n",
              "        vertical-align: middle;\n",
              "    }\n",
              "\n",
              "    .dataframe tbody tr th {\n",
              "        vertical-align: top;\n",
              "    }\n",
              "\n",
              "    .dataframe thead th {\n",
              "        text-align: right;\n",
              "    }\n",
              "</style>\n",
              "<table border=\"1\" class=\"dataframe\">\n",
              "  <thead>\n",
              "    <tr style=\"text-align: right;\">\n",
              "      <th></th>\n",
              "      <th>loss</th>\n",
              "      <th>mean_absolute_error</th>\n",
              "      <th>mean_squared_error</th>\n",
              "      <th>val_loss</th>\n",
              "      <th>val_mean_absolute_error</th>\n",
              "      <th>val_mean_squared_error</th>\n",
              "      <th>epoch</th>\n",
              "    </tr>\n",
              "  </thead>\n",
              "  <tbody>\n",
              "    <tr>\n",
              "      <th>495</th>\n",
              "      <td>0.035972</td>\n",
              "      <td>0.149251</td>\n",
              "      <td>0.035972</td>\n",
              "      <td>0.050858</td>\n",
              "      <td>0.199063</td>\n",
              "      <td>0.050858</td>\n",
              "      <td>495</td>\n",
              "    </tr>\n",
              "    <tr>\n",
              "      <th>496</th>\n",
              "      <td>0.033978</td>\n",
              "      <td>0.150108</td>\n",
              "      <td>0.033978</td>\n",
              "      <td>0.049030</td>\n",
              "      <td>0.198342</td>\n",
              "      <td>0.049030</td>\n",
              "      <td>496</td>\n",
              "    </tr>\n",
              "    <tr>\n",
              "      <th>497</th>\n",
              "      <td>0.035727</td>\n",
              "      <td>0.155478</td>\n",
              "      <td>0.035727</td>\n",
              "      <td>0.055019</td>\n",
              "      <td>0.210717</td>\n",
              "      <td>0.055019</td>\n",
              "      <td>497</td>\n",
              "    </tr>\n",
              "    <tr>\n",
              "      <th>498</th>\n",
              "      <td>0.033863</td>\n",
              "      <td>0.150352</td>\n",
              "      <td>0.033863</td>\n",
              "      <td>0.049541</td>\n",
              "      <td>0.182934</td>\n",
              "      <td>0.049541</td>\n",
              "      <td>498</td>\n",
              "    </tr>\n",
              "    <tr>\n",
              "      <th>499</th>\n",
              "      <td>0.038609</td>\n",
              "      <td>0.158052</td>\n",
              "      <td>0.038609</td>\n",
              "      <td>0.060229</td>\n",
              "      <td>0.215021</td>\n",
              "      <td>0.060229</td>\n",
              "      <td>499</td>\n",
              "    </tr>\n",
              "  </tbody>\n",
              "</table>\n",
              "</div>"
            ],
            "text/plain": [
              "         loss  mean_absolute_error  ...  val_mean_squared_error  epoch\n",
              "495  0.035972             0.149251  ...                0.050858    495\n",
              "496  0.033978             0.150108  ...                0.049030    496\n",
              "497  0.035727             0.155478  ...                0.055019    497\n",
              "498  0.033863             0.150352  ...                0.049541    498\n",
              "499  0.038609             0.158052  ...                0.060229    499\n",
              "\n",
              "[5 rows x 7 columns]"
            ]
          },
          "metadata": {
            "tags": []
          },
          "execution_count": 20
        }
      ]
    },
    {
      "cell_type": "code",
      "metadata": {
        "id": "-f2Kc3hkl0SN",
        "colab_type": "code",
        "outputId": "a53d815c-502f-4ba6-82f3-e15768b92ad2",
        "colab": {
          "base_uri": "https://localhost:8080/",
          "height": 541
        }
      },
      "source": [
        "def plot_history(history):\n",
        "  hist = pd.DataFrame(history.history)\n",
        "  hist['epoch'] = history.epoch\n",
        "\n",
        "  plt.figure()\n",
        "  plt.xlabel('Epoch')\n",
        "  plt.ylabel('Mean Abs Error [MPG]')\n",
        "  plt.plot(hist['epoch'], hist['mean_absolute_error'],\n",
        "           label='Train Error')\n",
        "  plt.plot(hist['epoch'], hist['val_mean_absolute_error'],\n",
        "           label = 'Val Error')\n",
        "  #plt.ylim([0,5])\n",
        "  plt.legend()\n",
        "\n",
        "  plt.figure()\n",
        "  plt.xlabel('Epoch')\n",
        "  plt.ylabel('Mean Square Error')\n",
        "  plt.plot(hist['epoch'], hist['mean_squared_error'],\n",
        "           label='Train Error')\n",
        "  plt.plot(hist['epoch'], hist['val_mean_squared_error'],\n",
        "           label = 'Val Error')\n",
        "  #plt.ylim([0,20])\n",
        "  plt.legend()\n",
        "  plt.show()\n",
        "\n",
        "\n",
        "plot_history(history)"
      ],
      "execution_count": 21,
      "outputs": [
        {
          "output_type": "display_data",
          "data": {
            "image/png": "[encoded data removed]",
            "text/plain": [
              "<Figure size 432x288 with 1 Axes>"
            ]
          },
          "metadata": {
            "tags": []
          }
        },
        {
          "output_type": "display_data",
          "data": {
            "image/png": "[encoded data removed]",
            "text/plain": [
              "<Figure size 432x288 with 1 Axes>"
            ]
          },
          "metadata": {
            "tags": []
          }
        }
      ]
    },
    {
      "cell_type": "code",
      "metadata": {
        "id": "fz928mZhl1Fh",
        "colab_type": "code",
        "outputId": "246abceb-c044-4b00-fcbe-2ef689810fd7",
        "colab": {
          "base_uri": "https://localhost:8080/",
          "height": 576
        }
      },
      "source": [
        "model = build_model()\n",
        "\n",
        "# The patience parameter is the amount of epochs to check for improvement\n",
        "early_stop = keras.callbacks.EarlyStopping(monitor='val_loss', patience=10)\n",
        "\n",
        "history = model.fit(normed_train_data, train_labels, epochs=EPOCHS,\n",
        "                    validation_split = 0.2, verbose=0, callbacks=[early_stop, PrintDot()])\n",
        "\n",
        "plot_history(history)"
      ],
      "execution_count": 22,
      "outputs": [
        {
          "output_type": "stream",
          "text": [
            "\n",
            "......................"
          ],
          "name": "stdout"
        },
        {
          "output_type": "display_data",
          "data": {
            "image/png": "[encoded data removed]",
            "text/plain": [
              "<Figure size 432x288 with 1 Axes>"
            ]
          },
          "metadata": {
            "tags": []
          }
        },
        {
          "output_type": "display_data",
          "data": {
            "image/png": "[encoded data removed]",
            "text/plain": [
              "<Figure size 432x288 with 1 Axes>"
            ]
          },
          "metadata": {
            "tags": []
          }
        }
      ]
    },
    {
      "cell_type": "code",
      "metadata": {
        "id": "g9g8GwHjmCiI",
        "colab_type": "code",
        "colab": {}
      },
      "source": [
        "loss, mae, mse = model.evaluate(normed_test_data, test_labels, verbose=0)"
      ],
      "execution_count": 0,
      "outputs": []
    },
    {
      "cell_type": "code",
      "metadata": {
        "id": "p_5an_RzmF78",
        "colab_type": "code",
        "outputId": "e3e3aa3e-6eda-4d0c-a26f-b3ee35aa1ebd",
        "colab": {
          "base_uri": "https://localhost:8080/",
          "height": 279
        }
      },
      "source": [
        "test_predictions = model.predict(normed_test_data).flatten()\n",
        "\n",
        "plt.scatter(test_labels, test_predictions)\n",
        "plt.xlabel('True Values [MPG]')\n",
        "plt.ylabel('Predictions [MPG]')\n",
        "plt.axis('equal')\n",
        "plt.axis('square')\n",
        "plt.xlim([0,plt.xlim()[1]])\n",
        "plt.ylim([0,plt.ylim()[1]])\n",
        "_ = plt.plot([-100, 100], [-100, 100])"
      ],
      "execution_count": 24,
      "outputs": [
        {
          "output_type": "display_data",
          "data": {
            "image/png": "[encoded data removed]",
            "text/plain": [
              "<Figure size 432x288 with 1 Axes>"
            ]
          },
          "metadata": {
            "tags": []
          }
        }
      ]
    },
    {
      "cell_type": "code",
      "metadata": {
        "id": "scsQ1D8LmKL6",
        "colab_type": "code",
        "outputId": "4a9a90a8-67d0-4ef8-c44f-7e813a66b99a",
        "colab": {
          "base_uri": "https://localhost:8080/",
          "height": 279
        }
      },
      "source": [
        "error = test_predictions - test_labels\n",
        "plt.hist(error, bins = 25)\n",
        "plt.xlabel(\"Prediction Error [MPG]\")\n",
        "_ = plt.ylabel(\"Count\")"
      ],
      "execution_count": 25,
      "outputs": [
        {
          "output_type": "display_data",
          "data": {
            "image/png": "[encoded data removed]",
            "text/plain": [
              "<Figure size 432x288 with 1 Axes>"
            ]
          },
          "metadata": {
            "tags": []
          }
        }
      ]
    }
  ]
}